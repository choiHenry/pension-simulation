{
 "cells": [
  {
   "cell_type": "code",
   "execution_count": 1,
   "id": "56f837e5",
   "metadata": {},
   "outputs": [],
   "source": [
    "import warnings\n",
    "warnings.filterwarnings('ignore')"
   ]
  },
  {
   "cell_type": "code",
   "execution_count": 1,
   "id": "5a50a9ce",
   "metadata": {},
   "outputs": [
    {
     "data": {
      "text/plain": [
       "254.66290897019599"
      ]
     },
     "execution_count": 1,
     "metadata": {},
     "output_type": "execute_result"
    }
   ],
   "source": [
    "sum([259.9734, 259.9734/1.021, 259.9734/1.021**2]) / 3"
   ]
  },
  {
   "cell_type": "code",
   "execution_count": 37,
   "id": "bba9347e",
   "metadata": {},
   "outputs": [],
   "source": [
    "import numpy as np\n",
    "import pandas as pd\n",
    "import math\n",
    "\n",
    "class Pension:\n",
    "    \n",
    "    def __init__(self, wage_history=None, delivery_year=None, military_year=None, rp_entitlement_year=None):\n",
    "        self.wage_history = wage_history\n",
    "        self.delivery_year = delivery_year\n",
    "        self.military_year = military_year\n",
    "        self.p = {\n",
    "            1988: 2.4, 1989: 2.4, 1990: 2.4, 1991: 2.4, 1992: 2.4, 1993: 2.4, 1994: 2.4, 1995: 2.4, 1996: 2.4, 1997: 2.4, 1998: 2.4,\n",
    "            1999: 1.8, 2000: 1.8, 2001: 1.8, 2002: 1.8, 2003: 1.8, 2004: 1.8, 2005: 1.8, 2006: 1.8, 2007: 1.8,\n",
    "            2008: 1.5, 2009: 1.485, 2010: 1.470, 2011: 1.455, 2012: 1.440, 2013: 1.425, 2014: 1.410, 2015: 1.395, 2016: 1.380, 2017: 1.365, 2018: 1.350, 2019: 1.335, 2020: 1.320,\n",
    "            2021: 1.305, 2022: 1.290, 2023: 1.275, 2024: 1.260, 2025: 1.245, 2026: 1.230, 2027: 1.215, 2028: 1.2\n",
    "        }\n",
    "        self.A = 254.6629 # 2020 기준으로 A(실질임금 상승률을 반영한 2018-2020 평균 가입자평균소득월액) 계산\n",
    "        self.delivery_credit = 1\n",
    "        self.military_credit = 0.5\n",
    "        self.rp_enforcement_year = 2020\n",
    "        self.rp_entitlement_year = rp_entitlement_year\n",
    "    \n",
    "    def national_pension(self):\n",
    "        # 수급시점 기준으로 연금액을 산정한 다음 물가상승률을 기준으로 할인하여 2021년 기준으로 환산\n",
    "    \n",
    "        entitlement_year = self.wage_history.iloc[-1, 0] + 1\n",
    "        print(f\"entitlement_year: {entitlement_year}\")\n",
    "        print(f\"A_base: {self.A}\")\n",
    "        \n",
    "        A = self.A * 1.035 ** (entitlement_year - 2020)\n",
    "        print(f\"A: {A}\")\n",
    "        # 월소득 -> 기준소득월액\n",
    "        self.wage_history['wage_with_upper_limit'] = self.wage_history['wage']\\\n",
    "                                                        .apply(lambda wage: min(wage, 504))\n",
    "        \n",
    "            \n",
    "        # 2020년 기준으로 B 계산 후 수급시점 기준으로 환산\n",
    "        self.wage_history['standard_wage'] = self.wage_history['wage_with_upper_limit']\\\n",
    "                                                .apply(lambda wage: math.floor(wage * 10) / 10 if not pd.isna(wage) else wage)\n",
    "\n",
    "        B_base = self.wage_history['standard_wage'].mean()\n",
    "        B = B_base * 1.02 ** (entitlement_year - 2020)\n",
    "        print(f\"B_2020: {B_base}\")\n",
    "        print(f\"B: {B}\")\n",
    "        # C, Y 계산\n",
    "        if self.delivery_year:\n",
    "            if self.delivery_year > 2028:\n",
    "                Y = 1.2\n",
    "            else:\n",
    "                Y = self.p[self.delivery_year]\n",
    "            C = self.delivery_credit\n",
    "        elif self.military_year:\n",
    "            Y = self.p[self.military_year]\n",
    "            C = self.military_credit\n",
    "        else:\n",
    "            Y = 0\n",
    "            C = 0\n",
    "        print(f\"Y: {Y}\\nC: {C}\")\n",
    "        \n",
    "        # X 계산\n",
    "        X = 1.2\n",
    "        print(f\"X: {X}\")\n",
    "        \n",
    "        # n 계산: 실업기간에는 국민연금 미가입 상태로 가정\n",
    "        P = self.wage_history['standard_wage'].count()\n",
    "        n = max(0, P - 20)\n",
    "        print(f\"P: {P}\\nn: {n}\")\n",
    "        \n",
    "\n",
    "        # P_n 계산\n",
    "        self.wage_history['P_n'] = self.wage_history\\\n",
    "                                    .apply(lambda row: self.p[row['year']] if row['year'] <= 2028 else 1.2, axis=1)\n",
    "            \n",
    "    \n",
    "        # A+B 계산\n",
    "        self.wage_history['A+B'] = self.wage_history\\\n",
    "                                    .apply(lambda row: A+B if row['year'] >= 1999 else A+0.75*B, axis=1)\n",
    "        \n",
    "        # A+B x P_n\n",
    "        self.wage_history['(A+B)*P_n'] = self.wage_history\\\n",
    "                                    .apply(lambda row: row['A+B'] * row['P_n'] if not pd.isna(row['standard_wage']) else np.nan, axis=1)\n",
    "        \n",
    "        intermediate_sum = self.wage_history['(A+B)*P_n'].sum()\n",
    "        total = (intermediate_sum + (Y * (A + A) * C) + (X * (A + 1/2 * A) * 0.5)) * (1 + 0.05*n) / P\n",
    "        deflated_total = total / 1.02**(entitlement_year-2020)\n",
    "        print(f\"2020년 가치로 환산한 수급시점 {entitlement_year}의 노령연금액(annuity): {deflated_total}\")\n",
    "        r = 1 + 0.02 / 12\n",
    "        monthly = (1-r) / (1 - r**12) * deflated_total\n",
    "        print(f\"2020년 가치로 환산한 수급시점 {entitlement_year}의 노령연금 월지급액(annuity): {monthly}\")\n",
    "        \n",
    "        return B_base, pd.DataFrame.from_dict({'연금액': [monthly], '소득대체율': [monthly / B_base], '평균임금대비': [monthly / 318]})\n",
    "    \n",
    "    def dc(self):\n",
    "        \"\"\"\n",
    "        dc 방식\n",
    "        정부 4.17% 보조\n",
    "        연금비율 5%\n",
    "        실질수익률 4%\n",
    "        보험요율 8.3%\n",
    "        실질금리 2%\n",
    "        \"\"\"\n",
    "        self.wage_history['annual_saving'] = self.wage_history\\\n",
    "                                                .apply(lambda row: 12 * row['wage'] * 0.0417 * 3 if row['year'] >= self.rp_enforcement_year else np.nan, axis=1)\n",
    "        \n",
    "        self.wage_history['annual_reserve'] = self.wage_history\\\n",
    "                                                .apply(lambda row: row['annual_saving'] * 1.04 ** (self.rp_entitlement_year - row['year']), axis=1)\n",
    "        print(self.wage_history.head())\n",
    "        \n",
    "        rp_fund = self.wage_history['annual_reserve'].sum()\n",
    "        print(f\"퇴직연금 적립액: {rp_fund}\")\n",
    "        \n",
    "        rp_annuity = 0.05 * rp_fund\n",
    "        r = 1 + 0.02 / 12\n",
    "        rp_monthly = (1-r) / (1 - r**12) * rp_annuity\n",
    "        print(f\"monthly retirement pension payment: {rp_monthly}\")\n",
    "        np_result = self.national_pension()\n",
    "        B_base = np_result[0]\n",
    "        np_monthly = np_result[1].iloc[0, 0]\n",
    "        \n",
    "        return pd.concat([np_result[1], pd.DataFrame.from_dict({'퇴직연금액': [rp_monthly], '합산연금액': [rp_monthly + np_monthly], '생애평균임금': [B_base], '합산소득대체율': [(rp_monthly+np_monthly) / B_base], '평균임금대비': [(rp_monthly+np_monthly) / 318]})], axis=1)"
   ]
  },
  {
   "cell_type": "code",
   "execution_count": 38,
   "id": "0a0de8dd",
   "metadata": {},
   "outputs": [
    {
     "data": {
      "text/html": [
       "<div>\n",
       "<style scoped>\n",
       "    .dataframe tbody tr th:only-of-type {\n",
       "        vertical-align: middle;\n",
       "    }\n",
       "\n",
       "    .dataframe tbody tr th {\n",
       "        vertical-align: top;\n",
       "    }\n",
       "\n",
       "    .dataframe thead th {\n",
       "        text-align: right;\n",
       "    }\n",
       "</style>\n",
       "<table border=\"1\" class=\"dataframe\">\n",
       "  <thead>\n",
       "    <tr style=\"text-align: right;\">\n",
       "      <th></th>\n",
       "      <th>Unnamed: 0</th>\n",
       "      <th>year</th>\n",
       "      <th>age</th>\n",
       "      <th>group_1</th>\n",
       "      <th>group_2</th>\n",
       "      <th>group_3</th>\n",
       "      <th>group_4</th>\n",
       "      <th>group_5</th>\n",
       "      <th>group_6</th>\n",
       "    </tr>\n",
       "  </thead>\n",
       "  <tbody>\n",
       "    <tr>\n",
       "      <th>41</th>\n",
       "      <td>41</td>\n",
       "      <td>2060</td>\n",
       "      <td>60</td>\n",
       "      <td>NaN</td>\n",
       "      <td>NaN</td>\n",
       "      <td>NaN</td>\n",
       "      <td>191.899107</td>\n",
       "      <td>241.49699</td>\n",
       "      <td>193.389172</td>\n",
       "    </tr>\n",
       "    <tr>\n",
       "      <th>42</th>\n",
       "      <td>42</td>\n",
       "      <td>2061</td>\n",
       "      <td>61</td>\n",
       "      <td>NaN</td>\n",
       "      <td>NaN</td>\n",
       "      <td>NaN</td>\n",
       "      <td>188.067511</td>\n",
       "      <td>NaN</td>\n",
       "      <td>NaN</td>\n",
       "    </tr>\n",
       "    <tr>\n",
       "      <th>43</th>\n",
       "      <td>43</td>\n",
       "      <td>2062</td>\n",
       "      <td>62</td>\n",
       "      <td>NaN</td>\n",
       "      <td>NaN</td>\n",
       "      <td>NaN</td>\n",
       "      <td>184.129481</td>\n",
       "      <td>NaN</td>\n",
       "      <td>NaN</td>\n",
       "    </tr>\n",
       "    <tr>\n",
       "      <th>44</th>\n",
       "      <td>44</td>\n",
       "      <td>2063</td>\n",
       "      <td>63</td>\n",
       "      <td>NaN</td>\n",
       "      <td>NaN</td>\n",
       "      <td>NaN</td>\n",
       "      <td>180.297885</td>\n",
       "      <td>NaN</td>\n",
       "      <td>NaN</td>\n",
       "    </tr>\n",
       "    <tr>\n",
       "      <th>45</th>\n",
       "      <td>45</td>\n",
       "      <td>2064</td>\n",
       "      <td>64</td>\n",
       "      <td>NaN</td>\n",
       "      <td>NaN</td>\n",
       "      <td>NaN</td>\n",
       "      <td>176.466289</td>\n",
       "      <td>NaN</td>\n",
       "      <td>NaN</td>\n",
       "    </tr>\n",
       "  </tbody>\n",
       "</table>\n",
       "</div>"
      ],
      "text/plain": [
       "    Unnamed: 0  year  age  group_1  group_2  group_3     group_4    group_5  \\\n",
       "41          41  2060   60      NaN      NaN      NaN  191.899107  241.49699   \n",
       "42          42  2061   61      NaN      NaN      NaN  188.067511        NaN   \n",
       "43          43  2062   62      NaN      NaN      NaN  184.129481        NaN   \n",
       "44          44  2063   63      NaN      NaN      NaN  180.297885        NaN   \n",
       "45          45  2064   64      NaN      NaN      NaN  176.466289        NaN   \n",
       "\n",
       "       group_6  \n",
       "41  193.389172  \n",
       "42         NaN  \n",
       "43         NaN  \n",
       "44         NaN  \n",
       "45         NaN  "
      ]
     },
     "execution_count": 38,
     "metadata": {},
     "output_type": "execute_result"
    }
   ],
   "source": [
    "df_2000 = pd.read_csv('../data/new/wage_history_2000.csv')\n",
    "df_2000.tail()"
   ]
  },
  {
   "cell_type": "code",
   "execution_count": 39,
   "id": "8520d58c",
   "metadata": {},
   "outputs": [],
   "source": [
    "df_2000_group_1 = df_2000[['year', 'group_1']]\n",
    "df_2000_group_1.columns = ['year', 'wage']\n",
    "df_2000_group_2 = df_2000[['year', 'group_2']]\n",
    "df_2000_group_2.columns = ['year', 'wage']\n",
    "df_2000_group_3 = df_2000[['year', 'group_3']]\n",
    "df_2000_group_3.columns = ['year', 'wage']\n",
    "df_2000_group_4 = df_2000[['year', 'group_4']]\n",
    "df_2000_group_4.columns = ['year', 'wage']\n",
    "df_2000_group_5 = df_2000[['year', 'group_5']]\n",
    "df_2000_group_5.columns = ['year', 'wage']\n",
    "df_2000_group_6 = df_2000[['year', 'group_6']]\n",
    "df_2000_group_6.columns = ['year', 'wage']"
   ]
  },
  {
   "cell_type": "code",
   "execution_count": 40,
   "id": "4d93cf20",
   "metadata": {},
   "outputs": [],
   "source": [
    "pension_2000_group_1 = Pension(df_2000_group_1, rp_entitlement_year=2055)\n",
    "pension_2000_group_2 = Pension(df_2000_group_2, military_year=2021)\n",
    "pension_2000_group_3 = Pension(df_2000_group_3)\n",
    "pension_2000_group_4 = Pension(df_2000_group_4, delivery_year=2029)\n",
    "pension_2000_group_5 = Pension(df_2000_group_5, military_year=2020)\n",
    "pension_2000_group_6 = Pension(df_2000_group_6, delivery_year=2029)"
   ]
  },
  {
   "cell_type": "code",
   "execution_count": 41,
   "id": "0a5c656d",
   "metadata": {},
   "outputs": [
    {
     "name": "stdout",
     "output_type": "stream",
     "text": [
      "entitlement_year: 2065\n",
      "A_base: 254.6629\n",
      "A: 1197.516265523042\n",
      "B_2020: 264.44848484848484\n",
      "B: 644.6868508734481\n",
      "Y: 0\n",
      "C: 0\n",
      "X: 1.2\n",
      "P: 33\n",
      "n: 13\n",
      "2020년 가치로 환산한 수급시점 2065의 노령연금액(annuity): 1530.2248565088844\n",
      "2020년 가치로 환산한 수급시점 2065의 노령연금 월지급액(annuity): 126.35403384144303\n"
     ]
    },
    {
     "data": {
      "text/plain": [
       "(264.44848484848484,\n",
       "           연금액     소득대체율   평균임금대비\n",
       " 0  126.354034  0.477802  0.39734)"
      ]
     },
     "execution_count": 41,
     "metadata": {},
     "output_type": "execute_result"
    }
   ],
   "source": [
    "pension_2000_group_1.national_pension()"
   ]
  },
  {
   "cell_type": "code",
   "execution_count": 42,
   "id": "d0ecbf7f",
   "metadata": {},
   "outputs": [
    {
     "name": "stdout",
     "output_type": "stream",
     "text": [
      "   year        wage  wage_with_upper_limit  standard_wage    P_n          A+B  \\\n",
      "0  2019         NaN                    NaN            NaN  1.335  1842.203116   \n",
      "1  2020         NaN                    NaN            NaN  1.320  1842.203116   \n",
      "2  2021         NaN                    NaN            NaN  1.305  1842.203116   \n",
      "3  2022  182.570443             182.570443          182.5  1.290  1842.203116   \n",
      "4  2023  184.200432             184.200432          184.2  1.275  1842.203116   \n",
      "\n",
      "     (A+B)*P_n  annual_saving  annual_reserve  \n",
      "0          NaN            NaN             NaN  \n",
      "1          NaN            NaN             NaN  \n",
      "2          NaN            NaN             NaN  \n",
      "3  2376.442020     274.074748      999.929131  \n",
      "4  2348.808973     276.521688      970.054326  \n",
      "퇴직연금 적립액: 25142.20621295351\n",
      "monthly retirement pension payment: 103.80236476905063\n",
      "entitlement_year: 2065\n",
      "A_base: 254.6629\n",
      "A: 1197.516265523042\n",
      "B_2020: 264.44848484848484\n",
      "B: 644.6868508734481\n",
      "Y: 0\n",
      "C: 0\n",
      "X: 1.2\n",
      "P: 33\n",
      "n: 13\n",
      "2020년 가치로 환산한 수급시점 2065의 노령연금액(annuity): 1530.2248565088844\n",
      "2020년 가치로 환산한 수급시점 2065의 노령연금 월지급액(annuity): 126.35403384144303\n"
     ]
    },
    {
     "data": {
      "text/html": [
       "<div>\n",
       "<style scoped>\n",
       "    .dataframe tbody tr th:only-of-type {\n",
       "        vertical-align: middle;\n",
       "    }\n",
       "\n",
       "    .dataframe tbody tr th {\n",
       "        vertical-align: top;\n",
       "    }\n",
       "\n",
       "    .dataframe thead th {\n",
       "        text-align: right;\n",
       "    }\n",
       "</style>\n",
       "<table border=\"1\" class=\"dataframe\">\n",
       "  <thead>\n",
       "    <tr style=\"text-align: right;\">\n",
       "      <th></th>\n",
       "      <th>연금액</th>\n",
       "      <th>소득대체율</th>\n",
       "      <th>평균임금대비</th>\n",
       "      <th>퇴직연금액</th>\n",
       "      <th>합산연금액</th>\n",
       "      <th>생애평균임금</th>\n",
       "      <th>합산소득대체율</th>\n",
       "      <th>평균임금대비</th>\n",
       "    </tr>\n",
       "  </thead>\n",
       "  <tbody>\n",
       "    <tr>\n",
       "      <th>0</th>\n",
       "      <td>126.354034</td>\n",
       "      <td>0.477802</td>\n",
       "      <td>0.39734</td>\n",
       "      <td>103.802365</td>\n",
       "      <td>230.156399</td>\n",
       "      <td>264.448485</td>\n",
       "      <td>0.870326</td>\n",
       "      <td>0.723762</td>\n",
       "    </tr>\n",
       "  </tbody>\n",
       "</table>\n",
       "</div>"
      ],
      "text/plain": [
       "          연금액     소득대체율   평균임금대비       퇴직연금액       합산연금액      생애평균임금  \\\n",
       "0  126.354034  0.477802  0.39734  103.802365  230.156399  264.448485   \n",
       "\n",
       "    합산소득대체율    평균임금대비  \n",
       "0  0.870326  0.723762  "
      ]
     },
     "execution_count": 42,
     "metadata": {},
     "output_type": "execute_result"
    }
   ],
   "source": [
    "pension_2000_group_1.dc()"
   ]
  },
  {
   "cell_type": "code",
   "execution_count": 36,
   "id": "704ba5bb",
   "metadata": {},
   "outputs": [
    {
     "data": {
      "text/plain": [
       "274.07474903160005"
      ]
     },
     "execution_count": 36,
     "metadata": {},
     "output_type": "execute_result"
    }
   ],
   "source": [
    "182.570443 * 0.0417 * 3 * 12"
   ]
  },
  {
   "cell_type": "code",
   "execution_count": 26,
   "id": "90cbb735",
   "metadata": {},
   "outputs": [
    {
     "data": {
      "text/plain": [
       "1874.8329482993372"
      ]
     },
     "execution_count": 26,
     "metadata": {},
     "output_type": "execute_result"
    }
   ],
   "source": [
    "274.074748 * 1.06 ** (2055 - 2022)"
   ]
  },
  {
   "cell_type": "code",
   "execution_count": 357,
   "id": "c7d2342e",
   "metadata": {},
   "outputs": [
    {
     "name": "stdout",
     "output_type": "stream",
     "text": [
      "entitlement_year: 2065\n",
      "A_base: 254.6629\n",
      "A: 1197.516265523042\n",
      "B_2020: 410.8633333333334\n",
      "B: 1001.6249049707955\n",
      "Y: 1.305\n",
      "C: 0.5\n",
      "X: 1.2\n",
      "P: 33\n",
      "n: 13\n",
      "2020년 가치로 환산한 수급시점 2065의 노령연금액(annuity): 1679.931611123641\n",
      "2020년 가치로 환산한 수급시점 2065의 노령연금 월지급액(annuity): 138.7156500172784\n"
     ]
    },
    {
     "data": {
      "text/html": [
       "<div>\n",
       "<style scoped>\n",
       "    .dataframe tbody tr th:only-of-type {\n",
       "        vertical-align: middle;\n",
       "    }\n",
       "\n",
       "    .dataframe tbody tr th {\n",
       "        vertical-align: top;\n",
       "    }\n",
       "\n",
       "    .dataframe thead th {\n",
       "        text-align: right;\n",
       "    }\n",
       "</style>\n",
       "<table border=\"1\" class=\"dataframe\">\n",
       "  <thead>\n",
       "    <tr style=\"text-align: right;\">\n",
       "      <th></th>\n",
       "      <th>연금액</th>\n",
       "      <th>소득대체율</th>\n",
       "      <th>평균임금대비</th>\n",
       "    </tr>\n",
       "  </thead>\n",
       "  <tbody>\n",
       "    <tr>\n",
       "      <th>0</th>\n",
       "      <td>138.71565</td>\n",
       "      <td>0.33762</td>\n",
       "      <td>0.436213</td>\n",
       "    </tr>\n",
       "  </tbody>\n",
       "</table>\n",
       "</div>"
      ],
      "text/plain": [
       "         연금액    소득대체율    평균임금대비\n",
       "0  138.71565  0.33762  0.436213"
      ]
     },
     "execution_count": 357,
     "metadata": {},
     "output_type": "execute_result"
    }
   ],
   "source": [
    "pension_2000_group_2.national_pension()"
   ]
  },
  {
   "cell_type": "code",
   "execution_count": 358,
   "id": "36fc75df",
   "metadata": {},
   "outputs": [
    {
     "name": "stdout",
     "output_type": "stream",
     "text": [
      "entitlement_year: 2065\n",
      "A_base: 254.6629\n",
      "A: 1197.516265523042\n",
      "B_2020: 226.05806451612904\n",
      "B: 551.0966032229281\n",
      "Y: 0\n",
      "C: 0\n",
      "X: 1.2\n",
      "P: 33\n",
      "n: 13\n",
      "2020년 가치로 환산한 수급시점 2065의 노령연금액(annuity): 1361.6166041075116\n",
      "2020년 가치로 환산한 수급시점 2065의 노령연금 월지급액(annuity): 112.43167939840113\n"
     ]
    },
    {
     "data": {
      "text/html": [
       "<div>\n",
       "<style scoped>\n",
       "    .dataframe tbody tr th:only-of-type {\n",
       "        vertical-align: middle;\n",
       "    }\n",
       "\n",
       "    .dataframe tbody tr th {\n",
       "        vertical-align: top;\n",
       "    }\n",
       "\n",
       "    .dataframe thead th {\n",
       "        text-align: right;\n",
       "    }\n",
       "</style>\n",
       "<table border=\"1\" class=\"dataframe\">\n",
       "  <thead>\n",
       "    <tr style=\"text-align: right;\">\n",
       "      <th></th>\n",
       "      <th>연금액</th>\n",
       "      <th>소득대체율</th>\n",
       "      <th>평균임금대비</th>\n",
       "    </tr>\n",
       "  </thead>\n",
       "  <tbody>\n",
       "    <tr>\n",
       "      <th>0</th>\n",
       "      <td>112.431679</td>\n",
       "      <td>0.497358</td>\n",
       "      <td>0.353559</td>\n",
       "    </tr>\n",
       "  </tbody>\n",
       "</table>\n",
       "</div>"
      ],
      "text/plain": [
       "          연금액     소득대체율    평균임금대비\n",
       "0  112.431679  0.497358  0.353559"
      ]
     },
     "execution_count": 358,
     "metadata": {},
     "output_type": "execute_result"
    }
   ],
   "source": [
    "pension_2000_group_3.national_pension()"
   ]
  },
  {
   "cell_type": "code",
   "execution_count": 359,
   "id": "7a920728",
   "metadata": {},
   "outputs": [
    {
     "name": "stdout",
     "output_type": "stream",
     "text": [
      "entitlement_year: 2065\n",
      "A_base: 254.6629\n",
      "A: 1197.516265523042\n",
      "B_2020: 172.9838709677419\n",
      "B: 421.70945728801496\n",
      "Y: 1.2\n",
      "C: 1\n",
      "X: 1.2\n",
      "P: 33\n",
      "n: 13\n",
      "2020년 가치로 환산한 수급시점 2065의 노령연금액(annuity): 1337.387457961375\n",
      "2020년 가치로 환산한 수급시점 2065의 노령연금 월지급액(annuity): 110.43102548203309\n"
     ]
    },
    {
     "data": {
      "text/html": [
       "<div>\n",
       "<style scoped>\n",
       "    .dataframe tbody tr th:only-of-type {\n",
       "        vertical-align: middle;\n",
       "    }\n",
       "\n",
       "    .dataframe tbody tr th {\n",
       "        vertical-align: top;\n",
       "    }\n",
       "\n",
       "    .dataframe thead th {\n",
       "        text-align: right;\n",
       "    }\n",
       "</style>\n",
       "<table border=\"1\" class=\"dataframe\">\n",
       "  <thead>\n",
       "    <tr style=\"text-align: right;\">\n",
       "      <th></th>\n",
       "      <th>연금액</th>\n",
       "      <th>소득대체율</th>\n",
       "      <th>평균임금대비</th>\n",
       "    </tr>\n",
       "  </thead>\n",
       "  <tbody>\n",
       "    <tr>\n",
       "      <th>0</th>\n",
       "      <td>110.431025</td>\n",
       "      <td>0.638389</td>\n",
       "      <td>0.347267</td>\n",
       "    </tr>\n",
       "  </tbody>\n",
       "</table>\n",
       "</div>"
      ],
      "text/plain": [
       "          연금액     소득대체율    평균임금대비\n",
       "0  110.431025  0.638389  0.347267"
      ]
     },
     "execution_count": 359,
     "metadata": {},
     "output_type": "execute_result"
    }
   ],
   "source": [
    "pension_2000_group_4.national_pension()"
   ]
  },
  {
   "cell_type": "code",
   "execution_count": 360,
   "id": "4dd341a5",
   "metadata": {},
   "outputs": [
    {
     "name": "stdout",
     "output_type": "stream",
     "text": [
      "entitlement_year: 2065\n",
      "A_base: 254.6629\n",
      "A: 1197.516265523042\n",
      "B_2020: 235.6516129032258\n",
      "B: 574.484275502174\n",
      "Y: 1.32\n",
      "C: 0.5\n",
      "X: 1.2\n",
      "P: 33\n",
      "n: 13\n",
      "2020년 가치로 환산한 수급시점 2065의 노령연금액(annuity): 1417.9495692499027\n",
      "2020년 가치로 환산한 수급시점 2065의 노령연금 월지급액(annuity): 117.08321629751383\n"
     ]
    },
    {
     "data": {
      "text/html": [
       "<div>\n",
       "<style scoped>\n",
       "    .dataframe tbody tr th:only-of-type {\n",
       "        vertical-align: middle;\n",
       "    }\n",
       "\n",
       "    .dataframe tbody tr th {\n",
       "        vertical-align: top;\n",
       "    }\n",
       "\n",
       "    .dataframe thead th {\n",
       "        text-align: right;\n",
       "    }\n",
       "</style>\n",
       "<table border=\"1\" class=\"dataframe\">\n",
       "  <thead>\n",
       "    <tr style=\"text-align: right;\">\n",
       "      <th></th>\n",
       "      <th>연금액</th>\n",
       "      <th>소득대체율</th>\n",
       "      <th>평균임금대비</th>\n",
       "    </tr>\n",
       "  </thead>\n",
       "  <tbody>\n",
       "    <tr>\n",
       "      <th>0</th>\n",
       "      <td>117.083216</td>\n",
       "      <td>0.496849</td>\n",
       "      <td>0.368186</td>\n",
       "    </tr>\n",
       "  </tbody>\n",
       "</table>\n",
       "</div>"
      ],
      "text/plain": [
       "          연금액     소득대체율    평균임금대비\n",
       "0  117.083216  0.496849  0.368186"
      ]
     },
     "execution_count": 360,
     "metadata": {},
     "output_type": "execute_result"
    }
   ],
   "source": [
    "pension_2000_group_5.national_pension()"
   ]
  },
  {
   "cell_type": "code",
   "execution_count": 361,
   "id": "33f07826",
   "metadata": {},
   "outputs": [
    {
     "name": "stdout",
     "output_type": "stream",
     "text": [
      "entitlement_year: 2065\n",
      "A_base: 254.6629\n",
      "A: 1197.516265523042\n",
      "B_2020: 164.74285714285716\n",
      "B: 401.6190670790732\n",
      "Y: 1.2\n",
      "C: 1\n",
      "X: 1.2\n",
      "P: 33\n",
      "n: 13\n",
      "2020년 가치로 환산한 수급시점 2065의 노령연금액(annuity): 928.2234601831808\n",
      "2020년 가치로 환산한 수급시점 2065의 노령연금 월지급액(annuity): 76.64545377205877\n"
     ]
    },
    {
     "data": {
      "text/html": [
       "<div>\n",
       "<style scoped>\n",
       "    .dataframe tbody tr th:only-of-type {\n",
       "        vertical-align: middle;\n",
       "    }\n",
       "\n",
       "    .dataframe tbody tr th {\n",
       "        vertical-align: top;\n",
       "    }\n",
       "\n",
       "    .dataframe thead th {\n",
       "        text-align: right;\n",
       "    }\n",
       "</style>\n",
       "<table border=\"1\" class=\"dataframe\">\n",
       "  <thead>\n",
       "    <tr style=\"text-align: right;\">\n",
       "      <th></th>\n",
       "      <th>연금액</th>\n",
       "      <th>소득대체율</th>\n",
       "      <th>평균임금대비</th>\n",
       "    </tr>\n",
       "  </thead>\n",
       "  <tbody>\n",
       "    <tr>\n",
       "      <th>0</th>\n",
       "      <td>76.645454</td>\n",
       "      <td>0.465243</td>\n",
       "      <td>0.241023</td>\n",
       "    </tr>\n",
       "  </tbody>\n",
       "</table>\n",
       "</div>"
      ],
      "text/plain": [
       "         연금액     소득대체율    평균임금대비\n",
       "0  76.645454  0.465243  0.241023"
      ]
     },
     "execution_count": 361,
     "metadata": {},
     "output_type": "execute_result"
    }
   ],
   "source": [
    "pension_2000_group_6.national_pension()"
   ]
  },
  {
   "cell_type": "code",
   "execution_count": 362,
   "id": "89e2a3c3",
   "metadata": {},
   "outputs": [
    {
     "data": {
      "text/html": [
       "<div>\n",
       "<style scoped>\n",
       "    .dataframe tbody tr th:only-of-type {\n",
       "        vertical-align: middle;\n",
       "    }\n",
       "\n",
       "    .dataframe tbody tr th {\n",
       "        vertical-align: top;\n",
       "    }\n",
       "\n",
       "    .dataframe thead th {\n",
       "        text-align: right;\n",
       "    }\n",
       "</style>\n",
       "<table border=\"1\" class=\"dataframe\">\n",
       "  <thead>\n",
       "    <tr style=\"text-align: right;\">\n",
       "      <th></th>\n",
       "      <th>Unnamed: 0</th>\n",
       "      <th>year</th>\n",
       "      <th>age</th>\n",
       "      <th>group_1</th>\n",
       "      <th>group_2</th>\n",
       "      <th>group_3</th>\n",
       "      <th>group_4</th>\n",
       "      <th>group_5</th>\n",
       "      <th>group_6</th>\n",
       "    </tr>\n",
       "  </thead>\n",
       "  <tbody>\n",
       "    <tr>\n",
       "      <th>0</th>\n",
       "      <td>0</td>\n",
       "      <td>2009</td>\n",
       "      <td>19</td>\n",
       "      <td>NaN</td>\n",
       "      <td>NaN</td>\n",
       "      <td>NaN</td>\n",
       "      <td>128.784204</td>\n",
       "      <td>NaN</td>\n",
       "      <td>128.784204</td>\n",
       "    </tr>\n",
       "    <tr>\n",
       "      <th>1</th>\n",
       "      <td>1</td>\n",
       "      <td>2010</td>\n",
       "      <td>20</td>\n",
       "      <td>NaN</td>\n",
       "      <td>NaN</td>\n",
       "      <td>NaN</td>\n",
       "      <td>133.467266</td>\n",
       "      <td>NaN</td>\n",
       "      <td>133.467266</td>\n",
       "    </tr>\n",
       "    <tr>\n",
       "      <th>2</th>\n",
       "      <td>2</td>\n",
       "      <td>2011</td>\n",
       "      <td>21</td>\n",
       "      <td>NaN</td>\n",
       "      <td>NaN</td>\n",
       "      <td>NaN</td>\n",
       "      <td>138.043894</td>\n",
       "      <td>NaN</td>\n",
       "      <td>138.043894</td>\n",
       "    </tr>\n",
       "    <tr>\n",
       "      <th>3</th>\n",
       "      <td>3</td>\n",
       "      <td>2012</td>\n",
       "      <td>22</td>\n",
       "      <td>182.570443</td>\n",
       "      <td>NaN</td>\n",
       "      <td>NaN</td>\n",
       "      <td>142.726956</td>\n",
       "      <td>176.253422</td>\n",
       "      <td>142.726956</td>\n",
       "    </tr>\n",
       "    <tr>\n",
       "      <th>4</th>\n",
       "      <td>4</td>\n",
       "      <td>2013</td>\n",
       "      <td>23</td>\n",
       "      <td>184.200432</td>\n",
       "      <td>NaN</td>\n",
       "      <td>NaN</td>\n",
       "      <td>147.303585</td>\n",
       "      <td>182.639416</td>\n",
       "      <td>147.303585</td>\n",
       "    </tr>\n",
       "  </tbody>\n",
       "</table>\n",
       "</div>"
      ],
      "text/plain": [
       "   Unnamed: 0  year  age     group_1  group_2  group_3     group_4  \\\n",
       "0           0  2009   19         NaN      NaN      NaN  128.784204   \n",
       "1           1  2010   20         NaN      NaN      NaN  133.467266   \n",
       "2           2  2011   21         NaN      NaN      NaN  138.043894   \n",
       "3           3  2012   22  182.570443      NaN      NaN  142.726956   \n",
       "4           4  2013   23  184.200432      NaN      NaN  147.303585   \n",
       "\n",
       "      group_5     group_6  \n",
       "0         NaN  128.784204  \n",
       "1         NaN  133.467266  \n",
       "2         NaN  138.043894  \n",
       "3  176.253422  142.726956  \n",
       "4  182.639416  147.303585  "
      ]
     },
     "execution_count": 362,
     "metadata": {},
     "output_type": "execute_result"
    }
   ],
   "source": [
    "df_1990 = pd.read_csv('../data/new/wage_history_1990.csv')\n",
    "df_1990.head()"
   ]
  },
  {
   "cell_type": "code",
   "execution_count": 363,
   "id": "b91874da",
   "metadata": {},
   "outputs": [],
   "source": [
    "df_1990_group_1 = df_1990[['year', 'group_1']]\n",
    "df_1990_group_1.columns = ['year', 'wage']\n",
    "df_1990_group_2 = df_1990[['year', 'group_2']]\n",
    "df_1990_group_2.columns = ['year', 'wage']\n",
    "df_1990_group_3 = df_1990[['year', 'group_3']]\n",
    "df_1990_group_3.columns = ['year', 'wage']\n",
    "df_1990_group_4 = df_1990[['year', 'group_4']]\n",
    "df_1990_group_4.columns = ['year', 'wage']\n",
    "df_1990_group_5 = df_1990[['year', 'group_5']]\n",
    "df_1990_group_5.columns = ['year', 'wage']\n",
    "df_1990_group_6 = df_1990[['year', 'group_6']]\n",
    "df_1990_group_6.columns = ['year', 'wage']"
   ]
  },
  {
   "cell_type": "code",
   "execution_count": 364,
   "id": "d998f2e5",
   "metadata": {},
   "outputs": [],
   "source": [
    "pension_1990_group_1 = Pension(df_1990_group_1)\n",
    "pension_1990_group_2 = Pension(df_1990_group_2, military_year=2011)\n",
    "pension_1990_group_3 = Pension(df_1990_group_3)\n",
    "pension_1990_group_4 = Pension(df_1990_group_4, delivery_year=2019)\n",
    "pension_1990_group_5 = Pension(df_1990_group_5, military_year=2010)\n",
    "pension_1990_group_6 = Pension(df_1990_group_6, delivery_year=2019)"
   ]
  },
  {
   "cell_type": "code",
   "execution_count": 365,
   "id": "5bff9bb1",
   "metadata": {},
   "outputs": [
    {
     "name": "stdout",
     "output_type": "stream",
     "text": [
      "entitlement_year: 2055\n",
      "A_base: 254.6629\n",
      "A: 848.9418103527513\n",
      "B_2020: 264.44848484848484\n",
      "B: 528.8677620659007\n",
      "Y: 0\n",
      "C: 0\n",
      "X: 1.2\n",
      "P: 33\n",
      "n: 13\n",
      "2020년 가치로 환산한 수급시점 2055의 노령연금액(annuity): 1453.4812221863335\n",
      "2020년 가치로 환산한 수급시점 2055의 노령연금 월지급액(annuity): 120.01714307205\n"
     ]
    },
    {
     "data": {
      "text/html": [
       "<div>\n",
       "<style scoped>\n",
       "    .dataframe tbody tr th:only-of-type {\n",
       "        vertical-align: middle;\n",
       "    }\n",
       "\n",
       "    .dataframe tbody tr th {\n",
       "        vertical-align: top;\n",
       "    }\n",
       "\n",
       "    .dataframe thead th {\n",
       "        text-align: right;\n",
       "    }\n",
       "</style>\n",
       "<table border=\"1\" class=\"dataframe\">\n",
       "  <thead>\n",
       "    <tr style=\"text-align: right;\">\n",
       "      <th></th>\n",
       "      <th>연금액</th>\n",
       "      <th>소득대체율</th>\n",
       "      <th>평균임금대비</th>\n",
       "    </tr>\n",
       "  </thead>\n",
       "  <tbody>\n",
       "    <tr>\n",
       "      <th>0</th>\n",
       "      <td>120.017143</td>\n",
       "      <td>0.453839</td>\n",
       "      <td>0.377412</td>\n",
       "    </tr>\n",
       "  </tbody>\n",
       "</table>\n",
       "</div>"
      ],
      "text/plain": [
       "          연금액     소득대체율    평균임금대비\n",
       "0  120.017143  0.453839  0.377412"
      ]
     },
     "execution_count": 365,
     "metadata": {},
     "output_type": "execute_result"
    }
   ],
   "source": [
    "pension_1990_group_1.national_pension()"
   ]
  },
  {
   "cell_type": "code",
   "execution_count": 366,
   "id": "4f56c9fd",
   "metadata": {},
   "outputs": [
    {
     "name": "stdout",
     "output_type": "stream",
     "text": [
      "entitlement_year: 2055\n",
      "A_base: 254.6629\n",
      "A: 848.9418103527513\n",
      "B_2020: 410.8633333333334\n",
      "B: 821.6812879054058\n",
      "Y: 1.455\n",
      "C: 0.5\n",
      "X: 1.2\n",
      "P: 33\n",
      "n: 13\n",
      "2020년 가치로 환산한 수급시점 2055의 노령연금액(annuity): 1602.4964588745636\n",
      "2020년 가치로 환산한 수급시점 2055의 노령연금 월지급액(annuity): 132.32165909092566\n"
     ]
    },
    {
     "data": {
      "text/html": [
       "<div>\n",
       "<style scoped>\n",
       "    .dataframe tbody tr th:only-of-type {\n",
       "        vertical-align: middle;\n",
       "    }\n",
       "\n",
       "    .dataframe tbody tr th {\n",
       "        vertical-align: top;\n",
       "    }\n",
       "\n",
       "    .dataframe thead th {\n",
       "        text-align: right;\n",
       "    }\n",
       "</style>\n",
       "<table border=\"1\" class=\"dataframe\">\n",
       "  <thead>\n",
       "    <tr style=\"text-align: right;\">\n",
       "      <th></th>\n",
       "      <th>연금액</th>\n",
       "      <th>소득대체율</th>\n",
       "      <th>평균임금대비</th>\n",
       "    </tr>\n",
       "  </thead>\n",
       "  <tbody>\n",
       "    <tr>\n",
       "      <th>0</th>\n",
       "      <td>132.321659</td>\n",
       "      <td>0.322058</td>\n",
       "      <td>0.416106</td>\n",
       "    </tr>\n",
       "  </tbody>\n",
       "</table>\n",
       "</div>"
      ],
      "text/plain": [
       "          연금액     소득대체율    평균임금대비\n",
       "0  132.321659  0.322058  0.416106"
      ]
     },
     "execution_count": 366,
     "metadata": {},
     "output_type": "execute_result"
    }
   ],
   "source": [
    "pension_1990_group_2.national_pension()"
   ]
  },
  {
   "cell_type": "code",
   "execution_count": 367,
   "id": "4adca5a7",
   "metadata": {},
   "outputs": [
    {
     "name": "stdout",
     "output_type": "stream",
     "text": [
      "entitlement_year: 2055\n",
      "A_base: 254.6629\n",
      "A: 848.9418103527513\n",
      "B_2020: 226.05806451612904\n",
      "B: 452.091161520902\n",
      "Y: 0\n",
      "C: 0\n",
      "X: 1.2\n",
      "P: 33\n",
      "n: 13\n",
      "2020년 가치로 환산한 수급시점 2055의 노령연금액(annuity): 1280.3607340600456\n",
      "2020년 가치로 환산한 수급시점 2055의 노령연금 월지급액(annuity): 105.72220339549723\n"
     ]
    },
    {
     "data": {
      "text/html": [
       "<div>\n",
       "<style scoped>\n",
       "    .dataframe tbody tr th:only-of-type {\n",
       "        vertical-align: middle;\n",
       "    }\n",
       "\n",
       "    .dataframe tbody tr th {\n",
       "        vertical-align: top;\n",
       "    }\n",
       "\n",
       "    .dataframe thead th {\n",
       "        text-align: right;\n",
       "    }\n",
       "</style>\n",
       "<table border=\"1\" class=\"dataframe\">\n",
       "  <thead>\n",
       "    <tr style=\"text-align: right;\">\n",
       "      <th></th>\n",
       "      <th>연금액</th>\n",
       "      <th>소득대체율</th>\n",
       "      <th>평균임금대비</th>\n",
       "    </tr>\n",
       "  </thead>\n",
       "  <tbody>\n",
       "    <tr>\n",
       "      <th>0</th>\n",
       "      <td>105.722203</td>\n",
       "      <td>0.467677</td>\n",
       "      <td>0.33246</td>\n",
       "    </tr>\n",
       "  </tbody>\n",
       "</table>\n",
       "</div>"
      ],
      "text/plain": [
       "          연금액     소득대체율   평균임금대비\n",
       "0  105.722203  0.467677  0.33246"
      ]
     },
     "execution_count": 367,
     "metadata": {},
     "output_type": "execute_result"
    }
   ],
   "source": [
    "pension_1990_group_3.national_pension()"
   ]
  },
  {
   "cell_type": "code",
   "execution_count": 368,
   "id": "f8f56306",
   "metadata": {},
   "outputs": [
    {
     "name": "stdout",
     "output_type": "stream",
     "text": [
      "entitlement_year: 2055\n",
      "A_base: 254.6629\n",
      "A: 848.9418103527513\n",
      "B_2020: 172.9838709677419\n",
      "B: 345.9486363274974\n",
      "Y: 1.335\n",
      "C: 1\n",
      "X: 1.2\n",
      "P: 33\n",
      "n: 13\n",
      "2020년 가치로 환산한 수급시점 2055의 노령연금액(annuity): 1249.3688312503332\n",
      "2020년 가치로 환산한 수급시점 2055의 노령연금 월지급액(annuity): 103.1631337791775\n"
     ]
    },
    {
     "data": {
      "text/html": [
       "<div>\n",
       "<style scoped>\n",
       "    .dataframe tbody tr th:only-of-type {\n",
       "        vertical-align: middle;\n",
       "    }\n",
       "\n",
       "    .dataframe tbody tr th {\n",
       "        vertical-align: top;\n",
       "    }\n",
       "\n",
       "    .dataframe thead th {\n",
       "        text-align: right;\n",
       "    }\n",
       "</style>\n",
       "<table border=\"1\" class=\"dataframe\">\n",
       "  <thead>\n",
       "    <tr style=\"text-align: right;\">\n",
       "      <th></th>\n",
       "      <th>연금액</th>\n",
       "      <th>소득대체율</th>\n",
       "      <th>평균임금대비</th>\n",
       "    </tr>\n",
       "  </thead>\n",
       "  <tbody>\n",
       "    <tr>\n",
       "      <th>0</th>\n",
       "      <td>103.163134</td>\n",
       "      <td>0.596374</td>\n",
       "      <td>0.324412</td>\n",
       "    </tr>\n",
       "  </tbody>\n",
       "</table>\n",
       "</div>"
      ],
      "text/plain": [
       "          연금액     소득대체율    평균임금대비\n",
       "0  103.163134  0.596374  0.324412"
      ]
     },
     "execution_count": 368,
     "metadata": {},
     "output_type": "execute_result"
    }
   ],
   "source": [
    "pension_1990_group_4.national_pension()"
   ]
  },
  {
   "cell_type": "code",
   "execution_count": 369,
   "id": "6648c3d5",
   "metadata": {},
   "outputs": [
    {
     "name": "stdout",
     "output_type": "stream",
     "text": [
      "entitlement_year: 2055\n",
      "A_base: 254.6629\n",
      "A: 848.9418103527513\n",
      "B_2020: 235.6516129032258\n",
      "B: 471.27719871321864\n",
      "Y: 1.47\n",
      "C: 0.5\n",
      "X: 1.2\n",
      "P: 33\n",
      "n: 13\n",
      "2020년 가치로 환산한 수급시점 2055의 노령연금액(annuity): 1338.0823120455104\n",
      "2020년 가치로 환산한 수급시점 2055의 노령연금 월지급액(annuity): 110.48840111286817\n"
     ]
    },
    {
     "data": {
      "text/html": [
       "<div>\n",
       "<style scoped>\n",
       "    .dataframe tbody tr th:only-of-type {\n",
       "        vertical-align: middle;\n",
       "    }\n",
       "\n",
       "    .dataframe tbody tr th {\n",
       "        vertical-align: top;\n",
       "    }\n",
       "\n",
       "    .dataframe thead th {\n",
       "        text-align: right;\n",
       "    }\n",
       "</style>\n",
       "<table border=\"1\" class=\"dataframe\">\n",
       "  <thead>\n",
       "    <tr style=\"text-align: right;\">\n",
       "      <th></th>\n",
       "      <th>연금액</th>\n",
       "      <th>소득대체율</th>\n",
       "      <th>평균임금대비</th>\n",
       "    </tr>\n",
       "  </thead>\n",
       "  <tbody>\n",
       "    <tr>\n",
       "      <th>0</th>\n",
       "      <td>110.488401</td>\n",
       "      <td>0.468863</td>\n",
       "      <td>0.347448</td>\n",
       "    </tr>\n",
       "  </tbody>\n",
       "</table>\n",
       "</div>"
      ],
      "text/plain": [
       "          연금액     소득대체율    평균임금대비\n",
       "0  110.488401  0.468863  0.347448"
      ]
     },
     "execution_count": 369,
     "metadata": {},
     "output_type": "execute_result"
    }
   ],
   "source": [
    "pension_1990_group_5.national_pension()"
   ]
  },
  {
   "cell_type": "code",
   "execution_count": 370,
   "id": "4f2ff811",
   "metadata": {},
   "outputs": [
    {
     "name": "stdout",
     "output_type": "stream",
     "text": [
      "entitlement_year: 2055\n",
      "A_base: 254.6629\n",
      "A: 848.9418103527513\n",
      "B_2020: 164.74285714285716\n",
      "B: 329.4675188757636\n",
      "Y: 1.335\n",
      "C: 1\n",
      "X: 1.2\n",
      "P: 33\n",
      "n: 13\n",
      "2020년 가치로 환산한 수급시점 2055의 노령연금액(annuity): 879.6390971721248\n",
      "2020년 가치로 환산한 수급시점 2055의 노령연금 월지급액(annuity): 72.6337360026394\n"
     ]
    },
    {
     "data": {
      "text/html": [
       "<div>\n",
       "<style scoped>\n",
       "    .dataframe tbody tr th:only-of-type {\n",
       "        vertical-align: middle;\n",
       "    }\n",
       "\n",
       "    .dataframe tbody tr th {\n",
       "        vertical-align: top;\n",
       "    }\n",
       "\n",
       "    .dataframe thead th {\n",
       "        text-align: right;\n",
       "    }\n",
       "</style>\n",
       "<table border=\"1\" class=\"dataframe\">\n",
       "  <thead>\n",
       "    <tr style=\"text-align: right;\">\n",
       "      <th></th>\n",
       "      <th>연금액</th>\n",
       "      <th>소득대체율</th>\n",
       "      <th>평균임금대비</th>\n",
       "    </tr>\n",
       "  </thead>\n",
       "  <tbody>\n",
       "    <tr>\n",
       "      <th>0</th>\n",
       "      <td>72.633736</td>\n",
       "      <td>0.440892</td>\n",
       "      <td>0.228408</td>\n",
       "    </tr>\n",
       "  </tbody>\n",
       "</table>\n",
       "</div>"
      ],
      "text/plain": [
       "         연금액     소득대체율    평균임금대비\n",
       "0  72.633736  0.440892  0.228408"
      ]
     },
     "execution_count": 370,
     "metadata": {},
     "output_type": "execute_result"
    }
   ],
   "source": [
    "pension_1990_group_6.national_pension()"
   ]
  },
  {
   "cell_type": "code",
   "execution_count": 371,
   "id": "2dc2a512",
   "metadata": {},
   "outputs": [
    {
     "data": {
      "text/html": [
       "<div>\n",
       "<style scoped>\n",
       "    .dataframe tbody tr th:only-of-type {\n",
       "        vertical-align: middle;\n",
       "    }\n",
       "\n",
       "    .dataframe tbody tr th {\n",
       "        vertical-align: top;\n",
       "    }\n",
       "\n",
       "    .dataframe thead th {\n",
       "        text-align: right;\n",
       "    }\n",
       "</style>\n",
       "<table border=\"1\" class=\"dataframe\">\n",
       "  <thead>\n",
       "    <tr style=\"text-align: right;\">\n",
       "      <th></th>\n",
       "      <th>Unnamed: 0</th>\n",
       "      <th>year</th>\n",
       "      <th>age</th>\n",
       "      <th>group_1</th>\n",
       "      <th>group_2</th>\n",
       "      <th>group_3</th>\n",
       "      <th>group_4</th>\n",
       "      <th>group_5</th>\n",
       "      <th>group_6</th>\n",
       "    </tr>\n",
       "  </thead>\n",
       "  <tbody>\n",
       "    <tr>\n",
       "      <th>0</th>\n",
       "      <td>0</td>\n",
       "      <td>1999</td>\n",
       "      <td>19</td>\n",
       "      <td>NaN</td>\n",
       "      <td>NaN</td>\n",
       "      <td>NaN</td>\n",
       "      <td>128.784204</td>\n",
       "      <td>NaN</td>\n",
       "      <td>128.784204</td>\n",
       "    </tr>\n",
       "    <tr>\n",
       "      <th>1</th>\n",
       "      <td>1</td>\n",
       "      <td>2000</td>\n",
       "      <td>20</td>\n",
       "      <td>NaN</td>\n",
       "      <td>NaN</td>\n",
       "      <td>NaN</td>\n",
       "      <td>133.467266</td>\n",
       "      <td>NaN</td>\n",
       "      <td>133.467266</td>\n",
       "    </tr>\n",
       "    <tr>\n",
       "      <th>2</th>\n",
       "      <td>2</td>\n",
       "      <td>2001</td>\n",
       "      <td>21</td>\n",
       "      <td>NaN</td>\n",
       "      <td>NaN</td>\n",
       "      <td>NaN</td>\n",
       "      <td>138.043894</td>\n",
       "      <td>NaN</td>\n",
       "      <td>138.043894</td>\n",
       "    </tr>\n",
       "    <tr>\n",
       "      <th>3</th>\n",
       "      <td>3</td>\n",
       "      <td>2002</td>\n",
       "      <td>22</td>\n",
       "      <td>182.570443</td>\n",
       "      <td>NaN</td>\n",
       "      <td>NaN</td>\n",
       "      <td>142.726956</td>\n",
       "      <td>176.253422</td>\n",
       "      <td>142.726956</td>\n",
       "    </tr>\n",
       "    <tr>\n",
       "      <th>4</th>\n",
       "      <td>4</td>\n",
       "      <td>2003</td>\n",
       "      <td>23</td>\n",
       "      <td>184.200432</td>\n",
       "      <td>NaN</td>\n",
       "      <td>NaN</td>\n",
       "      <td>147.303585</td>\n",
       "      <td>182.639416</td>\n",
       "      <td>147.303585</td>\n",
       "    </tr>\n",
       "  </tbody>\n",
       "</table>\n",
       "</div>"
      ],
      "text/plain": [
       "   Unnamed: 0  year  age     group_1  group_2  group_3     group_4  \\\n",
       "0           0  1999   19         NaN      NaN      NaN  128.784204   \n",
       "1           1  2000   20         NaN      NaN      NaN  133.467266   \n",
       "2           2  2001   21         NaN      NaN      NaN  138.043894   \n",
       "3           3  2002   22  182.570443      NaN      NaN  142.726956   \n",
       "4           4  2003   23  184.200432      NaN      NaN  147.303585   \n",
       "\n",
       "      group_5     group_6  \n",
       "0         NaN  128.784204  \n",
       "1         NaN  133.467266  \n",
       "2         NaN  138.043894  \n",
       "3  176.253422  142.726956  \n",
       "4  182.639416  147.303585  "
      ]
     },
     "execution_count": 371,
     "metadata": {},
     "output_type": "execute_result"
    }
   ],
   "source": [
    "df_1980 = pd.read_csv('../data/new/wage_history_1980.csv')\n",
    "df_1980.head()"
   ]
  },
  {
   "cell_type": "code",
   "execution_count": 372,
   "id": "1fc4ce79",
   "metadata": {},
   "outputs": [],
   "source": [
    "df_1980_group_1 = df_1980[['year', 'group_1']]\n",
    "df_1980_group_1.columns = ['year', 'wage']\n",
    "df_1980_group_2 = df_1980[['year', 'group_2']]\n",
    "df_1980_group_2.columns = ['year', 'wage']\n",
    "df_1980_group_3 = df_1980[['year', 'group_3']]\n",
    "df_1980_group_3.columns = ['year', 'wage']\n",
    "df_1980_group_4 = df_1980[['year', 'group_4']]\n",
    "df_1980_group_4.columns = ['year', 'wage']\n",
    "df_1980_group_5 = df_1980[['year', 'group_5']]\n",
    "df_1980_group_5.columns = ['year', 'wage']\n",
    "df_1980_group_6 = df_1980[['year', 'group_6']]\n",
    "df_1980_group_6.columns = ['year', 'wage']"
   ]
  },
  {
   "cell_type": "code",
   "execution_count": 373,
   "id": "38fb8a92",
   "metadata": {},
   "outputs": [],
   "source": [
    "pension_1980_group_1 = Pension(df_1980_group_1)\n",
    "pension_1980_group_2 = Pension(df_1980_group_2, military_year=2001)\n",
    "pension_1980_group_3 = Pension(df_1980_group_3)\n",
    "pension_1980_group_4 = Pension(df_1980_group_4, delivery_year=2009)\n",
    "pension_1980_group_5 = Pension(df_1980_group_5, military_year=2000)\n",
    "pension_1980_group_6 = Pension(df_1980_group_6, delivery_year=2009)"
   ]
  },
  {
   "cell_type": "code",
   "execution_count": 374,
   "id": "6f22b84f",
   "metadata": {},
   "outputs": [
    {
     "name": "stdout",
     "output_type": "stream",
     "text": [
      "entitlement_year: 2045\n",
      "A_base: 254.6629\n",
      "A: 601.8308211038989\n",
      "B_2020: 264.44848484848484\n",
      "B: 433.8557694695397\n",
      "Y: 0\n",
      "C: 0\n",
      "X: 1.2\n",
      "P: 33\n",
      "n: 13\n",
      "2020년 가치로 환산한 수급시점 2045의 노령연금액(annuity): 1479.5057855408804\n",
      "2020년 가치로 환산한 수급시점 2045의 노령연금 월지급액(annuity): 122.16604853834289\n"
     ]
    },
    {
     "data": {
      "text/html": [
       "<div>\n",
       "<style scoped>\n",
       "    .dataframe tbody tr th:only-of-type {\n",
       "        vertical-align: middle;\n",
       "    }\n",
       "\n",
       "    .dataframe tbody tr th {\n",
       "        vertical-align: top;\n",
       "    }\n",
       "\n",
       "    .dataframe thead th {\n",
       "        text-align: right;\n",
       "    }\n",
       "</style>\n",
       "<table border=\"1\" class=\"dataframe\">\n",
       "  <thead>\n",
       "    <tr style=\"text-align: right;\">\n",
       "      <th></th>\n",
       "      <th>연금액</th>\n",
       "      <th>소득대체율</th>\n",
       "      <th>평균임금대비</th>\n",
       "    </tr>\n",
       "  </thead>\n",
       "  <tbody>\n",
       "    <tr>\n",
       "      <th>0</th>\n",
       "      <td>122.166049</td>\n",
       "      <td>0.461965</td>\n",
       "      <td>0.38417</td>\n",
       "    </tr>\n",
       "  </tbody>\n",
       "</table>\n",
       "</div>"
      ],
      "text/plain": [
       "          연금액     소득대체율   평균임금대비\n",
       "0  122.166049  0.461965  0.38417"
      ]
     },
     "execution_count": 374,
     "metadata": {},
     "output_type": "execute_result"
    }
   ],
   "source": [
    "pension_1980_group_1.national_pension()"
   ]
  },
  {
   "cell_type": "code",
   "execution_count": 375,
   "id": "9f75c81d",
   "metadata": {},
   "outputs": [
    {
     "name": "stdout",
     "output_type": "stream",
     "text": [
      "entitlement_year: 2045\n",
      "A_base: 254.6629\n",
      "A: 601.8308211038989\n",
      "B_2020: 410.8633333333334\n",
      "B: 674.0648475724275\n",
      "Y: 1.8\n",
      "C: 0.5\n",
      "X: 1.2\n",
      "P: 33\n",
      "n: 13\n",
      "2020년 가치로 환산한 수급시점 2045의 노령연금액(annuity): 1618.5279594018934\n",
      "2020년 가치로 환산한 수급시점 2045의 노령연금 월지급액(annuity): 133.6454153686669\n"
     ]
    },
    {
     "data": {
      "text/html": [
       "<div>\n",
       "<style scoped>\n",
       "    .dataframe tbody tr th:only-of-type {\n",
       "        vertical-align: middle;\n",
       "    }\n",
       "\n",
       "    .dataframe tbody tr th {\n",
       "        vertical-align: top;\n",
       "    }\n",
       "\n",
       "    .dataframe thead th {\n",
       "        text-align: right;\n",
       "    }\n",
       "</style>\n",
       "<table border=\"1\" class=\"dataframe\">\n",
       "  <thead>\n",
       "    <tr style=\"text-align: right;\">\n",
       "      <th></th>\n",
       "      <th>연금액</th>\n",
       "      <th>소득대체율</th>\n",
       "      <th>평균임금대비</th>\n",
       "    </tr>\n",
       "  </thead>\n",
       "  <tbody>\n",
       "    <tr>\n",
       "      <th>0</th>\n",
       "      <td>133.645415</td>\n",
       "      <td>0.325279</td>\n",
       "      <td>0.420269</td>\n",
       "    </tr>\n",
       "  </tbody>\n",
       "</table>\n",
       "</div>"
      ],
      "text/plain": [
       "          연금액     소득대체율    평균임금대비\n",
       "0  133.645415  0.325279  0.420269"
      ]
     },
     "execution_count": 375,
     "metadata": {},
     "output_type": "execute_result"
    }
   ],
   "source": [
    "pension_1980_group_2.national_pension()"
   ]
  },
  {
   "cell_type": "code",
   "execution_count": 376,
   "id": "2f751651",
   "metadata": {},
   "outputs": [
    {
     "name": "stdout",
     "output_type": "stream",
     "text": [
      "entitlement_year: 2045\n",
      "A_base: 254.6629\n",
      "A: 601.8308211038989\n",
      "B_2020: 226.05806451612904\n",
      "B: 370.8722157422561\n",
      "Y: 0\n",
      "C: 0\n",
      "X: 1.2\n",
      "P: 33\n",
      "n: 13\n",
      "2020년 가치로 환산한 수급시점 2045의 노령연금액(annuity): 1283.8153312340658\n",
      "2020년 가치로 환산한 수급시점 2045의 노령연금 월지급액(annuity): 106.00745708640287\n"
     ]
    },
    {
     "data": {
      "text/html": [
       "<div>\n",
       "<style scoped>\n",
       "    .dataframe tbody tr th:only-of-type {\n",
       "        vertical-align: middle;\n",
       "    }\n",
       "\n",
       "    .dataframe tbody tr th {\n",
       "        vertical-align: top;\n",
       "    }\n",
       "\n",
       "    .dataframe thead th {\n",
       "        text-align: right;\n",
       "    }\n",
       "</style>\n",
       "<table border=\"1\" class=\"dataframe\">\n",
       "  <thead>\n",
       "    <tr style=\"text-align: right;\">\n",
       "      <th></th>\n",
       "      <th>연금액</th>\n",
       "      <th>소득대체율</th>\n",
       "      <th>평균임금대비</th>\n",
       "    </tr>\n",
       "  </thead>\n",
       "  <tbody>\n",
       "    <tr>\n",
       "      <th>0</th>\n",
       "      <td>106.007457</td>\n",
       "      <td>0.468939</td>\n",
       "      <td>0.333357</td>\n",
       "    </tr>\n",
       "  </tbody>\n",
       "</table>\n",
       "</div>"
      ],
      "text/plain": [
       "          연금액     소득대체율    평균임금대비\n",
       "0  106.007457  0.468939  0.333357"
      ]
     },
     "execution_count": 376,
     "metadata": {},
     "output_type": "execute_result"
    }
   ],
   "source": [
    "pension_1980_group_3.national_pension()"
   ]
  },
  {
   "cell_type": "code",
   "execution_count": 377,
   "id": "c89c1999",
   "metadata": {},
   "outputs": [
    {
     "name": "stdout",
     "output_type": "stream",
     "text": [
      "entitlement_year: 2045\n",
      "A_base: 254.6629\n",
      "A: 601.8308211038989\n",
      "B_2020: 172.9838709677419\n",
      "B: 283.7983756553908\n",
      "Y: 1.485\n",
      "C: 1\n",
      "X: 1.2\n",
      "P: 33\n",
      "n: 13\n",
      "2020년 가치로 환산한 수급시점 2045의 노령연금액(annuity): 1237.3949367676057\n",
      "2020년 가치로 환산한 수급시점 2045의 노령연금 월지급액(annuity): 102.17442296177768\n"
     ]
    },
    {
     "data": {
      "text/html": [
       "<div>\n",
       "<style scoped>\n",
       "    .dataframe tbody tr th:only-of-type {\n",
       "        vertical-align: middle;\n",
       "    }\n",
       "\n",
       "    .dataframe tbody tr th {\n",
       "        vertical-align: top;\n",
       "    }\n",
       "\n",
       "    .dataframe thead th {\n",
       "        text-align: right;\n",
       "    }\n",
       "</style>\n",
       "<table border=\"1\" class=\"dataframe\">\n",
       "  <thead>\n",
       "    <tr style=\"text-align: right;\">\n",
       "      <th></th>\n",
       "      <th>연금액</th>\n",
       "      <th>소득대체율</th>\n",
       "      <th>평균임금대비</th>\n",
       "    </tr>\n",
       "  </thead>\n",
       "  <tbody>\n",
       "    <tr>\n",
       "      <th>0</th>\n",
       "      <td>102.174423</td>\n",
       "      <td>0.590659</td>\n",
       "      <td>0.321303</td>\n",
       "    </tr>\n",
       "  </tbody>\n",
       "</table>\n",
       "</div>"
      ],
      "text/plain": [
       "          연금액     소득대체율    평균임금대비\n",
       "0  102.174423  0.590659  0.321303"
      ]
     },
     "execution_count": 377,
     "metadata": {},
     "output_type": "execute_result"
    }
   ],
   "source": [
    "pension_1980_group_4.national_pension()"
   ]
  },
  {
   "cell_type": "code",
   "execution_count": 378,
   "id": "4244e061",
   "metadata": {},
   "outputs": [
    {
     "name": "stdout",
     "output_type": "stream",
     "text": [
      "entitlement_year: 2045\n",
      "A_base: 254.6629\n",
      "A: 601.8308211038989\n",
      "B_2020: 235.6516129032258\n",
      "B: 386.61144873431454\n",
      "Y: 1.8\n",
      "C: 0.5\n",
      "X: 1.2\n",
      "P: 33\n",
      "n: 13\n",
      "2020년 가치로 환산한 수급시점 2045의 노령연금액(annuity): 1344.1146110668403\n",
      "2020년 가치로 환산한 수급시점 2045의 노령연금 월지급액(annuity): 110.9865013178418\n"
     ]
    },
    {
     "data": {
      "text/html": [
       "<div>\n",
       "<style scoped>\n",
       "    .dataframe tbody tr th:only-of-type {\n",
       "        vertical-align: middle;\n",
       "    }\n",
       "\n",
       "    .dataframe tbody tr th {\n",
       "        vertical-align: top;\n",
       "    }\n",
       "\n",
       "    .dataframe thead th {\n",
       "        text-align: right;\n",
       "    }\n",
       "</style>\n",
       "<table border=\"1\" class=\"dataframe\">\n",
       "  <thead>\n",
       "    <tr style=\"text-align: right;\">\n",
       "      <th></th>\n",
       "      <th>연금액</th>\n",
       "      <th>소득대체율</th>\n",
       "      <th>평균임금대비</th>\n",
       "    </tr>\n",
       "  </thead>\n",
       "  <tbody>\n",
       "    <tr>\n",
       "      <th>0</th>\n",
       "      <td>110.986501</td>\n",
       "      <td>0.470977</td>\n",
       "      <td>0.349014</td>\n",
       "    </tr>\n",
       "  </tbody>\n",
       "</table>\n",
       "</div>"
      ],
      "text/plain": [
       "          연금액     소득대체율    평균임금대비\n",
       "0  110.986501  0.470977  0.349014"
      ]
     },
     "execution_count": 378,
     "metadata": {},
     "output_type": "execute_result"
    }
   ],
   "source": [
    "pension_1980_group_5.national_pension()"
   ]
  },
  {
   "cell_type": "code",
   "execution_count": 379,
   "id": "d2df734c",
   "metadata": {},
   "outputs": [
    {
     "name": "stdout",
     "output_type": "stream",
     "text": [
      "entitlement_year: 2045\n",
      "A_base: 254.6629\n",
      "A: 601.8308211038989\n",
      "B_2020: 164.74285714285716\n",
      "B: 270.2781189738182\n",
      "Y: 1.485\n",
      "C: 1\n",
      "X: 1.2\n",
      "P: 33\n",
      "n: 13\n",
      "2020년 가치로 환산한 수급시점 2045의 노령연금액(annuity): 900.6417732808465\n",
      "2020년 가치로 환산한 수급시점 2045의 노령연금 월지급액(annuity): 74.36797318779185\n"
     ]
    },
    {
     "data": {
      "text/html": [
       "<div>\n",
       "<style scoped>\n",
       "    .dataframe tbody tr th:only-of-type {\n",
       "        vertical-align: middle;\n",
       "    }\n",
       "\n",
       "    .dataframe tbody tr th {\n",
       "        vertical-align: top;\n",
       "    }\n",
       "\n",
       "    .dataframe thead th {\n",
       "        text-align: right;\n",
       "    }\n",
       "</style>\n",
       "<table border=\"1\" class=\"dataframe\">\n",
       "  <thead>\n",
       "    <tr style=\"text-align: right;\">\n",
       "      <th></th>\n",
       "      <th>연금액</th>\n",
       "      <th>소득대체율</th>\n",
       "      <th>평균임금대비</th>\n",
       "    </tr>\n",
       "  </thead>\n",
       "  <tbody>\n",
       "    <tr>\n",
       "      <th>0</th>\n",
       "      <td>74.367973</td>\n",
       "      <td>0.451418</td>\n",
       "      <td>0.233862</td>\n",
       "    </tr>\n",
       "  </tbody>\n",
       "</table>\n",
       "</div>"
      ],
      "text/plain": [
       "         연금액     소득대체율    평균임금대비\n",
       "0  74.367973  0.451418  0.233862"
      ]
     },
     "execution_count": 379,
     "metadata": {},
     "output_type": "execute_result"
    }
   ],
   "source": [
    "pension_1980_group_6.national_pension()"
   ]
  },
  {
   "cell_type": "code",
   "execution_count": 404,
   "id": "6f08cb4f",
   "metadata": {},
   "outputs": [
    {
     "data": {
      "text/html": [
       "<div>\n",
       "<style scoped>\n",
       "    .dataframe tbody tr th:only-of-type {\n",
       "        vertical-align: middle;\n",
       "    }\n",
       "\n",
       "    .dataframe tbody tr th {\n",
       "        vertical-align: top;\n",
       "    }\n",
       "\n",
       "    .dataframe thead th {\n",
       "        text-align: right;\n",
       "    }\n",
       "</style>\n",
       "<table border=\"1\" class=\"dataframe\">\n",
       "  <thead>\n",
       "    <tr style=\"text-align: right;\">\n",
       "      <th></th>\n",
       "      <th>Unnamed: 0</th>\n",
       "      <th>year</th>\n",
       "      <th>age</th>\n",
       "      <th>group_1</th>\n",
       "      <th>group_2</th>\n",
       "      <th>group_3</th>\n",
       "      <th>group_4</th>\n",
       "      <th>group_5</th>\n",
       "      <th>group_6</th>\n",
       "    </tr>\n",
       "  </thead>\n",
       "  <tbody>\n",
       "    <tr>\n",
       "      <th>0</th>\n",
       "      <td>0</td>\n",
       "      <td>1989</td>\n",
       "      <td>19</td>\n",
       "      <td>NaN</td>\n",
       "      <td>NaN</td>\n",
       "      <td>NaN</td>\n",
       "      <td>128.784204</td>\n",
       "      <td>NaN</td>\n",
       "      <td>128.784204</td>\n",
       "    </tr>\n",
       "    <tr>\n",
       "      <th>1</th>\n",
       "      <td>1</td>\n",
       "      <td>1990</td>\n",
       "      <td>20</td>\n",
       "      <td>NaN</td>\n",
       "      <td>NaN</td>\n",
       "      <td>NaN</td>\n",
       "      <td>133.467266</td>\n",
       "      <td>NaN</td>\n",
       "      <td>133.467266</td>\n",
       "    </tr>\n",
       "    <tr>\n",
       "      <th>2</th>\n",
       "      <td>2</td>\n",
       "      <td>1991</td>\n",
       "      <td>21</td>\n",
       "      <td>NaN</td>\n",
       "      <td>NaN</td>\n",
       "      <td>NaN</td>\n",
       "      <td>138.043894</td>\n",
       "      <td>NaN</td>\n",
       "      <td>138.043894</td>\n",
       "    </tr>\n",
       "    <tr>\n",
       "      <th>3</th>\n",
       "      <td>3</td>\n",
       "      <td>1992</td>\n",
       "      <td>22</td>\n",
       "      <td>182.570443</td>\n",
       "      <td>NaN</td>\n",
       "      <td>NaN</td>\n",
       "      <td>142.726956</td>\n",
       "      <td>176.253422</td>\n",
       "      <td>142.726956</td>\n",
       "    </tr>\n",
       "    <tr>\n",
       "      <th>4</th>\n",
       "      <td>4</td>\n",
       "      <td>1993</td>\n",
       "      <td>23</td>\n",
       "      <td>184.200432</td>\n",
       "      <td>NaN</td>\n",
       "      <td>NaN</td>\n",
       "      <td>147.303585</td>\n",
       "      <td>182.639416</td>\n",
       "      <td>147.303585</td>\n",
       "    </tr>\n",
       "  </tbody>\n",
       "</table>\n",
       "</div>"
      ],
      "text/plain": [
       "   Unnamed: 0  year  age     group_1  group_2  group_3     group_4  \\\n",
       "0           0  1989   19         NaN      NaN      NaN  128.784204   \n",
       "1           1  1990   20         NaN      NaN      NaN  133.467266   \n",
       "2           2  1991   21         NaN      NaN      NaN  138.043894   \n",
       "3           3  1992   22  182.570443      NaN      NaN  142.726956   \n",
       "4           4  1993   23  184.200432      NaN      NaN  147.303585   \n",
       "\n",
       "      group_5     group_6  \n",
       "0         NaN  128.784204  \n",
       "1         NaN  133.467266  \n",
       "2         NaN  138.043894  \n",
       "3  176.253422  142.726956  \n",
       "4  182.639416  147.303585  "
      ]
     },
     "execution_count": 404,
     "metadata": {},
     "output_type": "execute_result"
    }
   ],
   "source": [
    "df_1970 = pd.read_csv('../data/new/wage_history_1970.csv')\n",
    "df_1970.head()"
   ]
  },
  {
   "cell_type": "code",
   "execution_count": 416,
   "id": "a3ce8d86",
   "metadata": {},
   "outputs": [],
   "source": [
    "df_1970_group_1 = df_1970[['year', 'group_1']]\n",
    "df_1970_group_1.columns = ['year', 'wage']\n",
    "df_1970_group_2 = df_1970[['year', 'group_2']]\n",
    "df_1970_group_2.columns = ['year', 'wage']\n",
    "df_1970_group_3 = df_1970[['year', 'group_3']]\n",
    "df_1970_group_3.columns = ['year', 'wage']\n",
    "df_1970_group_4 = df_1970[['year', 'group_4']]\n",
    "df_1970_group_4.columns = ['year', 'wage']\n",
    "df_1970_group_5 = df_1970[['year', 'group_5']]\n",
    "df_1970_group_5.columns = ['year', 'wage']\n",
    "df_1970_group_6 = df_1970[['year', 'group_6']]\n",
    "df_1970_group_6.columns = ['year', 'wage']"
   ]
  },
  {
   "cell_type": "code",
   "execution_count": 417,
   "id": "d3539a3a",
   "metadata": {},
   "outputs": [
    {
     "data": {
      "text/html": [
       "<div>\n",
       "<style scoped>\n",
       "    .dataframe tbody tr th:only-of-type {\n",
       "        vertical-align: middle;\n",
       "    }\n",
       "\n",
       "    .dataframe tbody tr th {\n",
       "        vertical-align: top;\n",
       "    }\n",
       "\n",
       "    .dataframe thead th {\n",
       "        text-align: right;\n",
       "    }\n",
       "</style>\n",
       "<table border=\"1\" class=\"dataframe\">\n",
       "  <thead>\n",
       "    <tr style=\"text-align: right;\">\n",
       "      <th></th>\n",
       "      <th>year</th>\n",
       "      <th>wage</th>\n",
       "    </tr>\n",
       "  </thead>\n",
       "  <tbody>\n",
       "    <tr>\n",
       "      <th>0</th>\n",
       "      <td>1989</td>\n",
       "      <td>NaN</td>\n",
       "    </tr>\n",
       "    <tr>\n",
       "      <th>1</th>\n",
       "      <td>1990</td>\n",
       "      <td>NaN</td>\n",
       "    </tr>\n",
       "    <tr>\n",
       "      <th>2</th>\n",
       "      <td>1991</td>\n",
       "      <td>NaN</td>\n",
       "    </tr>\n",
       "    <tr>\n",
       "      <th>3</th>\n",
       "      <td>1992</td>\n",
       "      <td>NaN</td>\n",
       "    </tr>\n",
       "    <tr>\n",
       "      <th>4</th>\n",
       "      <td>1993</td>\n",
       "      <td>NaN</td>\n",
       "    </tr>\n",
       "  </tbody>\n",
       "</table>\n",
       "</div>"
      ],
      "text/plain": [
       "   year  wage\n",
       "0  1989   NaN\n",
       "1  1990   NaN\n",
       "2  1991   NaN\n",
       "3  1992   NaN\n",
       "4  1993   NaN"
      ]
     },
     "execution_count": 417,
     "metadata": {},
     "output_type": "execute_result"
    }
   ],
   "source": [
    "df_1970_group_3.head()"
   ]
  },
  {
   "cell_type": "code",
   "execution_count": 442,
   "id": "ec1ea14a",
   "metadata": {},
   "outputs": [],
   "source": [
    "pension_1970_group_1 = Pension(df_1970_group_1, rp_entitlement_year=2025)\n",
    "pension_1970_group_2 = Pension(df_1970_group_2, military_year=1991, rp_entitlement_year=2026)\n",
    "pension_1970_group_3 = Pension(df_1970_group_3, rp_entitlement_year=2025)\n",
    "pension_1970_group_4 = Pension(df_1970_group_4, delivery_year=1999, rp_entitlement_year=2035)\n",
    "pension_1970_group_5 = Pension(df_1970_group_5, military_year=1990, rp_entitlement_year=2031)\n",
    "pension_1970_group_6 = Pension(df_1970_group_6, delivery_year=1999, rp_entitlement_year=2031)"
   ]
  },
  {
   "cell_type": "code",
   "execution_count": 443,
   "id": "fdb700bb",
   "metadata": {},
   "outputs": [
    {
     "name": "stdout",
     "output_type": "stream",
     "text": [
      "entitlement_year: 2035\n",
      "A_base: 254.6629\n",
      "A: 426.6491917509541\n",
      "B_2020: 264.44848484848484\n",
      "B: 355.9128428753641\n",
      "Y: 0\n",
      "C: 0\n",
      "X: 1.2\n",
      "P: 33\n",
      "n: 13\n",
      "2020년 가치로 환산한 수급시점 2035의 노령연금액(annuity): 1600.178917245913\n",
      "2020년 가치로 환산한 수급시점 2035의 노령연금 월지급액(annuity): 132.13029457862544\n"
     ]
    },
    {
     "data": {
      "text/html": [
       "<div>\n",
       "<style scoped>\n",
       "    .dataframe tbody tr th:only-of-type {\n",
       "        vertical-align: middle;\n",
       "    }\n",
       "\n",
       "    .dataframe tbody tr th {\n",
       "        vertical-align: top;\n",
       "    }\n",
       "\n",
       "    .dataframe thead th {\n",
       "        text-align: right;\n",
       "    }\n",
       "</style>\n",
       "<table border=\"1\" class=\"dataframe\">\n",
       "  <thead>\n",
       "    <tr style=\"text-align: right;\">\n",
       "      <th></th>\n",
       "      <th>연금액</th>\n",
       "      <th>소득대체율</th>\n",
       "      <th>평균임금대비</th>\n",
       "    </tr>\n",
       "  </thead>\n",
       "  <tbody>\n",
       "    <tr>\n",
       "      <th>0</th>\n",
       "      <td>132.130295</td>\n",
       "      <td>0.499645</td>\n",
       "      <td>0.415504</td>\n",
       "    </tr>\n",
       "  </tbody>\n",
       "</table>\n",
       "</div>"
      ],
      "text/plain": [
       "          연금액     소득대체율    평균임금대비\n",
       "0  132.130295  0.499645  0.415504"
      ]
     },
     "execution_count": 443,
     "metadata": {},
     "output_type": "execute_result"
    }
   ],
   "source": [
    "pension_1970_group_1.national_pension()[1]"
   ]
  },
  {
   "cell_type": "code",
   "execution_count": 444,
   "id": "917fc43a",
   "metadata": {},
   "outputs": [
    {
     "name": "stdout",
     "output_type": "stream",
     "text": [
      "monthly retirement pension payment: 12.97840830914252\n",
      "entitlement_year: 2035\n",
      "A_base: 254.6629\n",
      "A: 426.6491917509541\n",
      "B_2020: 264.44848484848484\n",
      "B: 355.9128428753641\n",
      "Y: 0\n",
      "C: 0\n",
      "X: 1.2\n",
      "P: 33\n",
      "n: 13\n",
      "2020년 가치로 환산한 수급시점 2035의 노령연금액(annuity): 1600.178917245913\n",
      "2020년 가치로 환산한 수급시점 2035의 노령연금 월지급액(annuity): 132.13029457862544\n"
     ]
    },
    {
     "data": {
      "text/html": [
       "<div>\n",
       "<style scoped>\n",
       "    .dataframe tbody tr th:only-of-type {\n",
       "        vertical-align: middle;\n",
       "    }\n",
       "\n",
       "    .dataframe tbody tr th {\n",
       "        vertical-align: top;\n",
       "    }\n",
       "\n",
       "    .dataframe thead th {\n",
       "        text-align: right;\n",
       "    }\n",
       "</style>\n",
       "<table border=\"1\" class=\"dataframe\">\n",
       "  <thead>\n",
       "    <tr style=\"text-align: right;\">\n",
       "      <th></th>\n",
       "      <th>연금액</th>\n",
       "      <th>합산 연금액</th>\n",
       "      <th>합산 소득대체율</th>\n",
       "      <th>평균임금대비</th>\n",
       "    </tr>\n",
       "  </thead>\n",
       "  <tbody>\n",
       "    <tr>\n",
       "      <th>0</th>\n",
       "      <td>12.978408</td>\n",
       "      <td>145.108703</td>\n",
       "      <td>0.548722</td>\n",
       "      <td>0.456317</td>\n",
       "    </tr>\n",
       "  </tbody>\n",
       "</table>\n",
       "</div>"
      ],
      "text/plain": [
       "         연금액      합산 연금액  합산 소득대체율    평균임금대비\n",
       "0  12.978408  145.108703  0.548722  0.456317"
      ]
     },
     "execution_count": 444,
     "metadata": {},
     "output_type": "execute_result"
    }
   ],
   "source": [
    "pension_1970_group_1.dc()"
   ]
  },
  {
   "cell_type": "code",
   "execution_count": null,
   "id": "2d4ac01e",
   "metadata": {},
   "outputs": [],
   "source": []
  },
  {
   "cell_type": "code",
   "execution_count": 385,
   "id": "e8e518c0",
   "metadata": {},
   "outputs": [
    {
     "name": "stdout",
     "output_type": "stream",
     "text": [
      "entitlement_year: 2035\n",
      "A_base: 254.6629\n",
      "A: 426.6491917509541\n",
      "B_2020: 410.8633333333334\n",
      "B: 552.9679517116465\n",
      "Y: 2.4\n",
      "C: 0.5\n",
      "X: 1.2\n",
      "P: 33\n",
      "n: 13\n",
      "2020년 가치로 환산한 수급시점 2035의 노령연금액(annuity): 1766.0376335607457\n",
      "2020년 가치로 환산한 수급시점 2035의 노령연금 월지급액(annuity): 145.82561377632467\n"
     ]
    },
    {
     "data": {
      "text/html": [
       "<div>\n",
       "<style scoped>\n",
       "    .dataframe tbody tr th:only-of-type {\n",
       "        vertical-align: middle;\n",
       "    }\n",
       "\n",
       "    .dataframe tbody tr th {\n",
       "        vertical-align: top;\n",
       "    }\n",
       "\n",
       "    .dataframe thead th {\n",
       "        text-align: right;\n",
       "    }\n",
       "</style>\n",
       "<table border=\"1\" class=\"dataframe\">\n",
       "  <thead>\n",
       "    <tr style=\"text-align: right;\">\n",
       "      <th></th>\n",
       "      <th>연금액</th>\n",
       "      <th>소득대체율</th>\n",
       "      <th>평균임금대비</th>\n",
       "    </tr>\n",
       "  </thead>\n",
       "  <tbody>\n",
       "    <tr>\n",
       "      <th>0</th>\n",
       "      <td>145.825614</td>\n",
       "      <td>0.354925</td>\n",
       "      <td>0.458571</td>\n",
       "    </tr>\n",
       "  </tbody>\n",
       "</table>\n",
       "</div>"
      ],
      "text/plain": [
       "          연금액     소득대체율    평균임금대비\n",
       "0  145.825614  0.354925  0.458571"
      ]
     },
     "execution_count": 385,
     "metadata": {},
     "output_type": "execute_result"
    }
   ],
   "source": [
    "pension_1970_group_2.national_pension()"
   ]
  },
  {
   "cell_type": "code",
   "execution_count": 386,
   "id": "c7e59959",
   "metadata": {},
   "outputs": [
    {
     "name": "stdout",
     "output_type": "stream",
     "text": [
      "entitlement_year: 2035\n",
      "A_base: 254.6629\n",
      "A: 426.6491917509541\n",
      "B_2020: 226.05806451612904\n",
      "B: 304.24439165509153\n",
      "Y: 0\n",
      "C: 0\n",
      "X: 1.2\n",
      "P: 33\n",
      "n: 13\n",
      "2020년 가치로 환산한 수급시점 2035의 노령연금액(annuity): 1383.0927051424871\n",
      "2020년 가치로 환산한 수급시점 2035의 노령연금 월지급액(annuity): 114.20500832154151\n"
     ]
    },
    {
     "data": {
      "text/html": [
       "<div>\n",
       "<style scoped>\n",
       "    .dataframe tbody tr th:only-of-type {\n",
       "        vertical-align: middle;\n",
       "    }\n",
       "\n",
       "    .dataframe tbody tr th {\n",
       "        vertical-align: top;\n",
       "    }\n",
       "\n",
       "    .dataframe thead th {\n",
       "        text-align: right;\n",
       "    }\n",
       "</style>\n",
       "<table border=\"1\" class=\"dataframe\">\n",
       "  <thead>\n",
       "    <tr style=\"text-align: right;\">\n",
       "      <th></th>\n",
       "      <th>연금액</th>\n",
       "      <th>소득대체율</th>\n",
       "      <th>평균임금대비</th>\n",
       "    </tr>\n",
       "  </thead>\n",
       "  <tbody>\n",
       "    <tr>\n",
       "      <th>0</th>\n",
       "      <td>114.205008</td>\n",
       "      <td>0.505202</td>\n",
       "      <td>0.359135</td>\n",
       "    </tr>\n",
       "  </tbody>\n",
       "</table>\n",
       "</div>"
      ],
      "text/plain": [
       "          연금액     소득대체율    평균임금대비\n",
       "0  114.205008  0.505202  0.359135"
      ]
     },
     "execution_count": 386,
     "metadata": {},
     "output_type": "execute_result"
    }
   ],
   "source": [
    "pension_1970_group_3.national_pension()"
   ]
  },
  {
   "cell_type": "code",
   "execution_count": 387,
   "id": "32ae1adf",
   "metadata": {},
   "outputs": [
    {
     "name": "stdout",
     "output_type": "stream",
     "text": [
      "entitlement_year: 2035\n",
      "A_base: 254.6629\n",
      "A: 426.6491917509541\n",
      "B_2020: 172.9838709677419\n",
      "B: 232.81351497623046\n",
      "Y: 1.8\n",
      "C: 1\n",
      "X: 1.2\n",
      "P: 33\n",
      "n: 13\n",
      "2020년 가치로 환산한 수급시점 2035의 노령연금액(annuity): 1293.295496528109\n",
      "2020년 가치로 환산한 수급시점 2035의 노령연금 월지급액(annuity): 106.79025519694908\n"
     ]
    },
    {
     "data": {
      "text/html": [
       "<div>\n",
       "<style scoped>\n",
       "    .dataframe tbody tr th:only-of-type {\n",
       "        vertical-align: middle;\n",
       "    }\n",
       "\n",
       "    .dataframe tbody tr th {\n",
       "        vertical-align: top;\n",
       "    }\n",
       "\n",
       "    .dataframe thead th {\n",
       "        text-align: right;\n",
       "    }\n",
       "</style>\n",
       "<table border=\"1\" class=\"dataframe\">\n",
       "  <thead>\n",
       "    <tr style=\"text-align: right;\">\n",
       "      <th></th>\n",
       "      <th>연금액</th>\n",
       "      <th>소득대체율</th>\n",
       "      <th>평균임금대비</th>\n",
       "    </tr>\n",
       "  </thead>\n",
       "  <tbody>\n",
       "    <tr>\n",
       "      <th>0</th>\n",
       "      <td>106.790255</td>\n",
       "      <td>0.617342</td>\n",
       "      <td>0.335818</td>\n",
       "    </tr>\n",
       "  </tbody>\n",
       "</table>\n",
       "</div>"
      ],
      "text/plain": [
       "          연금액     소득대체율    평균임금대비\n",
       "0  106.790255  0.617342  0.335818"
      ]
     },
     "execution_count": 387,
     "metadata": {},
     "output_type": "execute_result"
    }
   ],
   "source": [
    "pension_1970_group_4.national_pension()"
   ]
  },
  {
   "cell_type": "code",
   "execution_count": 388,
   "id": "cb1cb96b",
   "metadata": {},
   "outputs": [
    {
     "name": "stdout",
     "output_type": "stream",
     "text": [
      "entitlement_year: 2035\n",
      "A_base: 254.6629\n",
      "A: 426.6491917509541\n",
      "B_2020: 235.6516129032258\n",
      "B: 317.15604468146563\n",
      "Y: 2.4\n",
      "C: 0.5\n",
      "X: 1.2\n",
      "P: 33\n",
      "n: 13\n",
      "2020년 가치로 환산한 수급시점 2035의 노령연금액(annuity): 1405.05139287892\n",
      "2020년 가치로 환산한 수급시점 2035의 노령연금 월지급액(annuity): 116.01818549060994\n"
     ]
    },
    {
     "data": {
      "text/html": [
       "<div>\n",
       "<style scoped>\n",
       "    .dataframe tbody tr th:only-of-type {\n",
       "        vertical-align: middle;\n",
       "    }\n",
       "\n",
       "    .dataframe tbody tr th {\n",
       "        vertical-align: top;\n",
       "    }\n",
       "\n",
       "    .dataframe thead th {\n",
       "        text-align: right;\n",
       "    }\n",
       "</style>\n",
       "<table border=\"1\" class=\"dataframe\">\n",
       "  <thead>\n",
       "    <tr style=\"text-align: right;\">\n",
       "      <th></th>\n",
       "      <th>연금액</th>\n",
       "      <th>소득대체율</th>\n",
       "      <th>평균임금대비</th>\n",
       "    </tr>\n",
       "  </thead>\n",
       "  <tbody>\n",
       "    <tr>\n",
       "      <th>0</th>\n",
       "      <td>116.018185</td>\n",
       "      <td>0.492329</td>\n",
       "      <td>0.364837</td>\n",
       "    </tr>\n",
       "  </tbody>\n",
       "</table>\n",
       "</div>"
      ],
      "text/plain": [
       "          연금액     소득대체율    평균임금대비\n",
       "0  116.018185  0.492329  0.364837"
      ]
     },
     "execution_count": 388,
     "metadata": {},
     "output_type": "execute_result"
    }
   ],
   "source": [
    "pension_1970_group_5.national_pension()"
   ]
  },
  {
   "cell_type": "code",
   "execution_count": 389,
   "id": "7fc01f4a",
   "metadata": {},
   "outputs": [
    {
     "name": "stdout",
     "output_type": "stream",
     "text": [
      "entitlement_year: 2035\n",
      "A_base: 254.6629\n",
      "A: 426.6491917509541\n",
      "B_2020: 164.74285714285716\n",
      "B: 221.7221953936267\n",
      "Y: 1.8\n",
      "C: 1\n",
      "X: 1.2\n",
      "P: 33\n",
      "n: 13\n",
      "2020년 가치로 환산한 수급시점 2035의 노령연금액(annuity): 970.3610065035779\n",
      "2020년 가치로 환산한 수급시점 2035의 노령연금 월지급액(annuity): 80.12484370035322\n"
     ]
    },
    {
     "data": {
      "text/html": [
       "<div>\n",
       "<style scoped>\n",
       "    .dataframe tbody tr th:only-of-type {\n",
       "        vertical-align: middle;\n",
       "    }\n",
       "\n",
       "    .dataframe tbody tr th {\n",
       "        vertical-align: top;\n",
       "    }\n",
       "\n",
       "    .dataframe thead th {\n",
       "        text-align: right;\n",
       "    }\n",
       "</style>\n",
       "<table border=\"1\" class=\"dataframe\">\n",
       "  <thead>\n",
       "    <tr style=\"text-align: right;\">\n",
       "      <th></th>\n",
       "      <th>연금액</th>\n",
       "      <th>소득대체율</th>\n",
       "      <th>평균임금대비</th>\n",
       "    </tr>\n",
       "  </thead>\n",
       "  <tbody>\n",
       "    <tr>\n",
       "      <th>0</th>\n",
       "      <td>80.124844</td>\n",
       "      <td>0.486363</td>\n",
       "      <td>0.251965</td>\n",
       "    </tr>\n",
       "  </tbody>\n",
       "</table>\n",
       "</div>"
      ],
      "text/plain": [
       "         연금액     소득대체율    평균임금대비\n",
       "0  80.124844  0.486363  0.251965"
      ]
     },
     "execution_count": 389,
     "metadata": {},
     "output_type": "execute_result"
    }
   ],
   "source": [
    "pension_1970_group_6.national_pension()"
   ]
  },
  {
   "cell_type": "code",
   "execution_count": 391,
   "id": "7217f59b",
   "metadata": {},
   "outputs": [
    {
     "data": {
      "text/html": [
       "<div>\n",
       "<style scoped>\n",
       "    .dataframe tbody tr th:only-of-type {\n",
       "        vertical-align: middle;\n",
       "    }\n",
       "\n",
       "    .dataframe tbody tr th {\n",
       "        vertical-align: top;\n",
       "    }\n",
       "\n",
       "    .dataframe thead th {\n",
       "        text-align: right;\n",
       "    }\n",
       "</style>\n",
       "<table border=\"1\" class=\"dataframe\">\n",
       "  <thead>\n",
       "    <tr style=\"text-align: right;\">\n",
       "      <th></th>\n",
       "      <th>year</th>\n",
       "      <th>wage</th>\n",
       "      <th>wage_with_upper_limit</th>\n",
       "      <th>standard_wage</th>\n",
       "      <th>P_n</th>\n",
       "      <th>A+B</th>\n",
       "      <th>(A+B)*P_n</th>\n",
       "    </tr>\n",
       "  </thead>\n",
       "  <tbody>\n",
       "    <tr>\n",
       "      <th>0</th>\n",
       "      <td>1989</td>\n",
       "      <td>NaN</td>\n",
       "      <td>NaN</td>\n",
       "      <td>NaN</td>\n",
       "      <td>2.4</td>\n",
       "      <td>693.583824</td>\n",
       "      <td>NaN</td>\n",
       "    </tr>\n",
       "    <tr>\n",
       "      <th>1</th>\n",
       "      <td>1990</td>\n",
       "      <td>NaN</td>\n",
       "      <td>NaN</td>\n",
       "      <td>NaN</td>\n",
       "      <td>2.4</td>\n",
       "      <td>693.583824</td>\n",
       "      <td>NaN</td>\n",
       "    </tr>\n",
       "    <tr>\n",
       "      <th>2</th>\n",
       "      <td>1991</td>\n",
       "      <td>NaN</td>\n",
       "      <td>NaN</td>\n",
       "      <td>NaN</td>\n",
       "      <td>2.4</td>\n",
       "      <td>693.583824</td>\n",
       "      <td>NaN</td>\n",
       "    </tr>\n",
       "    <tr>\n",
       "      <th>3</th>\n",
       "      <td>1992</td>\n",
       "      <td>182.570443</td>\n",
       "      <td>182.570443</td>\n",
       "      <td>182.5</td>\n",
       "      <td>2.4</td>\n",
       "      <td>693.583824</td>\n",
       "      <td>1664.601177</td>\n",
       "    </tr>\n",
       "    <tr>\n",
       "      <th>4</th>\n",
       "      <td>1993</td>\n",
       "      <td>184.200432</td>\n",
       "      <td>184.200432</td>\n",
       "      <td>184.2</td>\n",
       "      <td>2.4</td>\n",
       "      <td>693.583824</td>\n",
       "      <td>1664.601177</td>\n",
       "    </tr>\n",
       "  </tbody>\n",
       "</table>\n",
       "</div>"
      ],
      "text/plain": [
       "   year        wage  wage_with_upper_limit  standard_wage  P_n         A+B  \\\n",
       "0  1989         NaN                    NaN            NaN  2.4  693.583824   \n",
       "1  1990         NaN                    NaN            NaN  2.4  693.583824   \n",
       "2  1991         NaN                    NaN            NaN  2.4  693.583824   \n",
       "3  1992  182.570443             182.570443          182.5  2.4  693.583824   \n",
       "4  1993  184.200432             184.200432          184.2  2.4  693.583824   \n",
       "\n",
       "     (A+B)*P_n  \n",
       "0          NaN  \n",
       "1          NaN  \n",
       "2          NaN  \n",
       "3  1664.601177  \n",
       "4  1664.601177  "
      ]
     },
     "execution_count": 391,
     "metadata": {},
     "output_type": "execute_result"
    }
   ],
   "source": [
    "df_1970_group_1.head()"
   ]
  },
  {
   "cell_type": "code",
   "execution_count": 392,
   "id": "a63b4e5a",
   "metadata": {},
   "outputs": [
    {
     "data": {
      "text/plain": [
       "39.461538461538375"
      ]
     },
     "execution_count": 392,
     "metadata": {},
     "output_type": "execute_result"
    }
   ],
   "source": [
    "1/(1-1/1.026)"
   ]
  },
  {
   "cell_type": "code",
   "execution_count": 394,
   "id": "bf703ce3",
   "metadata": {},
   "outputs": [
    {
     "data": {
      "text/plain": [
       "1.0526315789473684"
      ]
     },
     "execution_count": 394,
     "metadata": {},
     "output_type": "execute_result"
    }
   ],
   "source": [
    "1/0.95"
   ]
  },
  {
   "cell_type": "code",
   "execution_count": null,
   "id": "d6a40727",
   "metadata": {},
   "outputs": [],
   "source": []
  }
 ],
 "metadata": {
  "kernelspec": {
   "display_name": "Python 3 (ipykernel)",
   "language": "python",
   "name": "python3"
  },
  "language_info": {
   "codemirror_mode": {
    "name": "ipython",
    "version": 3
   },
   "file_extension": ".py",
   "mimetype": "text/x-python",
   "name": "python",
   "nbconvert_exporter": "python",
   "pygments_lexer": "ipython3",
   "version": "3.8.10"
  }
 },
 "nbformat": 4,
 "nbformat_minor": 5
}
