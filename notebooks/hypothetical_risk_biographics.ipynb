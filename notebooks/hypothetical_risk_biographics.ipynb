{
 "cells": [
  {
   "cell_type": "code",
   "execution_count": 1,
   "id": "5752229f",
   "metadata": {},
   "outputs": [],
   "source": [
    "import pandas as pd\n",
    "import numpy as np"
   ]
  },
  {
   "cell_type": "code",
   "execution_count": 2,
   "id": "6426d5e7",
   "metadata": {},
   "outputs": [
    {
     "name": "stderr",
     "output_type": "stream",
     "text": [
      "/home/henry/anaconda3/envs/pension/lib/python3.8/site-packages/IPython/core/interactiveshell.py:3441: DtypeWarning: Columns (427,432,437,442,488,569,582,668) have mixed types.Specify dtype option on import or set low_memory=False.\n",
      "  exec(code_obj, self.user_global_ns, self.user_ns)\n"
     ]
    }
   ],
   "source": [
    "df22p = pd.read_csv(\"../data/klips/1-22차 release (Excel)/klips22p.csv\")"
   ]
  },
  {
   "cell_type": "code",
   "execution_count": 3,
   "id": "bab15c88",
   "metadata": {},
   "outputs": [
    {
     "data": {
      "text/html": [
       "<div>\n",
       "<style scoped>\n",
       "    .dataframe tbody tr th:only-of-type {\n",
       "        vertical-align: middle;\n",
       "    }\n",
       "\n",
       "    .dataframe tbody tr th {\n",
       "        vertical-align: top;\n",
       "    }\n",
       "\n",
       "    .dataframe thead th {\n",
       "        text-align: right;\n",
       "    }\n",
       "</style>\n",
       "<table border=\"1\" class=\"dataframe\">\n",
       "  <thead>\n",
       "    <tr style=\"text-align: right;\">\n",
       "      <th></th>\n",
       "      <th>pid</th>\n",
       "      <th>hhid22</th>\n",
       "      <th>hmem22</th>\n",
       "      <th>hhid21</th>\n",
       "      <th>hhid20</th>\n",
       "      <th>hhid19</th>\n",
       "      <th>hhid18</th>\n",
       "      <th>hhid17</th>\n",
       "      <th>hhid16</th>\n",
       "      <th>hhid15</th>\n",
       "      <th>...</th>\n",
       "      <th>p229509</th>\n",
       "      <th>p229510</th>\n",
       "      <th>p229511</th>\n",
       "      <th>w22p_l</th>\n",
       "      <th>w22p_c</th>\n",
       "      <th>sw22p_l</th>\n",
       "      <th>sw22p_c</th>\n",
       "      <th>nw22p_l</th>\n",
       "      <th>nw22p_c</th>\n",
       "      <th>version</th>\n",
       "    </tr>\n",
       "  </thead>\n",
       "  <tbody>\n",
       "    <tr>\n",
       "      <th>0</th>\n",
       "      <td>101</td>\n",
       "      <td>1</td>\n",
       "      <td>1</td>\n",
       "      <td>NaN</td>\n",
       "      <td>1.0</td>\n",
       "      <td>1.0</td>\n",
       "      <td>1.0</td>\n",
       "      <td>1.0</td>\n",
       "      <td>1.0</td>\n",
       "      <td>1.0</td>\n",
       "      <td>...</td>\n",
       "      <td>1</td>\n",
       "      <td>1</td>\n",
       "      <td>NaN</td>\n",
       "      <td>2229.963059</td>\n",
       "      <td>2233.690096</td>\n",
       "      <td>1321.808425</td>\n",
       "      <td>2553.125581</td>\n",
       "      <td>0.000000</td>\n",
       "      <td>1092.528625</td>\n",
       "      <td>22</td>\n",
       "    </tr>\n",
       "    <tr>\n",
       "      <th>1</th>\n",
       "      <td>102</td>\n",
       "      <td>1</td>\n",
       "      <td>5</td>\n",
       "      <td>7258.0</td>\n",
       "      <td>7258.0</td>\n",
       "      <td>7258.0</td>\n",
       "      <td>7258.0</td>\n",
       "      <td>7258.0</td>\n",
       "      <td>7258.0</td>\n",
       "      <td>7258.0</td>\n",
       "      <td>...</td>\n",
       "      <td>1</td>\n",
       "      <td>1</td>\n",
       "      <td>NaN</td>\n",
       "      <td>2239.814828</td>\n",
       "      <td>2233.690096</td>\n",
       "      <td>4396.932507</td>\n",
       "      <td>2674.992445</td>\n",
       "      <td>2471.734660</td>\n",
       "      <td>1181.711881</td>\n",
       "      <td>22</td>\n",
       "    </tr>\n",
       "    <tr>\n",
       "      <th>2</th>\n",
       "      <td>201</td>\n",
       "      <td>6034</td>\n",
       "      <td>1</td>\n",
       "      <td>6034.0</td>\n",
       "      <td>6034.0</td>\n",
       "      <td>6034.0</td>\n",
       "      <td>6034.0</td>\n",
       "      <td>6034.0</td>\n",
       "      <td>6034.0</td>\n",
       "      <td>6034.0</td>\n",
       "      <td>...</td>\n",
       "      <td>1</td>\n",
       "      <td>1</td>\n",
       "      <td>NaN</td>\n",
       "      <td>2661.362399</td>\n",
       "      <td>2659.934780</td>\n",
       "      <td>2828.952855</td>\n",
       "      <td>2531.755306</td>\n",
       "      <td>1343.865230</td>\n",
       "      <td>1324.446434</td>\n",
       "      <td>22</td>\n",
       "    </tr>\n",
       "    <tr>\n",
       "      <th>3</th>\n",
       "      <td>202</td>\n",
       "      <td>2</td>\n",
       "      <td>2</td>\n",
       "      <td>2.0</td>\n",
       "      <td>2.0</td>\n",
       "      <td>2.0</td>\n",
       "      <td>2.0</td>\n",
       "      <td>2.0</td>\n",
       "      <td>2.0</td>\n",
       "      <td>2.0</td>\n",
       "      <td>...</td>\n",
       "      <td>1</td>\n",
       "      <td>1</td>\n",
       "      <td>NaN</td>\n",
       "      <td>2561.614392</td>\n",
       "      <td>2560.240281</td>\n",
       "      <td>5782.713667</td>\n",
       "      <td>4854.596363</td>\n",
       "      <td>2462.173138</td>\n",
       "      <td>2194.860886</td>\n",
       "      <td>22</td>\n",
       "    </tr>\n",
       "    <tr>\n",
       "      <th>4</th>\n",
       "      <td>203</td>\n",
       "      <td>8589</td>\n",
       "      <td>1</td>\n",
       "      <td>8589.0</td>\n",
       "      <td>8589.0</td>\n",
       "      <td>8589.0</td>\n",
       "      <td>8589.0</td>\n",
       "      <td>8589.0</td>\n",
       "      <td>8589.0</td>\n",
       "      <td>NaN</td>\n",
       "      <td>...</td>\n",
       "      <td>1</td>\n",
       "      <td>1</td>\n",
       "      <td>NaN</td>\n",
       "      <td>697.995546</td>\n",
       "      <td>348.810562</td>\n",
       "      <td>7067.002642</td>\n",
       "      <td>3609.326492</td>\n",
       "      <td>2078.818477</td>\n",
       "      <td>2098.913482</td>\n",
       "      <td>22</td>\n",
       "    </tr>\n",
       "  </tbody>\n",
       "</table>\n",
       "<p>5 rows × 724 columns</p>\n",
       "</div>"
      ],
      "text/plain": [
       "   pid  hhid22  hmem22  hhid21  hhid20  hhid19  hhid18  hhid17  hhid16  \\\n",
       "0  101       1       1     NaN     1.0     1.0     1.0     1.0     1.0   \n",
       "1  102       1       5  7258.0  7258.0  7258.0  7258.0  7258.0  7258.0   \n",
       "2  201    6034       1  6034.0  6034.0  6034.0  6034.0  6034.0  6034.0   \n",
       "3  202       2       2     2.0     2.0     2.0     2.0     2.0     2.0   \n",
       "4  203    8589       1  8589.0  8589.0  8589.0  8589.0  8589.0  8589.0   \n",
       "\n",
       "   hhid15  ...  p229509  p229510  p229511       w22p_l       w22p_c  \\\n",
       "0     1.0  ...        1        1      NaN  2229.963059  2233.690096   \n",
       "1  7258.0  ...        1        1      NaN  2239.814828  2233.690096   \n",
       "2  6034.0  ...        1        1      NaN  2661.362399  2659.934780   \n",
       "3     2.0  ...        1        1      NaN  2561.614392  2560.240281   \n",
       "4     NaN  ...        1        1      NaN   697.995546   348.810562   \n",
       "\n",
       "       sw22p_l      sw22p_c      nw22p_l      nw22p_c  version  \n",
       "0  1321.808425  2553.125581     0.000000  1092.528625       22  \n",
       "1  4396.932507  2674.992445  2471.734660  1181.711881       22  \n",
       "2  2828.952855  2531.755306  1343.865230  1324.446434       22  \n",
       "3  5782.713667  4854.596363  2462.173138  2194.860886       22  \n",
       "4  7067.002642  3609.326492  2078.818477  2098.913482       22  \n",
       "\n",
       "[5 rows x 724 columns]"
      ]
     },
     "execution_count": 3,
     "metadata": {},
     "output_type": "execute_result"
    }
   ],
   "source": [
    "df22p.head()"
   ]
  },
  {
   "cell_type": "code",
   "execution_count": 4,
   "id": "4a93e27f",
   "metadata": {},
   "outputs": [
    {
     "data": {
      "text/plain": [
       "1.0     2452\n",
       "7.0      254\n",
       "18.0     216\n",
       "3.0      208\n",
       "13.0     121\n",
       "17.0     112\n",
       "2.0       61\n",
       "6.0       50\n",
       "11.0      49\n",
       "8.0       37\n",
       "16.0      36\n",
       "12.0      31\n",
       "14.0      28\n",
       "10.0       7\n",
       "15.0       5\n",
       "Name: p222151, dtype: int64"
      ]
     },
     "execution_count": 4,
     "metadata": {},
     "output_type": "execute_result"
    }
   ],
   "source": [
    "# 사회보험의 종류 1\n",
    "df22p['p222151'].value_counts()"
   ]
  },
  {
   "cell_type": "code",
   "execution_count": 5,
   "id": "4b7ff121",
   "metadata": {},
   "outputs": [
    {
     "data": {
      "text/plain": [
       "13.0    49\n",
       "16.0    45\n",
       "1.0     34\n",
       "18.0    26\n",
       "11.0    19\n",
       "3.0      8\n",
       "12.0     8\n",
       "17.0     5\n",
       "8.0      4\n",
       "2.0      3\n",
       "15.0     2\n",
       "14.0     2\n",
       "7.0      2\n",
       "10.0     1\n",
       "Name: p222161, dtype: int64"
      ]
     },
     "execution_count": 5,
     "metadata": {},
     "output_type": "execute_result"
    }
   ],
   "source": [
    "# 사회보험의 종류 2\n",
    "df22p['p222161'].value_counts()"
   ]
  },
  {
   "cell_type": "code",
   "execution_count": 6,
   "id": "1d59156f",
   "metadata": {},
   "outputs": [
    {
     "data": {
      "text/plain": [
       "13.0    3\n",
       "18.0    2\n",
       "16.0    2\n",
       "3.0     1\n",
       "1.0     1\n",
       "Name: p222171, dtype: int64"
      ]
     },
     "execution_count": 6,
     "metadata": {},
     "output_type": "execute_result"
    }
   ],
   "source": [
    "# 사회보험의 종류 3\n",
    "df22p['p222171'].value_counts()"
   ]
  },
  {
   "cell_type": "code",
   "execution_count": 7,
   "id": "3c54c11b",
   "metadata": {},
   "outputs": [
    {
     "data": {
      "text/plain": [
       "Series([], Name: p222181, dtype: int64)"
      ]
     },
     "execution_count": 7,
     "metadata": {},
     "output_type": "execute_result"
    }
   ],
   "source": [
    "# 사회보험의 종류 3\n",
    "df22p['p222181'].value_counts()"
   ]
  },
  {
   "cell_type": "code",
   "execution_count": null,
   "id": "a4b9c955",
   "metadata": {},
   "outputs": [],
   "source": []
  },
  {
   "cell_type": "code",
   "execution_count": 8,
   "id": "67d1130b",
   "metadata": {},
   "outputs": [
    {
     "data": {
      "text/plain": [
       "383"
      ]
     },
     "execution_count": 8,
     "metadata": {},
     "output_type": "execute_result"
    }
   ],
   "source": [
    "# 출생연도\n",
    "len(df22p[df22p['p220104']==1970])"
   ]
  },
  {
   "cell_type": "code",
   "execution_count": 9,
   "id": "7149f5a5",
   "metadata": {},
   "outputs": [
    {
     "data": {
      "text/plain": [
       "481"
      ]
     },
     "execution_count": 9,
     "metadata": {},
     "output_type": "execute_result"
    }
   ],
   "source": [
    "len(df22p[df22p['p220104']==1980])"
   ]
  },
  {
   "cell_type": "code",
   "execution_count": 10,
   "id": "13cd7fa9",
   "metadata": {},
   "outputs": [
    {
     "data": {
      "text/plain": [
       "215"
      ]
     },
     "execution_count": 10,
     "metadata": {},
     "output_type": "execute_result"
    }
   ],
   "source": [
    "len(df22p[df22p['p220104']==1990])"
   ]
  },
  {
   "cell_type": "code",
   "execution_count": 11,
   "id": "a231f438",
   "metadata": {},
   "outputs": [
    {
     "data": {
      "text/plain": [
       "0          NaN\n",
       "1        762.0\n",
       "2        941.0\n",
       "3        941.0\n",
       "4          NaN\n",
       "         ...  \n",
       "23220    851.0\n",
       "23221    248.0\n",
       "23222    854.0\n",
       "23223    246.0\n",
       "23224    792.0\n",
       "Name: p220351, Length: 23225, dtype: float64"
      ]
     },
     "execution_count": 11,
     "metadata": {},
     "output_type": "execute_result"
    }
   ],
   "source": [
    "# 제6차 직업분류\n",
    "df22p['p220351']"
   ]
  },
  {
   "cell_type": "code",
   "execution_count": 12,
   "id": "ce6019e6",
   "metadata": {},
   "outputs": [
    {
     "data": {
      "text/plain": [
       "<AxesSubplot:>"
      ]
     },
     "execution_count": 12,
     "metadata": {},
     "output_type": "execute_result"
    },
    {
     "data": {
      "image/png": "[encoded data removed]",
      "text/plain": [
       "<Figure size 432x288 with 1 Axes>"
      ]
     },
     "metadata": {
      "needs_background": "light"
     },
     "output_type": "display_data"
    }
   ],
   "source": [
    "# 고용여부: 취업자 ~ 1\n",
    "df22p['p220201'].hist()"
   ]
  },
  {
   "cell_type": "code",
   "execution_count": 13,
   "id": "eeaf0c91",
   "metadata": {},
   "outputs": [
    {
     "data": {
      "text/plain": [
       "0         True\n",
       "1        False\n",
       "2         True\n",
       "3         True\n",
       "4         True\n",
       "         ...  \n",
       "23220    False\n",
       "23221    False\n",
       "23222    False\n",
       "23223    False\n",
       "23224    False\n",
       "Name: p220403, Length: 23225, dtype: bool"
      ]
     },
     "execution_count": 13,
     "metadata": {},
     "output_type": "execute_result"
    }
   ],
   "source": [
    "# 종업원수\n",
    "df22p['p220403'].isnull()"
   ]
  },
  {
   "cell_type": "code",
   "execution_count": 14,
   "id": "83621458",
   "metadata": {},
   "outputs": [
    {
     "data": {
      "text/plain": [
       "3.0     975\n",
       "10.0    890\n",
       "11.0    668\n",
       "7.0     593\n",
       "2.0     574\n",
       "4.0     477\n",
       "1.0     351\n",
       "5.0     318\n",
       "6.0     264\n",
       "9.0     251\n",
       "8.0     202\n",
       "Name: p220403, dtype: int64"
      ]
     },
     "execution_count": 14,
     "metadata": {},
     "output_type": "execute_result"
    }
   ],
   "source": [
    "df22p['p220403'].value_counts()"
   ]
  },
  {
   "cell_type": "code",
   "execution_count": 15,
   "id": "3d0f197b",
   "metadata": {},
   "outputs": [
    {
     "name": "stdout",
     "output_type": "stream",
     "text": [
      "Obs before filtering: 23225\n",
      "Obs after filtering: 9245\n"
     ]
    }
   ],
   "source": [
    "# 취업형태, 종업원수 filter\n",
    "print(f\"Obs before filtering: {len(df22p)}\")\n",
    "df22p_filtered = df22p[(df22p['p220211'] == 1) & (df22p['p220403'] != np.nan)]\n",
    "print(F\"Obs after filtering: {len(df22p_filtered)}\")"
   ]
  },
  {
   "cell_type": "code",
   "execution_count": 16,
   "id": "487b20dc",
   "metadata": {},
   "outputs": [
    {
     "name": "stdout",
     "output_type": "stream",
     "text": [
      "<class 'float'>\n",
      "False\n"
     ]
    }
   ],
   "source": [
    "# np.nan is a float, but it does not comprise the ordered field.\n",
    "\n",
    "print(type(np.nan))\n",
    "print(np.nan <= 0)"
   ]
  },
  {
   "cell_type": "code",
   "execution_count": 17,
   "id": "995e59bb",
   "metadata": {},
   "outputs": [
    {
     "name": "stderr",
     "output_type": "stream",
     "text": [
      "/tmp/ipykernel_25611/2460676642.py:28: SettingWithCopyWarning: \n",
      "A value is trying to be set on a copy of a slice from a DataFrame.\n",
      "Try using .loc[row_indexer,col_indexer] = value instead\n",
      "\n",
      "See the caveats in the documentation: https://pandas.pydata.org/pandas-docs/stable/user_guide/indexing.html#returning-a-view-versus-a-copy\n",
      "  df22p_filtered['firm_size'] = df22p_filtered.apply(firm_size, axis=1)\n"
     ]
    }
   ],
   "source": [
    "# 기업규모 변수 구성\n",
    "\"\"\"\n",
    "firm_size variable\n",
    "\n",
    "1   - 전체종업원수 100인 미만\n",
    "2   - 전체종업원수 300인 미만\n",
    "3   - 전체종업원수 300인 이상\n",
    "-1  - 결측치\n",
    "\"\"\"\n",
    "\n",
    "def firm_size(row):\n",
    "    if row['p220403'] <= 6:\n",
    "        return 1\n",
    "    elif row['p220403'] <= 7:\n",
    "        return 2\n",
    "    elif row['p220403'] <= 10:\n",
    "        return 3\n",
    "    temp = row['p220402']\n",
    "    if temp <= 99:\n",
    "        return 1\n",
    "    elif temp <= 299:\n",
    "        return 2\n",
    "    elif temp >= 300:\n",
    "        return 3\n",
    "    else:\n",
    "        return -1\n",
    "\n",
    "df22p_filtered['firm_size'] = df22p_filtered.apply(firm_size, axis=1)"
   ]
  },
  {
   "cell_type": "code",
   "execution_count": 18,
   "id": "8775ca88",
   "metadata": {},
   "outputs": [
    {
     "data": {
      "text/plain": [
       " 1    5294\n",
       "-1    1752\n",
       " 3    1479\n",
       " 2     720\n",
       "Name: firm_size, dtype: int64"
      ]
     },
     "execution_count": 18,
     "metadata": {},
     "output_type": "execute_result"
    }
   ],
   "source": [
    "df22p_filtered['firm_size'].value_counts()"
   ]
  },
  {
   "cell_type": "code",
   "execution_count": 19,
   "id": "07ac019d",
   "metadata": {},
   "outputs": [
    {
     "data": {
      "text/plain": [
       "<AxesSubplot:>"
      ]
     },
     "execution_count": 19,
     "metadata": {},
     "output_type": "execute_result"
    },
    {
     "data": {
      "image/png": "[encoded data removed]",
      "text/plain": [
       "<Figure size 432x288 with 1 Axes>"
      ]
     },
     "metadata": {
      "needs_background": "light"
     },
     "output_type": "display_data"
    }
   ],
   "source": [
    "df22p_filtered['firm_size'].hist()"
   ]
  },
  {
   "cell_type": "code",
   "execution_count": 20,
   "id": "7c265ba7",
   "metadata": {},
   "outputs": [],
   "source": [
    "df22p_V2 = df22p_filtered[df22p_filtered['firm_size'] >= 0]"
   ]
  },
  {
   "cell_type": "code",
   "execution_count": 21,
   "id": "041dc261",
   "metadata": {},
   "outputs": [
    {
     "data": {
      "text/plain": [
       "<AxesSubplot:>"
      ]
     },
     "execution_count": 21,
     "metadata": {},
     "output_type": "execute_result"
    },
    {
     "data": {
      "image/png": "[encoded data removed]",
      "text/plain": [
       "<Figure size 432x288 with 1 Axes>"
      ]
     },
     "metadata": {
      "needs_background": "light"
     },
     "output_type": "display_data"
    }
   ],
   "source": [
    "df22p_V2['firm_size'].hist()"
   ]
  },
  {
   "cell_type": "code",
   "execution_count": 22,
   "id": "5055a504",
   "metadata": {},
   "outputs": [
    {
     "name": "stderr",
     "output_type": "stream",
     "text": [
      "/tmp/ipykernel_25611/2706973189.py:22: SettingWithCopyWarning: \n",
      "A value is trying to be set on a copy of a slice from a DataFrame.\n",
      "Try using .loc[row_indexer,col_indexer] = value instead\n",
      "\n",
      "See the caveats in the documentation: https://pandas.pydata.org/pandas-docs/stable/user_guide/indexing.html#returning-a-view-versus-a-copy\n",
      "  df22p_V2['job_type'] = df22p_V2.apply(job_type, axis=1)\n"
     ]
    }
   ],
   "source": [
    "# 직업 유형 변수 구성\n",
    "\"\"\"\n",
    "job_type\n",
    "\n",
    "-1  - 결측값\n",
    "1   - 화이트칼라\n",
    "2   - 블루칼라\n",
    "9   - 화이트 칼라와 블루 칼라 외\n",
    "\n",
    "\"\"\"\n",
    "def job_type(row):\n",
    "    \n",
    "    if np.isnan(row['p220351']):\n",
    "        return -1\n",
    "    if row['p220351'] >= 100 and row['p220351'] < 400:\n",
    "        return 1\n",
    "    elif row['p220351'] >= 600 and row['p220351'] < 900:\n",
    "        return 2\n",
    "    else:\n",
    "        return 9\n",
    "\n",
    "df22p_V2['job_type'] = df22p_V2.apply(job_type, axis=1)"
   ]
  },
  {
   "cell_type": "code",
   "execution_count": 23,
   "id": "09363bf6",
   "metadata": {},
   "outputs": [
    {
     "data": {
      "text/plain": [
       "1    3397\n",
       "9    2303\n",
       "2    1793\n",
       "Name: job_type, dtype: int64"
      ]
     },
     "execution_count": 23,
     "metadata": {},
     "output_type": "execute_result"
    }
   ],
   "source": [
    "df22p_V2['job_type'].value_counts()"
   ]
  },
  {
   "cell_type": "code",
   "execution_count": 24,
   "id": "5729de2b",
   "metadata": {},
   "outputs": [
    {
     "name": "stdout",
     "output_type": "stream",
     "text": [
      "(5190, 726)\n"
     ]
    }
   ],
   "source": [
    "df22p_V3 = df22p_V2[(df22p_V2['job_type'] <= 5) & (df22p_V2['job_type'] >= 0)]\n",
    "print(df22p_V3.shape)"
   ]
  },
  {
   "cell_type": "code",
   "execution_count": 25,
   "id": "666ba147",
   "metadata": {},
   "outputs": [
    {
     "name": "stderr",
     "output_type": "stream",
     "text": [
      "/tmp/ipykernel_25611/3915605336.py:22: SettingWithCopyWarning: \n",
      "A value is trying to be set on a copy of a slice from a DataFrame.\n",
      "Try using .loc[row_indexer,col_indexer] = value instead\n",
      "\n",
      "See the caveats in the documentation: https://pandas.pydata.org/pandas-docs/stable/user_guide/indexing.html#returning-a-view-versus-a-copy\n",
      "  df22p_V3['job_type2'] = df22p_V2.apply(job_type2, axis=1)\n"
     ]
    }
   ],
   "source": [
    "# 직업 유형2 변수 구성\n",
    "\"\"\"\n",
    "job_type2\n",
    "1   - 상용직\n",
    "2   - 임시일용직\n",
    "9   - 고용주/자영업자 또는 무급가족종사자\n",
    "-1  - 결측값\n",
    "\"\"\"\n",
    "\n",
    "\n",
    "def job_type2(row): \n",
    "    \n",
    "    if row['p220314'] <= 1:\n",
    "        return 1\n",
    "    elif row['p220314'] <= 2 and row['p220314'] <= 3:\n",
    "        return 2\n",
    "    elif row['p220314'] <= 5:\n",
    "        return 9\n",
    "    else:\n",
    "        return -1\n",
    "    \n",
    "df22p_V3['job_type2'] = df22p_V2.apply(job_type2, axis=1)"
   ]
  },
  {
   "cell_type": "code",
   "execution_count": 26,
   "id": "8e190f08",
   "metadata": {},
   "outputs": [
    {
     "data": {
      "text/plain": [
       "1    4469\n",
       "2     473\n",
       "9     248\n",
       "Name: job_type2, dtype: int64"
      ]
     },
     "execution_count": 26,
     "metadata": {},
     "output_type": "execute_result"
    }
   ],
   "source": [
    "df22p_V3['job_type2'].value_counts()"
   ]
  },
  {
   "cell_type": "code",
   "execution_count": 27,
   "id": "402952b8",
   "metadata": {},
   "outputs": [],
   "source": [
    "df22p_V4 = df22p_V3[(df22p_V3['job_type2'] <= 5) & (df22p_V3['job_type2'] >= 0)]"
   ]
  },
  {
   "cell_type": "code",
   "execution_count": 28,
   "id": "36b36577",
   "metadata": {},
   "outputs": [
    {
     "data": {
      "text/plain": [
       "(4942, 727)"
      ]
     },
     "execution_count": 28,
     "metadata": {},
     "output_type": "execute_result"
    }
   ],
   "source": [
    "df22p_V4.shape"
   ]
  },
  {
   "cell_type": "code",
   "execution_count": 32,
   "id": "dd277ba9",
   "metadata": {},
   "outputs": [
    {
     "data": {
      "text/html": [
       "<div>\n",
       "<style scoped>\n",
       "    .dataframe tbody tr th:only-of-type {\n",
       "        vertical-align: middle;\n",
       "    }\n",
       "\n",
       "    .dataframe tbody tr th {\n",
       "        vertical-align: top;\n",
       "    }\n",
       "\n",
       "    .dataframe thead tr th {\n",
       "        text-align: left;\n",
       "    }\n",
       "\n",
       "    .dataframe thead tr:last-of-type th {\n",
       "        text-align: right;\n",
       "    }\n",
       "</style>\n",
       "<table border=\"1\" class=\"dataframe\">\n",
       "  <thead>\n",
       "    <tr>\n",
       "      <th></th>\n",
       "      <th>firm_size</th>\n",
       "      <th colspan=\"2\" halign=\"left\">1</th>\n",
       "      <th colspan=\"2\" halign=\"left\">2</th>\n",
       "      <th colspan=\"2\" halign=\"left\">3</th>\n",
       "    </tr>\n",
       "    <tr>\n",
       "      <th></th>\n",
       "      <th>job_type2</th>\n",
       "      <th>1</th>\n",
       "      <th>2</th>\n",
       "      <th>1</th>\n",
       "      <th>2</th>\n",
       "      <th>1</th>\n",
       "      <th>2</th>\n",
       "    </tr>\n",
       "    <tr>\n",
       "      <th>p220101</th>\n",
       "      <th>job_type</th>\n",
       "      <th></th>\n",
       "      <th></th>\n",
       "      <th></th>\n",
       "      <th></th>\n",
       "      <th></th>\n",
       "      <th></th>\n",
       "    </tr>\n",
       "  </thead>\n",
       "  <tbody>\n",
       "    <tr>\n",
       "      <th rowspan=\"2\" valign=\"top\">1</th>\n",
       "      <th>1</th>\n",
       "      <td>336.877023</td>\n",
       "      <td>214.500000</td>\n",
       "      <td>378.240664</td>\n",
       "      <td>322.500000</td>\n",
       "      <td>492.118151</td>\n",
       "      <td>296.500000</td>\n",
       "    </tr>\n",
       "    <tr>\n",
       "      <th>2</th>\n",
       "      <td>280.877604</td>\n",
       "      <td>212.556701</td>\n",
       "      <td>321.921687</td>\n",
       "      <td>216.000000</td>\n",
       "      <td>428.398496</td>\n",
       "      <td>250.000000</td>\n",
       "    </tr>\n",
       "    <tr>\n",
       "      <th rowspan=\"2\" valign=\"top\">2</th>\n",
       "      <th>1</th>\n",
       "      <td>224.064481</td>\n",
       "      <td>150.905405</td>\n",
       "      <td>266.048000</td>\n",
       "      <td>198.230769</td>\n",
       "      <td>321.522556</td>\n",
       "      <td>199.971429</td>\n",
       "    </tr>\n",
       "    <tr>\n",
       "      <th>2</th>\n",
       "      <td>177.186567</td>\n",
       "      <td>149.720000</td>\n",
       "      <td>205.393939</td>\n",
       "      <td>183.750000</td>\n",
       "      <td>249.629630</td>\n",
       "      <td>120.000000</td>\n",
       "    </tr>\n",
       "  </tbody>\n",
       "</table>\n",
       "</div>"
      ],
      "text/plain": [
       "firm_size                  1                       2                       3  \\\n",
       "job_type2                  1           2           1           2           1   \n",
       "p220101 job_type                                                               \n",
       "1       1         336.877023  214.500000  378.240664  322.500000  492.118151   \n",
       "        2         280.877604  212.556701  321.921687  216.000000  428.398496   \n",
       "2       1         224.064481  150.905405  266.048000  198.230769  321.522556   \n",
       "        2         177.186567  149.720000  205.393939  183.750000  249.629630   \n",
       "\n",
       "firm_size                     \n",
       "job_type2                  2  \n",
       "p220101 job_type              \n",
       "1       1         296.500000  \n",
       "        2         250.000000  \n",
       "2       1         199.971429  \n",
       "        2         120.000000  "
      ]
     },
     "execution_count": 32,
     "metadata": {},
     "output_type": "execute_result"
    }
   ],
   "source": [
    "df22p_V4.groupby(['p220101', 'job_type', 'job_type2', 'firm_size'])['p221642'].mean().unstack().unstack().fillna(0)"
   ]
  },
  {
   "cell_type": "code",
   "execution_count": 77,
   "id": "c2a6774d",
   "metadata": {},
   "outputs": [],
   "source": [
    "# 1970년생 전일제 임금근로자 중 블루 칼라, 화이트 칼라\n",
    "dfCohort1970 = df22p_V4[\n",
    "    (df22p_V4['p220104'] == 1970) # 1970년생\n",
    "    & (df22p_V4['p220211'] == 1) # 임금근로자 \n",
    "    & (df22p_V4['p220315'] == 2) # 전일제\n",
    "]"
   ]
  },
  {
   "cell_type": "code",
   "execution_count": 88,
   "id": "c4a13264",
   "metadata": {},
   "outputs": [],
   "source": [
    "# 1980년생 전일제 임금근로자 중 블루 칼라, 화이트 칼라\n",
    "dfCohort1980 = df22p_V4[\n",
    "    (df22p_V4['p220104'] == 1980) # 1980년생\n",
    "    & (df22p_V4['p220211'] == 1) # 임금근로자 \n",
    "    & (df22p_V4['p220315'] == 2) # 전일제\n",
    "]"
   ]
  },
  {
   "cell_type": "code",
   "execution_count": 89,
   "id": "729727c0",
   "metadata": {},
   "outputs": [],
   "source": [
    "# 1990년생 전일제 임금근로자 중 블루 칼라, 화이트 칼라\n",
    "dfCohort1990 = df22p_V4[\n",
    "    (df22p_V4['p220104'] == 1990) # 1990년생\n",
    "    & (df22p_V4['p220211'] == 1) # 임금근로자 \n",
    "    & (df22p_V4['p220315'] == 2) # 전일제\n",
    "]"
   ]
  },
  {
   "cell_type": "code",
   "execution_count": 90,
   "id": "821d9215",
   "metadata": {},
   "outputs": [
    {
     "data": {
      "text/plain": [
       "126"
      ]
     },
     "execution_count": 90,
     "metadata": {},
     "output_type": "execute_result"
    }
   ],
   "source": [
    "len(dfCohort1970)"
   ]
  },
  {
   "cell_type": "code",
   "execution_count": 91,
   "id": "41251163",
   "metadata": {},
   "outputs": [
    {
     "data": {
      "text/plain": [
       "184"
      ]
     },
     "execution_count": 91,
     "metadata": {},
     "output_type": "execute_result"
    }
   ],
   "source": [
    "len(dfCohort1980)"
   ]
  },
  {
   "cell_type": "code",
   "execution_count": 92,
   "id": "c4e20fe9",
   "metadata": {},
   "outputs": [
    {
     "data": {
      "text/plain": [
       "84"
      ]
     },
     "execution_count": 92,
     "metadata": {},
     "output_type": "execute_result"
    }
   ],
   "source": [
    "len(dfCohort1990)"
   ]
  },
  {
   "cell_type": "code",
   "execution_count": 93,
   "id": "2c3f7f9a",
   "metadata": {},
   "outputs": [
    {
     "data": {
      "text/html": [
       "<div>\n",
       "<style scoped>\n",
       "    .dataframe tbody tr th:only-of-type {\n",
       "        vertical-align: middle;\n",
       "    }\n",
       "\n",
       "    .dataframe tbody tr th {\n",
       "        vertical-align: top;\n",
       "    }\n",
       "\n",
       "    .dataframe thead tr th {\n",
       "        text-align: left;\n",
       "    }\n",
       "\n",
       "    .dataframe thead tr:last-of-type th {\n",
       "        text-align: right;\n",
       "    }\n",
       "</style>\n",
       "<table border=\"1\" class=\"dataframe\">\n",
       "  <thead>\n",
       "    <tr>\n",
       "      <th>job_type2</th>\n",
       "      <th colspan=\"2\" halign=\"left\">1</th>\n",
       "      <th colspan=\"2\" halign=\"left\">2</th>\n",
       "    </tr>\n",
       "    <tr>\n",
       "      <th>job_type</th>\n",
       "      <th>1</th>\n",
       "      <th>2</th>\n",
       "      <th>1</th>\n",
       "      <th>2</th>\n",
       "    </tr>\n",
       "    <tr>\n",
       "      <th>p220101</th>\n",
       "      <th></th>\n",
       "      <th></th>\n",
       "      <th></th>\n",
       "      <th></th>\n",
       "    </tr>\n",
       "  </thead>\n",
       "  <tbody>\n",
       "    <tr>\n",
       "      <th>1</th>\n",
       "      <td>54</td>\n",
       "      <td>29</td>\n",
       "      <td>1</td>\n",
       "      <td>1</td>\n",
       "    </tr>\n",
       "    <tr>\n",
       "      <th>2</th>\n",
       "      <td>26</td>\n",
       "      <td>10</td>\n",
       "      <td>3</td>\n",
       "      <td>2</td>\n",
       "    </tr>\n",
       "  </tbody>\n",
       "</table>\n",
       "</div>"
      ],
      "text/plain": [
       "job_type2   1      2   \n",
       "job_type    1   2  1  2\n",
       "p220101                \n",
       "1          54  29  1  1\n",
       "2          26  10  3  2"
      ]
     },
     "execution_count": 93,
     "metadata": {},
     "output_type": "execute_result"
    }
   ],
   "source": [
    "dfCohort1970.groupby(['p220101', 'job_type', 'job_type2'])['pid'].count().unstack().unstack().fillna(0)"
   ]
  },
  {
   "cell_type": "code",
   "execution_count": 94,
   "id": "543cddff",
   "metadata": {},
   "outputs": [
    {
     "data": {
      "text/html": [
       "<div>\n",
       "<style scoped>\n",
       "    .dataframe tbody tr th:only-of-type {\n",
       "        vertical-align: middle;\n",
       "    }\n",
       "\n",
       "    .dataframe tbody tr th {\n",
       "        vertical-align: top;\n",
       "    }\n",
       "\n",
       "    .dataframe thead tr th {\n",
       "        text-align: left;\n",
       "    }\n",
       "\n",
       "    .dataframe thead tr:last-of-type th {\n",
       "        text-align: right;\n",
       "    }\n",
       "</style>\n",
       "<table border=\"1\" class=\"dataframe\">\n",
       "  <thead>\n",
       "    <tr>\n",
       "      <th>job_type2</th>\n",
       "      <th colspan=\"2\" halign=\"left\">1</th>\n",
       "      <th colspan=\"2\" halign=\"left\">2</th>\n",
       "    </tr>\n",
       "    <tr>\n",
       "      <th>job_type</th>\n",
       "      <th>1</th>\n",
       "      <th>2</th>\n",
       "      <th>1</th>\n",
       "      <th>2</th>\n",
       "    </tr>\n",
       "    <tr>\n",
       "      <th>p220101</th>\n",
       "      <th></th>\n",
       "      <th></th>\n",
       "      <th></th>\n",
       "      <th></th>\n",
       "    </tr>\n",
       "  </thead>\n",
       "  <tbody>\n",
       "    <tr>\n",
       "      <th>1</th>\n",
       "      <td>92.0</td>\n",
       "      <td>42.0</td>\n",
       "      <td>1.0</td>\n",
       "      <td>1.0</td>\n",
       "    </tr>\n",
       "    <tr>\n",
       "      <th>2</th>\n",
       "      <td>46.0</td>\n",
       "      <td>2.0</td>\n",
       "      <td>0.0</td>\n",
       "      <td>0.0</td>\n",
       "    </tr>\n",
       "  </tbody>\n",
       "</table>\n",
       "</div>"
      ],
      "text/plain": [
       "job_type2     1          2     \n",
       "job_type      1     2    1    2\n",
       "p220101                        \n",
       "1          92.0  42.0  1.0  1.0\n",
       "2          46.0   2.0  0.0  0.0"
      ]
     },
     "execution_count": 94,
     "metadata": {},
     "output_type": "execute_result"
    }
   ],
   "source": [
    "dfCohort1980.groupby(['p220101', 'job_type', 'job_type2'])['pid'].count().unstack().unstack().fillna(0)"
   ]
  },
  {
   "cell_type": "code",
   "execution_count": 95,
   "id": "733adfad",
   "metadata": {},
   "outputs": [
    {
     "data": {
      "text/html": [
       "<div>\n",
       "<style scoped>\n",
       "    .dataframe tbody tr th:only-of-type {\n",
       "        vertical-align: middle;\n",
       "    }\n",
       "\n",
       "    .dataframe tbody tr th {\n",
       "        vertical-align: top;\n",
       "    }\n",
       "\n",
       "    .dataframe thead tr th {\n",
       "        text-align: left;\n",
       "    }\n",
       "\n",
       "    .dataframe thead tr:last-of-type th {\n",
       "        text-align: right;\n",
       "    }\n",
       "</style>\n",
       "<table border=\"1\" class=\"dataframe\">\n",
       "  <thead>\n",
       "    <tr>\n",
       "      <th>job_type2</th>\n",
       "      <th colspan=\"2\" halign=\"left\">1</th>\n",
       "      <th colspan=\"2\" halign=\"left\">2</th>\n",
       "    </tr>\n",
       "    <tr>\n",
       "      <th>job_type</th>\n",
       "      <th>1</th>\n",
       "      <th>2</th>\n",
       "      <th>1</th>\n",
       "      <th>2</th>\n",
       "    </tr>\n",
       "    <tr>\n",
       "      <th>p220101</th>\n",
       "      <th></th>\n",
       "      <th></th>\n",
       "      <th></th>\n",
       "      <th></th>\n",
       "    </tr>\n",
       "  </thead>\n",
       "  <tbody>\n",
       "    <tr>\n",
       "      <th>1</th>\n",
       "      <td>28.0</td>\n",
       "      <td>21.0</td>\n",
       "      <td>1.0</td>\n",
       "      <td>1.0</td>\n",
       "    </tr>\n",
       "    <tr>\n",
       "      <th>2</th>\n",
       "      <td>31.0</td>\n",
       "      <td>1.0</td>\n",
       "      <td>1.0</td>\n",
       "      <td>0.0</td>\n",
       "    </tr>\n",
       "  </tbody>\n",
       "</table>\n",
       "</div>"
      ],
      "text/plain": [
       "job_type2     1          2     \n",
       "job_type      1     2    1    2\n",
       "p220101                        \n",
       "1          28.0  21.0  1.0  1.0\n",
       "2          31.0   1.0  1.0  0.0"
      ]
     },
     "execution_count": 95,
     "metadata": {},
     "output_type": "execute_result"
    }
   ],
   "source": [
    "dfCohort1990.groupby(['p220101', 'job_type', 'job_type2'])['pid'].count().unstack().unstack().fillna(0)"
   ]
  },
  {
   "cell_type": "code",
   "execution_count": 96,
   "id": "7520f5eb",
   "metadata": {},
   "outputs": [
    {
     "data": {
      "text/html": [
       "<div>\n",
       "<style scoped>\n",
       "    .dataframe tbody tr th:only-of-type {\n",
       "        vertical-align: middle;\n",
       "    }\n",
       "\n",
       "    .dataframe tbody tr th {\n",
       "        vertical-align: top;\n",
       "    }\n",
       "\n",
       "    .dataframe thead tr th {\n",
       "        text-align: left;\n",
       "    }\n",
       "\n",
       "    .dataframe thead tr:last-of-type th {\n",
       "        text-align: right;\n",
       "    }\n",
       "</style>\n",
       "<table border=\"1\" class=\"dataframe\">\n",
       "  <thead>\n",
       "    <tr>\n",
       "      <th>job_type2</th>\n",
       "      <th colspan=\"2\" halign=\"left\">1</th>\n",
       "      <th colspan=\"2\" halign=\"left\">2</th>\n",
       "    </tr>\n",
       "    <tr>\n",
       "      <th>job_type</th>\n",
       "      <th>1</th>\n",
       "      <th>2</th>\n",
       "      <th>1</th>\n",
       "      <th>2</th>\n",
       "    </tr>\n",
       "    <tr>\n",
       "      <th>p220101</th>\n",
       "      <th></th>\n",
       "      <th></th>\n",
       "      <th></th>\n",
       "      <th></th>\n",
       "    </tr>\n",
       "  </thead>\n",
       "  <tbody>\n",
       "    <tr>\n",
       "      <th>1</th>\n",
       "      <td>28</td>\n",
       "      <td>21</td>\n",
       "      <td>1</td>\n",
       "      <td>1</td>\n",
       "    </tr>\n",
       "    <tr>\n",
       "      <th>2</th>\n",
       "      <td>19</td>\n",
       "      <td>8</td>\n",
       "      <td>3</td>\n",
       "      <td>2</td>\n",
       "    </tr>\n",
       "  </tbody>\n",
       "</table>\n",
       "</div>"
      ],
      "text/plain": [
       "job_type2   1      2   \n",
       "job_type    1   2  1  2\n",
       "p220101                \n",
       "1          28  21  1  1\n",
       "2          19   8  3  2"
      ]
     },
     "execution_count": 96,
     "metadata": {},
     "output_type": "execute_result"
    }
   ],
   "source": [
    "dfCohort1970[dfCohort1970['firm_size'] < 3].groupby(['p220101', 'job_type', 'job_type2'])['pid'].count().unstack().unstack().fillna(0)"
   ]
  },
  {
   "cell_type": "code",
   "execution_count": 97,
   "id": "d3ca8175",
   "metadata": {},
   "outputs": [
    {
     "data": {
      "text/html": [
       "<div>\n",
       "<style scoped>\n",
       "    .dataframe tbody tr th:only-of-type {\n",
       "        vertical-align: middle;\n",
       "    }\n",
       "\n",
       "    .dataframe tbody tr th {\n",
       "        vertical-align: top;\n",
       "    }\n",
       "\n",
       "    .dataframe thead tr th {\n",
       "        text-align: left;\n",
       "    }\n",
       "\n",
       "    .dataframe thead tr:last-of-type th {\n",
       "        text-align: right;\n",
       "    }\n",
       "</style>\n",
       "<table border=\"1\" class=\"dataframe\">\n",
       "  <thead>\n",
       "    <tr>\n",
       "      <th>job_type2</th>\n",
       "      <th colspan=\"2\" halign=\"left\">1</th>\n",
       "      <th colspan=\"2\" halign=\"left\">2</th>\n",
       "    </tr>\n",
       "    <tr>\n",
       "      <th>job_type</th>\n",
       "      <th>1</th>\n",
       "      <th>2</th>\n",
       "      <th>1</th>\n",
       "      <th>2</th>\n",
       "    </tr>\n",
       "    <tr>\n",
       "      <th>p220101</th>\n",
       "      <th></th>\n",
       "      <th></th>\n",
       "      <th></th>\n",
       "      <th></th>\n",
       "    </tr>\n",
       "  </thead>\n",
       "  <tbody>\n",
       "    <tr>\n",
       "      <th>1</th>\n",
       "      <td>60.0</td>\n",
       "      <td>27.0</td>\n",
       "      <td>1.0</td>\n",
       "      <td>1.0</td>\n",
       "    </tr>\n",
       "    <tr>\n",
       "      <th>2</th>\n",
       "      <td>37.0</td>\n",
       "      <td>1.0</td>\n",
       "      <td>0.0</td>\n",
       "      <td>0.0</td>\n",
       "    </tr>\n",
       "  </tbody>\n",
       "</table>\n",
       "</div>"
      ],
      "text/plain": [
       "job_type2     1          2     \n",
       "job_type      1     2    1    2\n",
       "p220101                        \n",
       "1          60.0  27.0  1.0  1.0\n",
       "2          37.0   1.0  0.0  0.0"
      ]
     },
     "execution_count": 97,
     "metadata": {},
     "output_type": "execute_result"
    }
   ],
   "source": [
    "dfCohort1980[dfCohort1980['firm_size'] < 3].groupby(['p220101', 'job_type', 'job_type2'])['pid'].count().unstack().unstack().fillna(0)"
   ]
  },
  {
   "cell_type": "code",
   "execution_count": 99,
   "id": "443c921c",
   "metadata": {},
   "outputs": [
    {
     "data": {
      "text/html": [
       "<div>\n",
       "<style scoped>\n",
       "    .dataframe tbody tr th:only-of-type {\n",
       "        vertical-align: middle;\n",
       "    }\n",
       "\n",
       "    .dataframe tbody tr th {\n",
       "        vertical-align: top;\n",
       "    }\n",
       "\n",
       "    .dataframe thead tr th {\n",
       "        text-align: left;\n",
       "    }\n",
       "\n",
       "    .dataframe thead tr:last-of-type th {\n",
       "        text-align: right;\n",
       "    }\n",
       "</style>\n",
       "<table border=\"1\" class=\"dataframe\">\n",
       "  <thead>\n",
       "    <tr>\n",
       "      <th>job_type2</th>\n",
       "      <th colspan=\"2\" halign=\"left\">1</th>\n",
       "      <th colspan=\"2\" halign=\"left\">2</th>\n",
       "    </tr>\n",
       "    <tr>\n",
       "      <th>job_type</th>\n",
       "      <th>1</th>\n",
       "      <th>2</th>\n",
       "      <th>1</th>\n",
       "      <th>2</th>\n",
       "    </tr>\n",
       "    <tr>\n",
       "      <th>p220101</th>\n",
       "      <th></th>\n",
       "      <th></th>\n",
       "      <th></th>\n",
       "      <th></th>\n",
       "    </tr>\n",
       "  </thead>\n",
       "  <tbody>\n",
       "    <tr>\n",
       "      <th>1</th>\n",
       "      <td>20.0</td>\n",
       "      <td>18.0</td>\n",
       "      <td>1.0</td>\n",
       "      <td>1.0</td>\n",
       "    </tr>\n",
       "    <tr>\n",
       "      <th>2</th>\n",
       "      <td>23.0</td>\n",
       "      <td>1.0</td>\n",
       "      <td>1.0</td>\n",
       "      <td>0.0</td>\n",
       "    </tr>\n",
       "  </tbody>\n",
       "</table>\n",
       "</div>"
      ],
      "text/plain": [
       "job_type2     1          2     \n",
       "job_type      1     2    1    2\n",
       "p220101                        \n",
       "1          20.0  18.0  1.0  1.0\n",
       "2          23.0   1.0  1.0  0.0"
      ]
     },
     "execution_count": 99,
     "metadata": {},
     "output_type": "execute_result"
    }
   ],
   "source": [
    "dfCohort1990[dfCohort1990['firm_size'] < 3].groupby(['p220101', 'job_type', 'job_type2'])['pid'].count().unstack().unstack().fillna(0)"
   ]
  },
  {
   "cell_type": "code",
   "execution_count": 86,
   "id": "75b3ff4f",
   "metadata": {},
   "outputs": [
    {
     "data": {
      "text/html": [
       "<div>\n",
       "<style scoped>\n",
       "    .dataframe tbody tr th:only-of-type {\n",
       "        vertical-align: middle;\n",
       "    }\n",
       "\n",
       "    .dataframe tbody tr th {\n",
       "        vertical-align: top;\n",
       "    }\n",
       "\n",
       "    .dataframe thead tr th {\n",
       "        text-align: left;\n",
       "    }\n",
       "\n",
       "    .dataframe thead tr:last-of-type th {\n",
       "        text-align: right;\n",
       "    }\n",
       "</style>\n",
       "<table border=\"1\" class=\"dataframe\">\n",
       "  <thead>\n",
       "    <tr>\n",
       "      <th>firm_size</th>\n",
       "      <th colspan=\"2\" halign=\"left\">1</th>\n",
       "      <th colspan=\"2\" halign=\"left\">2</th>\n",
       "    </tr>\n",
       "    <tr>\n",
       "      <th>job_type</th>\n",
       "      <th>1</th>\n",
       "      <th>2</th>\n",
       "      <th>1</th>\n",
       "      <th>2</th>\n",
       "    </tr>\n",
       "    <tr>\n",
       "      <th>p220101</th>\n",
       "      <th></th>\n",
       "      <th></th>\n",
       "      <th></th>\n",
       "      <th></th>\n",
       "    </tr>\n",
       "  </thead>\n",
       "  <tbody>\n",
       "    <tr>\n",
       "      <th>1</th>\n",
       "      <td>23</td>\n",
       "      <td>21</td>\n",
       "      <td>6</td>\n",
       "      <td>1</td>\n",
       "    </tr>\n",
       "    <tr>\n",
       "      <th>2</th>\n",
       "      <td>20</td>\n",
       "      <td>6</td>\n",
       "      <td>2</td>\n",
       "      <td>4</td>\n",
       "    </tr>\n",
       "  </tbody>\n",
       "</table>\n",
       "</div>"
      ],
      "text/plain": [
       "firm_size   1      2   \n",
       "job_type    1   2  1  2\n",
       "p220101                \n",
       "1          23  21  6  1\n",
       "2          20   6  2  4"
      ]
     },
     "execution_count": 86,
     "metadata": {},
     "output_type": "execute_result"
    }
   ],
   "source": [
    "dfCohort1970[dfCohort1970['firm_size'] < 3].groupby(['p220101', 'job_type', 'firm_size'])['pid'].count().unstack().unstack().fillna(0)"
   ]
  },
  {
   "cell_type": "code",
   "execution_count": 100,
   "id": "49e82a1e",
   "metadata": {},
   "outputs": [
    {
     "data": {
      "text/html": [
       "<div>\n",
       "<style scoped>\n",
       "    .dataframe tbody tr th:only-of-type {\n",
       "        vertical-align: middle;\n",
       "    }\n",
       "\n",
       "    .dataframe tbody tr th {\n",
       "        vertical-align: top;\n",
       "    }\n",
       "\n",
       "    .dataframe thead tr th {\n",
       "        text-align: left;\n",
       "    }\n",
       "\n",
       "    .dataframe thead tr:last-of-type th {\n",
       "        text-align: right;\n",
       "    }\n",
       "</style>\n",
       "<table border=\"1\" class=\"dataframe\">\n",
       "  <thead>\n",
       "    <tr>\n",
       "      <th>firm_size</th>\n",
       "      <th colspan=\"2\" halign=\"left\">1</th>\n",
       "      <th colspan=\"2\" halign=\"left\">2</th>\n",
       "    </tr>\n",
       "    <tr>\n",
       "      <th>job_type</th>\n",
       "      <th>1</th>\n",
       "      <th>2</th>\n",
       "      <th>1</th>\n",
       "      <th>2</th>\n",
       "    </tr>\n",
       "    <tr>\n",
       "      <th>p220101</th>\n",
       "      <th></th>\n",
       "      <th></th>\n",
       "      <th></th>\n",
       "      <th></th>\n",
       "    </tr>\n",
       "  </thead>\n",
       "  <tbody>\n",
       "    <tr>\n",
       "      <th>1</th>\n",
       "      <td>48.0</td>\n",
       "      <td>21.0</td>\n",
       "      <td>13.0</td>\n",
       "      <td>7.0</td>\n",
       "    </tr>\n",
       "    <tr>\n",
       "      <th>2</th>\n",
       "      <td>35.0</td>\n",
       "      <td>1.0</td>\n",
       "      <td>2.0</td>\n",
       "      <td>0.0</td>\n",
       "    </tr>\n",
       "  </tbody>\n",
       "</table>\n",
       "</div>"
      ],
      "text/plain": [
       "firm_size     1           2     \n",
       "job_type      1     2     1    2\n",
       "p220101                         \n",
       "1          48.0  21.0  13.0  7.0\n",
       "2          35.0   1.0   2.0  0.0"
      ]
     },
     "execution_count": 100,
     "metadata": {},
     "output_type": "execute_result"
    }
   ],
   "source": [
    "dfCohort1980[dfCohort1980['firm_size'] < 3].groupby(['p220101', 'job_type', 'firm_size'])['pid'].count().unstack().unstack().fillna(0)"
   ]
  },
  {
   "cell_type": "code",
   "execution_count": 102,
   "id": "2492569f",
   "metadata": {},
   "outputs": [
    {
     "data": {
      "text/html": [
       "<div>\n",
       "<style scoped>\n",
       "    .dataframe tbody tr th:only-of-type {\n",
       "        vertical-align: middle;\n",
       "    }\n",
       "\n",
       "    .dataframe tbody tr th {\n",
       "        vertical-align: top;\n",
       "    }\n",
       "\n",
       "    .dataframe thead tr th {\n",
       "        text-align: left;\n",
       "    }\n",
       "\n",
       "    .dataframe thead tr:last-of-type th {\n",
       "        text-align: right;\n",
       "    }\n",
       "</style>\n",
       "<table border=\"1\" class=\"dataframe\">\n",
       "  <thead>\n",
       "    <tr>\n",
       "      <th>firm_size</th>\n",
       "      <th colspan=\"2\" halign=\"left\">1</th>\n",
       "      <th colspan=\"2\" halign=\"left\">2</th>\n",
       "    </tr>\n",
       "    <tr>\n",
       "      <th>job_type</th>\n",
       "      <th>1</th>\n",
       "      <th>2</th>\n",
       "      <th>1</th>\n",
       "      <th>2</th>\n",
       "    </tr>\n",
       "    <tr>\n",
       "      <th>p220101</th>\n",
       "      <th></th>\n",
       "      <th></th>\n",
       "      <th></th>\n",
       "      <th></th>\n",
       "    </tr>\n",
       "  </thead>\n",
       "  <tbody>\n",
       "    <tr>\n",
       "      <th>1</th>\n",
       "      <td>14.0</td>\n",
       "      <td>14.0</td>\n",
       "      <td>7.0</td>\n",
       "      <td>5.0</td>\n",
       "    </tr>\n",
       "    <tr>\n",
       "      <th>2</th>\n",
       "      <td>20.0</td>\n",
       "      <td>0.0</td>\n",
       "      <td>4.0</td>\n",
       "      <td>1.0</td>\n",
       "    </tr>\n",
       "  </tbody>\n",
       "</table>\n",
       "</div>"
      ],
      "text/plain": [
       "firm_size     1          2     \n",
       "job_type      1     2    1    2\n",
       "p220101                        \n",
       "1          14.0  14.0  7.0  5.0\n",
       "2          20.0   0.0  4.0  1.0"
      ]
     },
     "execution_count": 102,
     "metadata": {},
     "output_type": "execute_result"
    }
   ],
   "source": [
    "dfCohort1990[dfCohort1990['firm_size'] < 3].groupby(['p220101', 'job_type', 'firm_size'])['pid'].count().unstack().unstack().fillna(0)"
   ]
  },
  {
   "cell_type": "code",
   "execution_count": 120,
   "id": "d5f72223",
   "metadata": {},
   "outputs": [
    {
     "name": "stderr",
     "output_type": "stream",
     "text": [
      "/tmp/ipykernel_37687/1285566363.py:30: SettingWithCopyWarning: \n",
      "A value is trying to be set on a copy of a slice from a DataFrame.\n",
      "Try using .loc[row_indexer,col_indexer] = value instead\n",
      "\n",
      "See the caveats in the documentation: https://pandas.pydata.org/pandas-docs/stable/user_guide/indexing.html#returning-a-view-versus-a-copy\n",
      "  dfCohort1970['HRB'] = dfCohort1970.apply(HRB, axis=1)\n"
     ]
    }
   ],
   "source": [
    "# 가설적 인구집단 변수 구성\n",
    "\"\"\" \n",
    "1970년 HRB\n",
    "G1 남성 / 176 / 상용직 / 100인 미만 / 블루 칼라 / 1994 / 33 / 고졸 / 조기은퇴\n",
    "G2 남성 / 226.5 /상용직 / 100인 이상 300인 미만 / 화이트 칼라 / 1989 / 30 / 대졸 / 조기은퇴\n",
    "G3 여성 / 147.8 / 상용직 / 100인 이상 300인 미만 / 화이트 칼라 / 1992 / 대졸 / 조기은퇴\n",
    "G4 여성 / 121.0 /임시일용 / 100인 미만 / 블루 칼라 / 1989 / 31 / 고졸 / 실업\n",
    "G5 남성 / 165.6 /임시일용 / 100인 미만 / 블루 칼라 / 1992 / 31 / 고졸 /실업\n",
    "G6 여성 / 121.0 / 임시일용 / 100인 미만 / 블루 칼라 / 1989 / 21/ 고졸 / 실업\n",
    "\"\"\"\n",
    "\n",
    "\n",
    "def HRB(row): \n",
    "    \n",
    "    if (row['p220101'] == 1) & (row['job_type'] == 2) & (row['job_type2'] == 1) & (row['firm_size'] == 1):        \n",
    "        return 1\n",
    "    elif (row['p220101'] == 1) & (row['job_type'] == 1) & (row['job_type2'] == 1) & (row['firm_size'] == 2):\n",
    "        return 2\n",
    "    elif (row['p220101'] == 2) & (row['job_type'] == 1) & (row['job_type2'] == 1) & (row['firm_size'] == 2):\n",
    "        return 3\n",
    "    elif (row['p220101'] == 2) & (row['job_type'] == 2) & (row['job_type2'] == 2) & (row['firm_size'] == 1):\n",
    "        return 4\n",
    "    elif (row['p220101'] == 1) & (row['job_type'] == 2) & (row['job_type2'] == 2) & (row['firm_size'] == 1):\n",
    "        return 5\n",
    "    elif (row['p220101'] == 2) & (row['job_type'] == 2) & (row['job_type2'] == 2) & (row['firm_size'] == 1):\n",
    "        return 6\n",
    "    else:\n",
    "        return -1\n",
    "    \n",
    "dfCohort1970['HRB'] = dfCohort1970.apply(HRB, axis=1)"
   ]
  },
  {
   "cell_type": "code",
   "execution_count": null,
   "id": "a81433ef",
   "metadata": {},
   "outputs": [],
   "source": [
    "dfCohort1970['HRB'].groupby(['HRB'])['p221642']"
   ]
  },
  {
   "cell_type": "code",
   "execution_count": null,
   "id": "a0339735",
   "metadata": {},
   "outputs": [],
   "source": [
    "# 1970년대 가설적 인구집단\n",
    "\n",
    "dfG1 = dfCohort1970[(dfCohort1970['p220101'] == 1) & # 남성\n",
    "                    (dfCohort1970['job_type'] == 1) & # 화이트 칼라\n",
    "                    (dfCohort1970['job_type2'] == 1) & # 상용직\n",
    "                    (dfCohort1970['firm_size'] == 1) & # 100인 미만\n",
    "]\n",
    "dfG2 = dfCohort1970[(dfCohort1970['p220101'] == 1) & # 남성\n",
    "                    (dfCohort1970['job_type'] == 2) & # 블루 칼라\n",
    "                    (dfCohort1970['job_type2'] == 1) & # 상용직\n",
    "                    (dfCohort1970['firm_size'] == 1) & # 100인 미만\n",
    "]\n",
    "dfG3 = dfCohort1970[(dfCohort1970['p220101'] == 1) & # 남성\n",
    "                    (dfCohort1970['job_type'] == 1) & # 화이트 칼라\n",
    "                    (dfCohort1970['job_type2'] == 1) & # 상용직\n",
    "                    (dfCohort1970['firm_size'] == 2) & # 100인 이상 300인 미만\n",
    "]\n",
    "dfG4 = dfCohort1970[(dfCohort1970['p220101'] == 2) & # 여성\n",
    "                    (dfCohort1970['job_type'] == 1) & # 화이트 칼라\n",
    "                    (dfCohort1970['job_type2'] == 1) & # 상용직\n",
    "                    (dfCohort1970['firm_size'] == 1) & # 100인 미만\n",
    "]\n",
    "dfG5 = dfCohort1970[(dfCohort1970['p220101'] == 2) & # 여성\n",
    "                    (dfCohort1970['job_type'] == 2) & # 블루 칼라\n",
    "                    (dfCohort1970['job_type2'] == 1) & # 상용직\n",
    "                    (dfCohort1970['firm_size'] == 1) & # 100인 미만\n",
    "]\n",
    "dfG6 = dfCohort1970[(dfCohort1970['p220101'] == 2) & # 여성\n",
    "                    (dfCohort1970['job_type'] == 1) & # 화이트 칼라\n",
    "                    (dfCohort1970['job_type2'] == 1) & # 상용직\n",
    "                    (dfCohort1970['firm_size'] == 2) & # 100인 이상 300인 미만\n",
    "]"
   ]
  },
  {
   "cell_type": "code",
   "execution_count": 81,
   "id": "de92b02d",
   "metadata": {},
   "outputs": [
    {
     "data": {
      "text/plain": [
       "386.22222222222223"
      ]
     },
     "execution_count": 81,
     "metadata": {},
     "output_type": "execute_result"
    }
   ],
   "source": [
    "dfCohort1970['p221642'].mean()"
   ]
  },
  {
   "cell_type": "code",
   "execution_count": 82,
   "id": "1c68b022",
   "metadata": {},
   "outputs": [
    {
     "data": {
      "text/plain": [
       "p220101  job_type2\n",
       "1        1            458.771084\n",
       "         2            372.500000\n",
       "2        1            246.416667\n",
       "         2            194.000000\n",
       "Name: p221642, dtype: float64"
      ]
     },
     "execution_count": 82,
     "metadata": {},
     "output_type": "execute_result"
    }
   ],
   "source": [
    "dfCohort1970.groupby(['p220101', 'job_type2'])['p221642'].mean()"
   ]
  },
  {
   "cell_type": "code",
   "execution_count": 83,
   "id": "5bff00d4",
   "metadata": {},
   "outputs": [
    {
     "data": {
      "text/plain": [
       "job_type2\n",
       "1    394.529412\n",
       "2    245.000000\n",
       "Name: p221642, dtype: float64"
      ]
     },
     "execution_count": 83,
     "metadata": {},
     "output_type": "execute_result"
    }
   ],
   "source": [
    "dfCohort1970.groupby(['job_type2'])['p221642'].mean()"
   ]
  },
  {
   "cell_type": "code",
   "execution_count": 84,
   "id": "12b3b637",
   "metadata": {},
   "outputs": [
    {
     "data": {
      "text/html": [
       "<div>\n",
       "<style scoped>\n",
       "    .dataframe tbody tr th:only-of-type {\n",
       "        vertical-align: middle;\n",
       "    }\n",
       "\n",
       "    .dataframe tbody tr th {\n",
       "        vertical-align: top;\n",
       "    }\n",
       "\n",
       "    .dataframe thead tr th {\n",
       "        text-align: left;\n",
       "    }\n",
       "\n",
       "    .dataframe thead tr:last-of-type th {\n",
       "        text-align: right;\n",
       "    }\n",
       "</style>\n",
       "<table border=\"1\" class=\"dataframe\">\n",
       "  <thead>\n",
       "    <tr>\n",
       "      <th>job_type2</th>\n",
       "      <th colspan=\"2\" halign=\"left\">1</th>\n",
       "      <th colspan=\"2\" halign=\"left\">2</th>\n",
       "    </tr>\n",
       "    <tr>\n",
       "      <th>job_type</th>\n",
       "      <th>1</th>\n",
       "      <th>2</th>\n",
       "      <th>1</th>\n",
       "      <th>2</th>\n",
       "    </tr>\n",
       "    <tr>\n",
       "      <th>p220101</th>\n",
       "      <th></th>\n",
       "      <th></th>\n",
       "      <th></th>\n",
       "      <th></th>\n",
       "    </tr>\n",
       "  </thead>\n",
       "  <tbody>\n",
       "    <tr>\n",
       "      <th>1</th>\n",
       "      <td>489.092593</td>\n",
       "      <td>402.310345</td>\n",
       "      <td>295.000000</td>\n",
       "      <td>450.0</td>\n",
       "    </tr>\n",
       "    <tr>\n",
       "      <th>2</th>\n",
       "      <td>265.307692</td>\n",
       "      <td>197.300000</td>\n",
       "      <td>176.666667</td>\n",
       "      <td>220.0</td>\n",
       "    </tr>\n",
       "  </tbody>\n",
       "</table>\n",
       "</div>"
      ],
      "text/plain": [
       "job_type2           1                       2       \n",
       "job_type            1           2           1      2\n",
       "p220101                                             \n",
       "1          489.092593  402.310345  295.000000  450.0\n",
       "2          265.307692  197.300000  176.666667  220.0"
      ]
     },
     "execution_count": 84,
     "metadata": {},
     "output_type": "execute_result"
    }
   ],
   "source": [
    "dfCohort1970.groupby(['p220101', 'job_type', 'job_type2'])['p221642'].mean().unstack().unstack().fillna(0)"
   ]
  },
  {
   "cell_type": "code",
   "execution_count": null,
   "id": "6a785c06",
   "metadata": {},
   "outputs": [],
   "source": []
  },
  {
   "cell_type": "code",
   "execution_count": 248,
   "id": "251a4ba0",
   "metadata": {},
   "outputs": [],
   "source": [
    "dfG3_1970 = dfCohort1970[(dfCohort1970['fsize2'] == '중기업') & (dfCohort1970['성별'] == '남성') & (dfCohort1970['p220110'] == 5)]"
   ]
  },
  {
   "cell_type": "code",
   "execution_count": 249,
   "id": "54ef69ff",
   "metadata": {},
   "outputs": [],
   "source": [
    "dfG4_1970 = dfCohort1970[(dfCohort1970['fsize2'] == '중기업') & (dfCohort1970['성별'] == '남성') & (dfCohort1970['p220110'] == 7)]"
   ]
  },
  {
   "cell_type": "code",
   "execution_count": 250,
   "id": "da6efe63",
   "metadata": {},
   "outputs": [
    {
     "data": {
      "text/plain": [
       "6"
      ]
     },
     "execution_count": 250,
     "metadata": {},
     "output_type": "execute_result"
    }
   ],
   "source": [
    "len(dfG3_1970)"
   ]
  },
  {
   "cell_type": "code",
   "execution_count": 251,
   "id": "9e249f1d",
   "metadata": {},
   "outputs": [
    {
     "data": {
      "text/html": [
       "<div>\n",
       "<style scoped>\n",
       "    .dataframe tbody tr th:only-of-type {\n",
       "        vertical-align: middle;\n",
       "    }\n",
       "\n",
       "    .dataframe tbody tr th {\n",
       "        vertical-align: top;\n",
       "    }\n",
       "\n",
       "    .dataframe thead th {\n",
       "        text-align: right;\n",
       "    }\n",
       "</style>\n",
       "<table border=\"1\" class=\"dataframe\">\n",
       "  <thead>\n",
       "    <tr style=\"text-align: right;\">\n",
       "      <th></th>\n",
       "      <th>mwage</th>\n",
       "      <th>jtype</th>\n",
       "      <th>jtype2</th>\n",
       "      <th>p220110</th>\n",
       "      <th>p222504</th>\n",
       "    </tr>\n",
       "  </thead>\n",
       "  <tbody>\n",
       "    <tr>\n",
       "      <th>3530</th>\n",
       "      <td>250.0</td>\n",
       "      <td>블루 칼라</td>\n",
       "      <td>상용직</td>\n",
       "      <td>5</td>\n",
       "      <td>2.0</td>\n",
       "    </tr>\n",
       "    <tr>\n",
       "      <th>11109</th>\n",
       "      <td>800.0</td>\n",
       "      <td>블루 칼라</td>\n",
       "      <td>상용직</td>\n",
       "      <td>5</td>\n",
       "      <td>1.0</td>\n",
       "    </tr>\n",
       "    <tr>\n",
       "      <th>12159</th>\n",
       "      <td>295.0</td>\n",
       "      <td>화이트 칼라</td>\n",
       "      <td>임시일용직</td>\n",
       "      <td>5</td>\n",
       "      <td>2.0</td>\n",
       "    </tr>\n",
       "    <tr>\n",
       "      <th>12526</th>\n",
       "      <td>450.0</td>\n",
       "      <td>블루 칼라</td>\n",
       "      <td>상용직</td>\n",
       "      <td>5</td>\n",
       "      <td>2.0</td>\n",
       "    </tr>\n",
       "    <tr>\n",
       "      <th>19921</th>\n",
       "      <td>430.0</td>\n",
       "      <td>화이트 칼라</td>\n",
       "      <td>상용직</td>\n",
       "      <td>5</td>\n",
       "      <td>2.0</td>\n",
       "    </tr>\n",
       "    <tr>\n",
       "      <th>21600</th>\n",
       "      <td>800.0</td>\n",
       "      <td>화이트 칼라</td>\n",
       "      <td>상용직</td>\n",
       "      <td>5</td>\n",
       "      <td>2.0</td>\n",
       "    </tr>\n",
       "  </tbody>\n",
       "</table>\n",
       "</div>"
      ],
      "text/plain": [
       "       mwage   jtype jtype2  p220110  p222504\n",
       "3530   250.0   블루 칼라    상용직        5      2.0\n",
       "11109  800.0   블루 칼라    상용직        5      1.0\n",
       "12159  295.0  화이트 칼라  임시일용직        5      2.0\n",
       "12526  450.0   블루 칼라    상용직        5      2.0\n",
       "19921  430.0  화이트 칼라    상용직        5      2.0\n",
       "21600  800.0  화이트 칼라    상용직        5      2.0"
      ]
     },
     "execution_count": 251,
     "metadata": {},
     "output_type": "execute_result"
    }
   ],
   "source": [
    "dfG3_1970[['mwage', 'jtype', 'jtype2', 'p220110', 'p222504']]"
   ]
  },
  {
   "cell_type": "code",
   "execution_count": 252,
   "id": "d2490087",
   "metadata": {},
   "outputs": [
    {
     "data": {
      "text/plain": [
       "mwage      440.0\n",
       "p220110      5.0\n",
       "p222504      2.0\n",
       "dtype: float64"
      ]
     },
     "execution_count": 252,
     "metadata": {},
     "output_type": "execute_result"
    }
   ],
   "source": [
    "dfG3_1970[['mwage', 'jtype', 'jtype2', 'p220110', 'p222504']].median()"
   ]
  },
  {
   "cell_type": "code",
   "execution_count": 253,
   "id": "fe32f213",
   "metadata": {},
   "outputs": [],
   "source": [
    "G3 = {'구분': '집단3', '성별': '남성', '기업규모': '중기업', '평균임금': 440.0, '종사상지위': '상용직', '교육수준': '고졸', '직종': '블루 칼라', '노조가입여부': '무노조'}"
   ]
  },
  {
   "cell_type": "code",
   "execution_count": 254,
   "id": "39ec6a79",
   "metadata": {},
   "outputs": [
    {
     "data": {
      "text/plain": [
       "5"
      ]
     },
     "execution_count": 254,
     "metadata": {},
     "output_type": "execute_result"
    }
   ],
   "source": [
    "len(dfG4_1970)"
   ]
  },
  {
   "cell_type": "code",
   "execution_count": 255,
   "id": "c9ea03e5",
   "metadata": {},
   "outputs": [
    {
     "data": {
      "text/html": [
       "<div>\n",
       "<style scoped>\n",
       "    .dataframe tbody tr th:only-of-type {\n",
       "        vertical-align: middle;\n",
       "    }\n",
       "\n",
       "    .dataframe tbody tr th {\n",
       "        vertical-align: top;\n",
       "    }\n",
       "\n",
       "    .dataframe thead th {\n",
       "        text-align: right;\n",
       "    }\n",
       "</style>\n",
       "<table border=\"1\" class=\"dataframe\">\n",
       "  <thead>\n",
       "    <tr style=\"text-align: right;\">\n",
       "      <th></th>\n",
       "      <th>mwage</th>\n",
       "      <th>jtype</th>\n",
       "      <th>jtype2</th>\n",
       "      <th>p220110</th>\n",
       "      <th>p222504</th>\n",
       "    </tr>\n",
       "  </thead>\n",
       "  <tbody>\n",
       "    <tr>\n",
       "      <th>2560</th>\n",
       "      <td>480.0</td>\n",
       "      <td>화이트 칼라</td>\n",
       "      <td>상용직</td>\n",
       "      <td>7</td>\n",
       "      <td>2.0</td>\n",
       "    </tr>\n",
       "    <tr>\n",
       "      <th>9841</th>\n",
       "      <td>461.0</td>\n",
       "      <td>화이트 칼라</td>\n",
       "      <td>상용직</td>\n",
       "      <td>7</td>\n",
       "      <td>2.0</td>\n",
       "    </tr>\n",
       "    <tr>\n",
       "      <th>11933</th>\n",
       "      <td>400.0</td>\n",
       "      <td>화이트 칼라</td>\n",
       "      <td>상용직</td>\n",
       "      <td>7</td>\n",
       "      <td>2.0</td>\n",
       "    </tr>\n",
       "    <tr>\n",
       "      <th>19737</th>\n",
       "      <td>530.0</td>\n",
       "      <td>화이트 칼라</td>\n",
       "      <td>상용직</td>\n",
       "      <td>7</td>\n",
       "      <td>1.0</td>\n",
       "    </tr>\n",
       "    <tr>\n",
       "      <th>19949</th>\n",
       "      <td>700.0</td>\n",
       "      <td>화이트 칼라</td>\n",
       "      <td>상용직</td>\n",
       "      <td>7</td>\n",
       "      <td>2.0</td>\n",
       "    </tr>\n",
       "  </tbody>\n",
       "</table>\n",
       "</div>"
      ],
      "text/plain": [
       "       mwage   jtype jtype2  p220110  p222504\n",
       "2560   480.0  화이트 칼라    상용직        7      2.0\n",
       "9841   461.0  화이트 칼라    상용직        7      2.0\n",
       "11933  400.0  화이트 칼라    상용직        7      2.0\n",
       "19737  530.0  화이트 칼라    상용직        7      1.0\n",
       "19949  700.0  화이트 칼라    상용직        7      2.0"
      ]
     },
     "execution_count": 255,
     "metadata": {},
     "output_type": "execute_result"
    }
   ],
   "source": [
    "dfG4_1970[['mwage', 'jtype', 'jtype2', 'p220110', 'p222504']]"
   ]
  },
  {
   "cell_type": "code",
   "execution_count": 256,
   "id": "9108ff76",
   "metadata": {},
   "outputs": [
    {
     "data": {
      "text/plain": [
       "mwage      480.0\n",
       "p220110      7.0\n",
       "p222504      2.0\n",
       "dtype: float64"
      ]
     },
     "execution_count": 256,
     "metadata": {},
     "output_type": "execute_result"
    }
   ],
   "source": [
    "dfG4_1970[['mwage', 'jtype', 'jtype2', 'p220110', 'p222504']].median()"
   ]
  },
  {
   "cell_type": "code",
   "execution_count": 257,
   "id": "a213b23e",
   "metadata": {},
   "outputs": [],
   "source": [
    "G4 = {'구분': '집단4', '성별': '남성', '기업규모': '중기업', '평균임금': 480.0, '종사상지위': '상용직', '교육수준': '4년제 대졸', '직종': '화이트 칼라', '노조가입여부': '무노조'}"
   ]
  },
  {
   "cell_type": "code",
   "execution_count": 258,
   "id": "90e4e64d",
   "metadata": {},
   "outputs": [],
   "source": [
    "dfG1_1970 = dfCohort1970[(dfCohort1970['fsize2'] == '소기업') & (dfCohort1970['성별'] == '남성')]# & (dfCohort1970['p220110'] == 5)]"
   ]
  },
  {
   "cell_type": "code",
   "execution_count": 259,
   "id": "596c1049",
   "metadata": {},
   "outputs": [
    {
     "data": {
      "text/html": [
       "<div>\n",
       "<style scoped>\n",
       "    .dataframe tbody tr th:only-of-type {\n",
       "        vertical-align: middle;\n",
       "    }\n",
       "\n",
       "    .dataframe tbody tr th {\n",
       "        vertical-align: top;\n",
       "    }\n",
       "\n",
       "    .dataframe thead th {\n",
       "        text-align: right;\n",
       "    }\n",
       "</style>\n",
       "<table border=\"1\" class=\"dataframe\">\n",
       "  <thead>\n",
       "    <tr style=\"text-align: right;\">\n",
       "      <th></th>\n",
       "      <th>mwage</th>\n",
       "      <th>jtype</th>\n",
       "      <th>jtype2</th>\n",
       "      <th>p220110</th>\n",
       "      <th>p222504</th>\n",
       "    </tr>\n",
       "  </thead>\n",
       "  <tbody>\n",
       "    <tr>\n",
       "      <th>917</th>\n",
       "      <td>300.0</td>\n",
       "      <td>화이트 칼라</td>\n",
       "      <td>상용직</td>\n",
       "      <td>5</td>\n",
       "      <td>2.0</td>\n",
       "    </tr>\n",
       "    <tr>\n",
       "      <th>1080</th>\n",
       "      <td>500.0</td>\n",
       "      <td>화이트 칼라</td>\n",
       "      <td>상용직</td>\n",
       "      <td>7</td>\n",
       "      <td>2.0</td>\n",
       "    </tr>\n",
       "    <tr>\n",
       "      <th>1325</th>\n",
       "      <td>670.0</td>\n",
       "      <td>블루 칼라</td>\n",
       "      <td>상용직</td>\n",
       "      <td>7</td>\n",
       "      <td>2.0</td>\n",
       "    </tr>\n",
       "    <tr>\n",
       "      <th>1415</th>\n",
       "      <td>370.0</td>\n",
       "      <td>블루 칼라</td>\n",
       "      <td>상용직</td>\n",
       "      <td>5</td>\n",
       "      <td>2.0</td>\n",
       "    </tr>\n",
       "    <tr>\n",
       "      <th>2954</th>\n",
       "      <td>250.0</td>\n",
       "      <td>블루 칼라</td>\n",
       "      <td>상용직</td>\n",
       "      <td>6</td>\n",
       "      <td>1.0</td>\n",
       "    </tr>\n",
       "    <tr>\n",
       "      <th>3785</th>\n",
       "      <td>300.0</td>\n",
       "      <td>블루 칼라</td>\n",
       "      <td>상용직</td>\n",
       "      <td>5</td>\n",
       "      <td>2.0</td>\n",
       "    </tr>\n",
       "    <tr>\n",
       "      <th>3789</th>\n",
       "      <td>450.0</td>\n",
       "      <td>블루 칼라</td>\n",
       "      <td>상용직</td>\n",
       "      <td>6</td>\n",
       "      <td>2.0</td>\n",
       "    </tr>\n",
       "    <tr>\n",
       "      <th>3885</th>\n",
       "      <td>400.0</td>\n",
       "      <td>블루 칼라</td>\n",
       "      <td>상용직</td>\n",
       "      <td>7</td>\n",
       "      <td>2.0</td>\n",
       "    </tr>\n",
       "    <tr>\n",
       "      <th>4545</th>\n",
       "      <td>382.0</td>\n",
       "      <td>블루 칼라</td>\n",
       "      <td>상용직</td>\n",
       "      <td>5</td>\n",
       "      <td>2.0</td>\n",
       "    </tr>\n",
       "    <tr>\n",
       "      <th>4808</th>\n",
       "      <td>348.0</td>\n",
       "      <td>화이트 칼라</td>\n",
       "      <td>상용직</td>\n",
       "      <td>5</td>\n",
       "      <td>2.0</td>\n",
       "    </tr>\n",
       "    <tr>\n",
       "      <th>6804</th>\n",
       "      <td>328.0</td>\n",
       "      <td>화이트 칼라</td>\n",
       "      <td>상용직</td>\n",
       "      <td>5</td>\n",
       "      <td>2.0</td>\n",
       "    </tr>\n",
       "    <tr>\n",
       "      <th>8449</th>\n",
       "      <td>350.0</td>\n",
       "      <td>화이트 칼라</td>\n",
       "      <td>상용직</td>\n",
       "      <td>7</td>\n",
       "      <td>2.0</td>\n",
       "    </tr>\n",
       "    <tr>\n",
       "      <th>8954</th>\n",
       "      <td>250.0</td>\n",
       "      <td>블루 칼라</td>\n",
       "      <td>상용직</td>\n",
       "      <td>6</td>\n",
       "      <td>2.0</td>\n",
       "    </tr>\n",
       "    <tr>\n",
       "      <th>9880</th>\n",
       "      <td>330.0</td>\n",
       "      <td>화이트 칼라</td>\n",
       "      <td>상용직</td>\n",
       "      <td>6</td>\n",
       "      <td>1.0</td>\n",
       "    </tr>\n",
       "    <tr>\n",
       "      <th>10303</th>\n",
       "      <td>120.0</td>\n",
       "      <td>화이트 칼라</td>\n",
       "      <td>상용직</td>\n",
       "      <td>8</td>\n",
       "      <td>2.0</td>\n",
       "    </tr>\n",
       "    <tr>\n",
       "      <th>10318</th>\n",
       "      <td>450.0</td>\n",
       "      <td>화이트 칼라</td>\n",
       "      <td>상용직</td>\n",
       "      <td>7</td>\n",
       "      <td>2.0</td>\n",
       "    </tr>\n",
       "    <tr>\n",
       "      <th>10541</th>\n",
       "      <td>350.0</td>\n",
       "      <td>화이트 칼라</td>\n",
       "      <td>상용직</td>\n",
       "      <td>7</td>\n",
       "      <td>2.0</td>\n",
       "    </tr>\n",
       "    <tr>\n",
       "      <th>10645</th>\n",
       "      <td>300.0</td>\n",
       "      <td>블루 칼라</td>\n",
       "      <td>상용직</td>\n",
       "      <td>6</td>\n",
       "      <td>2.0</td>\n",
       "    </tr>\n",
       "    <tr>\n",
       "      <th>10791</th>\n",
       "      <td>250.0</td>\n",
       "      <td>화이트 칼라</td>\n",
       "      <td>상용직</td>\n",
       "      <td>5</td>\n",
       "      <td>2.0</td>\n",
       "    </tr>\n",
       "    <tr>\n",
       "      <th>10971</th>\n",
       "      <td>300.0</td>\n",
       "      <td>화이트 칼라</td>\n",
       "      <td>상용직</td>\n",
       "      <td>6</td>\n",
       "      <td>2.0</td>\n",
       "    </tr>\n",
       "    <tr>\n",
       "      <th>11909</th>\n",
       "      <td>350.0</td>\n",
       "      <td>블루 칼라</td>\n",
       "      <td>임시일용직</td>\n",
       "      <td>5</td>\n",
       "      <td>2.0</td>\n",
       "    </tr>\n",
       "    <tr>\n",
       "      <th>13550</th>\n",
       "      <td>150.0</td>\n",
       "      <td>블루 칼라</td>\n",
       "      <td>상용직</td>\n",
       "      <td>5</td>\n",
       "      <td>2.0</td>\n",
       "    </tr>\n",
       "    <tr>\n",
       "      <th>14262</th>\n",
       "      <td>310.0</td>\n",
       "      <td>화이트 칼라</td>\n",
       "      <td>상용직</td>\n",
       "      <td>5</td>\n",
       "      <td>2.0</td>\n",
       "    </tr>\n",
       "    <tr>\n",
       "      <th>15458</th>\n",
       "      <td>450.0</td>\n",
       "      <td>블루 칼라</td>\n",
       "      <td>임시일용직</td>\n",
       "      <td>5</td>\n",
       "      <td>2.0</td>\n",
       "    </tr>\n",
       "    <tr>\n",
       "      <th>16632</th>\n",
       "      <td>350.0</td>\n",
       "      <td>블루 칼라</td>\n",
       "      <td>상용직</td>\n",
       "      <td>5</td>\n",
       "      <td>2.0</td>\n",
       "    </tr>\n",
       "    <tr>\n",
       "      <th>16724</th>\n",
       "      <td>250.0</td>\n",
       "      <td>블루 칼라</td>\n",
       "      <td>상용직</td>\n",
       "      <td>5</td>\n",
       "      <td>2.0</td>\n",
       "    </tr>\n",
       "    <tr>\n",
       "      <th>17827</th>\n",
       "      <td>280.0</td>\n",
       "      <td>화이트 칼라</td>\n",
       "      <td>상용직</td>\n",
       "      <td>7</td>\n",
       "      <td>2.0</td>\n",
       "    </tr>\n",
       "    <tr>\n",
       "      <th>18531</th>\n",
       "      <td>250.0</td>\n",
       "      <td>블루 칼라</td>\n",
       "      <td>상용직</td>\n",
       "      <td>5</td>\n",
       "      <td>2.0</td>\n",
       "    </tr>\n",
       "    <tr>\n",
       "      <th>18896</th>\n",
       "      <td>420.0</td>\n",
       "      <td>화이트 칼라</td>\n",
       "      <td>상용직</td>\n",
       "      <td>7</td>\n",
       "      <td>2.0</td>\n",
       "    </tr>\n",
       "    <tr>\n",
       "      <th>19437</th>\n",
       "      <td>500.0</td>\n",
       "      <td>화이트 칼라</td>\n",
       "      <td>상용직</td>\n",
       "      <td>7</td>\n",
       "      <td>2.0</td>\n",
       "    </tr>\n",
       "    <tr>\n",
       "      <th>21399</th>\n",
       "      <td>260.0</td>\n",
       "      <td>블루 칼라</td>\n",
       "      <td>상용직</td>\n",
       "      <td>5</td>\n",
       "      <td>2.0</td>\n",
       "    </tr>\n",
       "    <tr>\n",
       "      <th>21759</th>\n",
       "      <td>330.0</td>\n",
       "      <td>블루 칼라</td>\n",
       "      <td>상용직</td>\n",
       "      <td>5</td>\n",
       "      <td>2.0</td>\n",
       "    </tr>\n",
       "    <tr>\n",
       "      <th>21779</th>\n",
       "      <td>250.0</td>\n",
       "      <td>블루 칼라</td>\n",
       "      <td>상용직</td>\n",
       "      <td>5</td>\n",
       "      <td>2.0</td>\n",
       "    </tr>\n",
       "    <tr>\n",
       "      <th>22897</th>\n",
       "      <td>180.0</td>\n",
       "      <td>블루 칼라</td>\n",
       "      <td>상용직</td>\n",
       "      <td>4</td>\n",
       "      <td>2.0</td>\n",
       "    </tr>\n",
       "    <tr>\n",
       "      <th>23176</th>\n",
       "      <td>480.0</td>\n",
       "      <td>화이트 칼라</td>\n",
       "      <td>상용직</td>\n",
       "      <td>6</td>\n",
       "      <td>2.0</td>\n",
       "    </tr>\n",
       "  </tbody>\n",
       "</table>\n",
       "</div>"
      ],
      "text/plain": [
       "       mwage   jtype jtype2  p220110  p222504\n",
       "917    300.0  화이트 칼라    상용직        5      2.0\n",
       "1080   500.0  화이트 칼라    상용직        7      2.0\n",
       "1325   670.0   블루 칼라    상용직        7      2.0\n",
       "1415   370.0   블루 칼라    상용직        5      2.0\n",
       "2954   250.0   블루 칼라    상용직        6      1.0\n",
       "3785   300.0   블루 칼라    상용직        5      2.0\n",
       "3789   450.0   블루 칼라    상용직        6      2.0\n",
       "3885   400.0   블루 칼라    상용직        7      2.0\n",
       "4545   382.0   블루 칼라    상용직        5      2.0\n",
       "4808   348.0  화이트 칼라    상용직        5      2.0\n",
       "6804   328.0  화이트 칼라    상용직        5      2.0\n",
       "8449   350.0  화이트 칼라    상용직        7      2.0\n",
       "8954   250.0   블루 칼라    상용직        6      2.0\n",
       "9880   330.0  화이트 칼라    상용직        6      1.0\n",
       "10303  120.0  화이트 칼라    상용직        8      2.0\n",
       "10318  450.0  화이트 칼라    상용직        7      2.0\n",
       "10541  350.0  화이트 칼라    상용직        7      2.0\n",
       "10645  300.0   블루 칼라    상용직        6      2.0\n",
       "10791  250.0  화이트 칼라    상용직        5      2.0\n",
       "10971  300.0  화이트 칼라    상용직        6      2.0\n",
       "11909  350.0   블루 칼라  임시일용직        5      2.0\n",
       "13550  150.0   블루 칼라    상용직        5      2.0\n",
       "14262  310.0  화이트 칼라    상용직        5      2.0\n",
       "15458  450.0   블루 칼라  임시일용직        5      2.0\n",
       "16632  350.0   블루 칼라    상용직        5      2.0\n",
       "16724  250.0   블루 칼라    상용직        5      2.0\n",
       "17827  280.0  화이트 칼라    상용직        7      2.0\n",
       "18531  250.0   블루 칼라    상용직        5      2.0\n",
       "18896  420.0  화이트 칼라    상용직        7      2.0\n",
       "19437  500.0  화이트 칼라    상용직        7      2.0\n",
       "21399  260.0   블루 칼라    상용직        5      2.0\n",
       "21759  330.0   블루 칼라    상용직        5      2.0\n",
       "21779  250.0   블루 칼라    상용직        5      2.0\n",
       "22897  180.0   블루 칼라    상용직        4      2.0\n",
       "23176  480.0  화이트 칼라    상용직        6      2.0"
      ]
     },
     "execution_count": 259,
     "metadata": {},
     "output_type": "execute_result"
    }
   ],
   "source": [
    "dfG1_1970[['mwage', 'jtype', 'jtype2', 'p220110', 'p222504']]"
   ]
  },
  {
   "cell_type": "code",
   "execution_count": 260,
   "id": "3b6c5d18",
   "metadata": {},
   "outputs": [
    {
     "data": {
      "text/plain": [
       "<AxesSubplot:>"
      ]
     },
     "execution_count": 260,
     "metadata": {},
     "output_type": "execute_result"
    },
    {
     "name": "stderr",
     "output_type": "stream",
     "text": [
      "/home/henry/anaconda3/envs/pension/lib/python3.8/site-packages/matplotlib/backends/backend_agg.py:238: RuntimeWarning: Glyph 54868 missing from current font.\n",
      "  font.set_text(s, 0.0, flags=flags)\n",
      "/home/henry/anaconda3/envs/pension/lib/python3.8/site-packages/matplotlib/backends/backend_agg.py:238: RuntimeWarning: Glyph 51060 missing from current font.\n",
      "  font.set_text(s, 0.0, flags=flags)\n",
      "/home/henry/anaconda3/envs/pension/lib/python3.8/site-packages/matplotlib/backends/backend_agg.py:238: RuntimeWarning: Glyph 53944 missing from current font.\n",
      "  font.set_text(s, 0.0, flags=flags)\n",
      "/home/henry/anaconda3/envs/pension/lib/python3.8/site-packages/matplotlib/backends/backend_agg.py:238: RuntimeWarning: Glyph 52860 missing from current font.\n",
      "  font.set_text(s, 0.0, flags=flags)\n",
      "/home/henry/anaconda3/envs/pension/lib/python3.8/site-packages/matplotlib/backends/backend_agg.py:238: RuntimeWarning: Glyph 46972 missing from current font.\n",
      "  font.set_text(s, 0.0, flags=flags)\n",
      "/home/henry/anaconda3/envs/pension/lib/python3.8/site-packages/matplotlib/backends/backend_agg.py:238: RuntimeWarning: Glyph 48660 missing from current font.\n",
      "  font.set_text(s, 0.0, flags=flags)\n",
      "/home/henry/anaconda3/envs/pension/lib/python3.8/site-packages/matplotlib/backends/backend_agg.py:238: RuntimeWarning: Glyph 47336 missing from current font.\n",
      "  font.set_text(s, 0.0, flags=flags)\n",
      "/home/henry/anaconda3/envs/pension/lib/python3.8/site-packages/matplotlib/backends/backend_agg.py:201: RuntimeWarning: Glyph 54868 missing from current font.\n",
      "  font.set_text(s, 0, flags=flags)\n",
      "/home/henry/anaconda3/envs/pension/lib/python3.8/site-packages/matplotlib/backends/backend_agg.py:201: RuntimeWarning: Glyph 51060 missing from current font.\n",
      "  font.set_text(s, 0, flags=flags)\n",
      "/home/henry/anaconda3/envs/pension/lib/python3.8/site-packages/matplotlib/backends/backend_agg.py:201: RuntimeWarning: Glyph 53944 missing from current font.\n",
      "  font.set_text(s, 0, flags=flags)\n",
      "/home/henry/anaconda3/envs/pension/lib/python3.8/site-packages/matplotlib/backends/backend_agg.py:201: RuntimeWarning: Glyph 52860 missing from current font.\n",
      "  font.set_text(s, 0, flags=flags)\n",
      "/home/henry/anaconda3/envs/pension/lib/python3.8/site-packages/matplotlib/backends/backend_agg.py:201: RuntimeWarning: Glyph 46972 missing from current font.\n",
      "  font.set_text(s, 0, flags=flags)\n",
      "/home/henry/anaconda3/envs/pension/lib/python3.8/site-packages/matplotlib/backends/backend_agg.py:201: RuntimeWarning: Glyph 48660 missing from current font.\n",
      "  font.set_text(s, 0, flags=flags)\n",
      "/home/henry/anaconda3/envs/pension/lib/python3.8/site-packages/matplotlib/backends/backend_agg.py:201: RuntimeWarning: Glyph 47336 missing from current font.\n",
      "  font.set_text(s, 0, flags=flags)\n"
     ]
    },
    {
     "data": {
      "image/png": "[encoded data removed]",
      "text/plain": [
       "<Figure size 432x288 with 1 Axes>"
      ]
     },
     "metadata": {
      "needs_background": "light"
     },
     "output_type": "display_data"
    }
   ],
   "source": [
    "dfG1_1970['jtype'].hist()"
   ]
  },
  {
   "cell_type": "code",
   "execution_count": 261,
   "id": "9c0fdea3",
   "metadata": {},
   "outputs": [
    {
     "data": {
      "text/plain": [
       "<AxesSubplot:>"
      ]
     },
     "execution_count": 261,
     "metadata": {},
     "output_type": "execute_result"
    },
    {
     "data": {
      "image/png": "[encoded data removed]",
      "text/plain": [
       "<Figure size 432x288 with 1 Axes>"
      ]
     },
     "metadata": {
      "needs_background": "light"
     },
     "output_type": "display_data"
    }
   ],
   "source": [
    "dfG1_1970[dfG1_1970['jtype']=='블루 칼라']['p220110'].hist()"
   ]
  },
  {
   "cell_type": "code",
   "execution_count": 262,
   "id": "9fca5a39",
   "metadata": {},
   "outputs": [
    {
     "data": {
      "text/plain": [
       "<AxesSubplot:>"
      ]
     },
     "execution_count": 262,
     "metadata": {},
     "output_type": "execute_result"
    },
    {
     "data": {
      "image/png": "[encoded data removed]",
      "text/plain": [
       "<Figure size 432x288 with 1 Axes>"
      ]
     },
     "metadata": {
      "needs_background": "light"
     },
     "output_type": "display_data"
    }
   ],
   "source": [
    "dfG1_1970[dfG1_1970['jtype']=='화이트 칼라']['p220110'].hist()"
   ]
  },
  {
   "cell_type": "code",
   "execution_count": 263,
   "id": "afaf511c",
   "metadata": {},
   "outputs": [],
   "source": [
    "dfG1_1970 = dfCohort1970[(dfCohort1970['fsize2'] == '소기업') & (dfCohort1970['성별'] == '남성') & (dfCohort1970['jtype'] == '블루 칼라')]"
   ]
  },
  {
   "cell_type": "code",
   "execution_count": 264,
   "id": "cf1bd560",
   "metadata": {},
   "outputs": [],
   "source": [
    "dfG2_1970 = dfCohort1970[(dfCohort1970['fsize2'] == '소기업') & (dfCohort1970['성별'] == '남성') & (dfCohort1970['jtype'] == '화이트 칼라')]"
   ]
  },
  {
   "cell_type": "code",
   "execution_count": 265,
   "id": "80dc5bfd",
   "metadata": {},
   "outputs": [
    {
     "data": {
      "text/plain": [
       "19"
      ]
     },
     "execution_count": 265,
     "metadata": {},
     "output_type": "execute_result"
    }
   ],
   "source": [
    "len(dfG1_1970)"
   ]
  },
  {
   "cell_type": "code",
   "execution_count": 266,
   "id": "b7bf899b",
   "metadata": {},
   "outputs": [
    {
     "data": {
      "text/html": [
       "<div>\n",
       "<style scoped>\n",
       "    .dataframe tbody tr th:only-of-type {\n",
       "        vertical-align: middle;\n",
       "    }\n",
       "\n",
       "    .dataframe tbody tr th {\n",
       "        vertical-align: top;\n",
       "    }\n",
       "\n",
       "    .dataframe thead th {\n",
       "        text-align: right;\n",
       "    }\n",
       "</style>\n",
       "<table border=\"1\" class=\"dataframe\">\n",
       "  <thead>\n",
       "    <tr style=\"text-align: right;\">\n",
       "      <th></th>\n",
       "      <th>mwage</th>\n",
       "      <th>jtype</th>\n",
       "      <th>jtype2</th>\n",
       "      <th>p220110</th>\n",
       "      <th>p222504</th>\n",
       "    </tr>\n",
       "  </thead>\n",
       "  <tbody>\n",
       "    <tr>\n",
       "      <th>1325</th>\n",
       "      <td>670.0</td>\n",
       "      <td>블루 칼라</td>\n",
       "      <td>상용직</td>\n",
       "      <td>7</td>\n",
       "      <td>2.0</td>\n",
       "    </tr>\n",
       "    <tr>\n",
       "      <th>1415</th>\n",
       "      <td>370.0</td>\n",
       "      <td>블루 칼라</td>\n",
       "      <td>상용직</td>\n",
       "      <td>5</td>\n",
       "      <td>2.0</td>\n",
       "    </tr>\n",
       "    <tr>\n",
       "      <th>2954</th>\n",
       "      <td>250.0</td>\n",
       "      <td>블루 칼라</td>\n",
       "      <td>상용직</td>\n",
       "      <td>6</td>\n",
       "      <td>1.0</td>\n",
       "    </tr>\n",
       "    <tr>\n",
       "      <th>3785</th>\n",
       "      <td>300.0</td>\n",
       "      <td>블루 칼라</td>\n",
       "      <td>상용직</td>\n",
       "      <td>5</td>\n",
       "      <td>2.0</td>\n",
       "    </tr>\n",
       "    <tr>\n",
       "      <th>3789</th>\n",
       "      <td>450.0</td>\n",
       "      <td>블루 칼라</td>\n",
       "      <td>상용직</td>\n",
       "      <td>6</td>\n",
       "      <td>2.0</td>\n",
       "    </tr>\n",
       "    <tr>\n",
       "      <th>3885</th>\n",
       "      <td>400.0</td>\n",
       "      <td>블루 칼라</td>\n",
       "      <td>상용직</td>\n",
       "      <td>7</td>\n",
       "      <td>2.0</td>\n",
       "    </tr>\n",
       "    <tr>\n",
       "      <th>4545</th>\n",
       "      <td>382.0</td>\n",
       "      <td>블루 칼라</td>\n",
       "      <td>상용직</td>\n",
       "      <td>5</td>\n",
       "      <td>2.0</td>\n",
       "    </tr>\n",
       "    <tr>\n",
       "      <th>8954</th>\n",
       "      <td>250.0</td>\n",
       "      <td>블루 칼라</td>\n",
       "      <td>상용직</td>\n",
       "      <td>6</td>\n",
       "      <td>2.0</td>\n",
       "    </tr>\n",
       "    <tr>\n",
       "      <th>10645</th>\n",
       "      <td>300.0</td>\n",
       "      <td>블루 칼라</td>\n",
       "      <td>상용직</td>\n",
       "      <td>6</td>\n",
       "      <td>2.0</td>\n",
       "    </tr>\n",
       "    <tr>\n",
       "      <th>11909</th>\n",
       "      <td>350.0</td>\n",
       "      <td>블루 칼라</td>\n",
       "      <td>임시일용직</td>\n",
       "      <td>5</td>\n",
       "      <td>2.0</td>\n",
       "    </tr>\n",
       "    <tr>\n",
       "      <th>13550</th>\n",
       "      <td>150.0</td>\n",
       "      <td>블루 칼라</td>\n",
       "      <td>상용직</td>\n",
       "      <td>5</td>\n",
       "      <td>2.0</td>\n",
       "    </tr>\n",
       "    <tr>\n",
       "      <th>15458</th>\n",
       "      <td>450.0</td>\n",
       "      <td>블루 칼라</td>\n",
       "      <td>임시일용직</td>\n",
       "      <td>5</td>\n",
       "      <td>2.0</td>\n",
       "    </tr>\n",
       "    <tr>\n",
       "      <th>16632</th>\n",
       "      <td>350.0</td>\n",
       "      <td>블루 칼라</td>\n",
       "      <td>상용직</td>\n",
       "      <td>5</td>\n",
       "      <td>2.0</td>\n",
       "    </tr>\n",
       "    <tr>\n",
       "      <th>16724</th>\n",
       "      <td>250.0</td>\n",
       "      <td>블루 칼라</td>\n",
       "      <td>상용직</td>\n",
       "      <td>5</td>\n",
       "      <td>2.0</td>\n",
       "    </tr>\n",
       "    <tr>\n",
       "      <th>18531</th>\n",
       "      <td>250.0</td>\n",
       "      <td>블루 칼라</td>\n",
       "      <td>상용직</td>\n",
       "      <td>5</td>\n",
       "      <td>2.0</td>\n",
       "    </tr>\n",
       "    <tr>\n",
       "      <th>21399</th>\n",
       "      <td>260.0</td>\n",
       "      <td>블루 칼라</td>\n",
       "      <td>상용직</td>\n",
       "      <td>5</td>\n",
       "      <td>2.0</td>\n",
       "    </tr>\n",
       "    <tr>\n",
       "      <th>21759</th>\n",
       "      <td>330.0</td>\n",
       "      <td>블루 칼라</td>\n",
       "      <td>상용직</td>\n",
       "      <td>5</td>\n",
       "      <td>2.0</td>\n",
       "    </tr>\n",
       "    <tr>\n",
       "      <th>21779</th>\n",
       "      <td>250.0</td>\n",
       "      <td>블루 칼라</td>\n",
       "      <td>상용직</td>\n",
       "      <td>5</td>\n",
       "      <td>2.0</td>\n",
       "    </tr>\n",
       "    <tr>\n",
       "      <th>22897</th>\n",
       "      <td>180.0</td>\n",
       "      <td>블루 칼라</td>\n",
       "      <td>상용직</td>\n",
       "      <td>4</td>\n",
       "      <td>2.0</td>\n",
       "    </tr>\n",
       "  </tbody>\n",
       "</table>\n",
       "</div>"
      ],
      "text/plain": [
       "       mwage  jtype jtype2  p220110  p222504\n",
       "1325   670.0  블루 칼라    상용직        7      2.0\n",
       "1415   370.0  블루 칼라    상용직        5      2.0\n",
       "2954   250.0  블루 칼라    상용직        6      1.0\n",
       "3785   300.0  블루 칼라    상용직        5      2.0\n",
       "3789   450.0  블루 칼라    상용직        6      2.0\n",
       "3885   400.0  블루 칼라    상용직        7      2.0\n",
       "4545   382.0  블루 칼라    상용직        5      2.0\n",
       "8954   250.0  블루 칼라    상용직        6      2.0\n",
       "10645  300.0  블루 칼라    상용직        6      2.0\n",
       "11909  350.0  블루 칼라  임시일용직        5      2.0\n",
       "13550  150.0  블루 칼라    상용직        5      2.0\n",
       "15458  450.0  블루 칼라  임시일용직        5      2.0\n",
       "16632  350.0  블루 칼라    상용직        5      2.0\n",
       "16724  250.0  블루 칼라    상용직        5      2.0\n",
       "18531  250.0  블루 칼라    상용직        5      2.0\n",
       "21399  260.0  블루 칼라    상용직        5      2.0\n",
       "21759  330.0  블루 칼라    상용직        5      2.0\n",
       "21779  250.0  블루 칼라    상용직        5      2.0\n",
       "22897  180.0  블루 칼라    상용직        4      2.0"
      ]
     },
     "execution_count": 266,
     "metadata": {},
     "output_type": "execute_result"
    }
   ],
   "source": [
    "dfG1_1970[['mwage', 'jtype', 'jtype2', 'p220110', 'p222504']]"
   ]
  },
  {
   "cell_type": "code",
   "execution_count": 267,
   "id": "582d73d8",
   "metadata": {},
   "outputs": [
    {
     "data": {
      "text/plain": [
       "mwage      300.0\n",
       "p220110      5.0\n",
       "p222504      2.0\n",
       "dtype: float64"
      ]
     },
     "execution_count": 267,
     "metadata": {},
     "output_type": "execute_result"
    }
   ],
   "source": [
    "dfG1_1970[['mwage', 'jtype', 'jtype2', 'p220110', 'p222504']].median()"
   ]
  },
  {
   "cell_type": "code",
   "execution_count": 268,
   "id": "774310e3",
   "metadata": {},
   "outputs": [],
   "source": [
    "G1 = {'구분': '집단1', '성별': '남성', '기업규모': '소기업', '평균임금': 300.0, '종사상지위': '상용직', '교육수준': '고졸', '직종': '블루 칼라', '노조가입여부': '무노조'}"
   ]
  },
  {
   "cell_type": "code",
   "execution_count": 269,
   "id": "24c08c87",
   "metadata": {},
   "outputs": [
    {
     "data": {
      "text/plain": [
       "16"
      ]
     },
     "execution_count": 269,
     "metadata": {},
     "output_type": "execute_result"
    }
   ],
   "source": [
    "len(dfG2_1970)"
   ]
  },
  {
   "cell_type": "code",
   "execution_count": 270,
   "id": "d96cf25f",
   "metadata": {},
   "outputs": [
    {
     "data": {
      "text/html": [
       "<div>\n",
       "<style scoped>\n",
       "    .dataframe tbody tr th:only-of-type {\n",
       "        vertical-align: middle;\n",
       "    }\n",
       "\n",
       "    .dataframe tbody tr th {\n",
       "        vertical-align: top;\n",
       "    }\n",
       "\n",
       "    .dataframe thead th {\n",
       "        text-align: right;\n",
       "    }\n",
       "</style>\n",
       "<table border=\"1\" class=\"dataframe\">\n",
       "  <thead>\n",
       "    <tr style=\"text-align: right;\">\n",
       "      <th></th>\n",
       "      <th>mwage</th>\n",
       "      <th>jtype</th>\n",
       "      <th>jtype2</th>\n",
       "      <th>p220110</th>\n",
       "      <th>p222504</th>\n",
       "    </tr>\n",
       "  </thead>\n",
       "  <tbody>\n",
       "    <tr>\n",
       "      <th>917</th>\n",
       "      <td>300.0</td>\n",
       "      <td>화이트 칼라</td>\n",
       "      <td>상용직</td>\n",
       "      <td>5</td>\n",
       "      <td>2.0</td>\n",
       "    </tr>\n",
       "    <tr>\n",
       "      <th>1080</th>\n",
       "      <td>500.0</td>\n",
       "      <td>화이트 칼라</td>\n",
       "      <td>상용직</td>\n",
       "      <td>7</td>\n",
       "      <td>2.0</td>\n",
       "    </tr>\n",
       "    <tr>\n",
       "      <th>4808</th>\n",
       "      <td>348.0</td>\n",
       "      <td>화이트 칼라</td>\n",
       "      <td>상용직</td>\n",
       "      <td>5</td>\n",
       "      <td>2.0</td>\n",
       "    </tr>\n",
       "    <tr>\n",
       "      <th>6804</th>\n",
       "      <td>328.0</td>\n",
       "      <td>화이트 칼라</td>\n",
       "      <td>상용직</td>\n",
       "      <td>5</td>\n",
       "      <td>2.0</td>\n",
       "    </tr>\n",
       "    <tr>\n",
       "      <th>8449</th>\n",
       "      <td>350.0</td>\n",
       "      <td>화이트 칼라</td>\n",
       "      <td>상용직</td>\n",
       "      <td>7</td>\n",
       "      <td>2.0</td>\n",
       "    </tr>\n",
       "    <tr>\n",
       "      <th>9880</th>\n",
       "      <td>330.0</td>\n",
       "      <td>화이트 칼라</td>\n",
       "      <td>상용직</td>\n",
       "      <td>6</td>\n",
       "      <td>1.0</td>\n",
       "    </tr>\n",
       "    <tr>\n",
       "      <th>10303</th>\n",
       "      <td>120.0</td>\n",
       "      <td>화이트 칼라</td>\n",
       "      <td>상용직</td>\n",
       "      <td>8</td>\n",
       "      <td>2.0</td>\n",
       "    </tr>\n",
       "    <tr>\n",
       "      <th>10318</th>\n",
       "      <td>450.0</td>\n",
       "      <td>화이트 칼라</td>\n",
       "      <td>상용직</td>\n",
       "      <td>7</td>\n",
       "      <td>2.0</td>\n",
       "    </tr>\n",
       "    <tr>\n",
       "      <th>10541</th>\n",
       "      <td>350.0</td>\n",
       "      <td>화이트 칼라</td>\n",
       "      <td>상용직</td>\n",
       "      <td>7</td>\n",
       "      <td>2.0</td>\n",
       "    </tr>\n",
       "    <tr>\n",
       "      <th>10791</th>\n",
       "      <td>250.0</td>\n",
       "      <td>화이트 칼라</td>\n",
       "      <td>상용직</td>\n",
       "      <td>5</td>\n",
       "      <td>2.0</td>\n",
       "    </tr>\n",
       "    <tr>\n",
       "      <th>10971</th>\n",
       "      <td>300.0</td>\n",
       "      <td>화이트 칼라</td>\n",
       "      <td>상용직</td>\n",
       "      <td>6</td>\n",
       "      <td>2.0</td>\n",
       "    </tr>\n",
       "    <tr>\n",
       "      <th>14262</th>\n",
       "      <td>310.0</td>\n",
       "      <td>화이트 칼라</td>\n",
       "      <td>상용직</td>\n",
       "      <td>5</td>\n",
       "      <td>2.0</td>\n",
       "    </tr>\n",
       "    <tr>\n",
       "      <th>17827</th>\n",
       "      <td>280.0</td>\n",
       "      <td>화이트 칼라</td>\n",
       "      <td>상용직</td>\n",
       "      <td>7</td>\n",
       "      <td>2.0</td>\n",
       "    </tr>\n",
       "    <tr>\n",
       "      <th>18896</th>\n",
       "      <td>420.0</td>\n",
       "      <td>화이트 칼라</td>\n",
       "      <td>상용직</td>\n",
       "      <td>7</td>\n",
       "      <td>2.0</td>\n",
       "    </tr>\n",
       "    <tr>\n",
       "      <th>19437</th>\n",
       "      <td>500.0</td>\n",
       "      <td>화이트 칼라</td>\n",
       "      <td>상용직</td>\n",
       "      <td>7</td>\n",
       "      <td>2.0</td>\n",
       "    </tr>\n",
       "    <tr>\n",
       "      <th>23176</th>\n",
       "      <td>480.0</td>\n",
       "      <td>화이트 칼라</td>\n",
       "      <td>상용직</td>\n",
       "      <td>6</td>\n",
       "      <td>2.0</td>\n",
       "    </tr>\n",
       "  </tbody>\n",
       "</table>\n",
       "</div>"
      ],
      "text/plain": [
       "       mwage   jtype jtype2  p220110  p222504\n",
       "917    300.0  화이트 칼라    상용직        5      2.0\n",
       "1080   500.0  화이트 칼라    상용직        7      2.0\n",
       "4808   348.0  화이트 칼라    상용직        5      2.0\n",
       "6804   328.0  화이트 칼라    상용직        5      2.0\n",
       "8449   350.0  화이트 칼라    상용직        7      2.0\n",
       "9880   330.0  화이트 칼라    상용직        6      1.0\n",
       "10303  120.0  화이트 칼라    상용직        8      2.0\n",
       "10318  450.0  화이트 칼라    상용직        7      2.0\n",
       "10541  350.0  화이트 칼라    상용직        7      2.0\n",
       "10791  250.0  화이트 칼라    상용직        5      2.0\n",
       "10971  300.0  화이트 칼라    상용직        6      2.0\n",
       "14262  310.0  화이트 칼라    상용직        5      2.0\n",
       "17827  280.0  화이트 칼라    상용직        7      2.0\n",
       "18896  420.0  화이트 칼라    상용직        7      2.0\n",
       "19437  500.0  화이트 칼라    상용직        7      2.0\n",
       "23176  480.0  화이트 칼라    상용직        6      2.0"
      ]
     },
     "execution_count": 270,
     "metadata": {},
     "output_type": "execute_result"
    }
   ],
   "source": [
    "dfG2_1970[['mwage', 'jtype', 'jtype2', 'p220110', 'p222504']]"
   ]
  },
  {
   "cell_type": "code",
   "execution_count": 271,
   "id": "145a6337",
   "metadata": {},
   "outputs": [
    {
     "data": {
      "text/plain": [
       "mwage      339.0\n",
       "p220110      6.5\n",
       "p222504      2.0\n",
       "dtype: float64"
      ]
     },
     "execution_count": 271,
     "metadata": {},
     "output_type": "execute_result"
    }
   ],
   "source": [
    "dfG2_1970[['mwage', 'jtype', 'jtype2', 'p220110', 'p222504']].median()"
   ]
  },
  {
   "cell_type": "code",
   "execution_count": 272,
   "id": "4ee57c4b",
   "metadata": {},
   "outputs": [],
   "source": [
    "G2 = {'구분': '집단2', '성별': '남성', '기업규모': '소기업', '평균임금': 339.0, '종사상지위': '상용직', '교육수준': '4년제 대졸', '직종': '화이트 칼라', '노조가입여부': '무노조'}"
   ]
  },
  {
   "cell_type": "code",
   "execution_count": 273,
   "id": "0515d3c9",
   "metadata": {},
   "outputs": [
    {
     "name": "stdout",
     "output_type": "stream",
     "text": [
      "{'구분': ['집단1', '집단2', '집단3', '집단4'], '성별': ['남성', '남성', '남성', '남성'], '기업규모': ['소기업', '소기업', '중기업', '중기업'], '평균임금': [300.0, 339.0, 440.0, 480.0], '종사상지위': ['상용직', '상용직', '상용직', '상용직'], '교육수준': ['고졸', '4년제 대졸', '고졸', '4년제 대졸'], '직종': ['블루 칼라', '화이트 칼라', '블루 칼라', '화이트 칼라'], '노조가입여부': ['무노조', '무노조', '무노조', '무노조']}\n"
     ]
    }
   ],
   "source": [
    "G = dict()\n",
    "for key in G1:\n",
    "    for dct in [G1, G2, G3, G4]:\n",
    "        if key in G:\n",
    "            G[key].append(dct[key])\n",
    "        else:\n",
    "            G[key] = [dct[key]]\n",
    "print(G)"
   ]
  },
  {
   "cell_type": "code",
   "execution_count": 274,
   "id": "a4f58977",
   "metadata": {},
   "outputs": [
    {
     "data": {
      "text/html": [
       "<div>\n",
       "<style scoped>\n",
       "    .dataframe tbody tr th:only-of-type {\n",
       "        vertical-align: middle;\n",
       "    }\n",
       "\n",
       "    .dataframe tbody tr th {\n",
       "        vertical-align: top;\n",
       "    }\n",
       "\n",
       "    .dataframe thead th {\n",
       "        text-align: right;\n",
       "    }\n",
       "</style>\n",
       "<table border=\"1\" class=\"dataframe\">\n",
       "  <thead>\n",
       "    <tr style=\"text-align: right;\">\n",
       "      <th></th>\n",
       "      <th>구분</th>\n",
       "      <th>성별</th>\n",
       "      <th>기업규모</th>\n",
       "      <th>평균임금</th>\n",
       "      <th>종사상지위</th>\n",
       "      <th>교육수준</th>\n",
       "      <th>직종</th>\n",
       "      <th>노조가입여부</th>\n",
       "    </tr>\n",
       "  </thead>\n",
       "  <tbody>\n",
       "    <tr>\n",
       "      <th>0</th>\n",
       "      <td>집단1</td>\n",
       "      <td>남성</td>\n",
       "      <td>소기업</td>\n",
       "      <td>300.0</td>\n",
       "      <td>상용직</td>\n",
       "      <td>고졸</td>\n",
       "      <td>블루 칼라</td>\n",
       "      <td>무노조</td>\n",
       "    </tr>\n",
       "    <tr>\n",
       "      <th>1</th>\n",
       "      <td>집단2</td>\n",
       "      <td>남성</td>\n",
       "      <td>소기업</td>\n",
       "      <td>339.0</td>\n",
       "      <td>상용직</td>\n",
       "      <td>4년제 대졸</td>\n",
       "      <td>화이트 칼라</td>\n",
       "      <td>무노조</td>\n",
       "    </tr>\n",
       "    <tr>\n",
       "      <th>2</th>\n",
       "      <td>집단3</td>\n",
       "      <td>남성</td>\n",
       "      <td>중기업</td>\n",
       "      <td>440.0</td>\n",
       "      <td>상용직</td>\n",
       "      <td>고졸</td>\n",
       "      <td>블루 칼라</td>\n",
       "      <td>무노조</td>\n",
       "    </tr>\n",
       "    <tr>\n",
       "      <th>3</th>\n",
       "      <td>집단4</td>\n",
       "      <td>남성</td>\n",
       "      <td>중기업</td>\n",
       "      <td>480.0</td>\n",
       "      <td>상용직</td>\n",
       "      <td>4년제 대졸</td>\n",
       "      <td>화이트 칼라</td>\n",
       "      <td>무노조</td>\n",
       "    </tr>\n",
       "  </tbody>\n",
       "</table>\n",
       "</div>"
      ],
      "text/plain": [
       "    구분  성별 기업규모   평균임금 종사상지위    교육수준      직종 노조가입여부\n",
       "0  집단1  남성  소기업  300.0   상용직      고졸   블루 칼라    무노조\n",
       "1  집단2  남성  소기업  339.0   상용직  4년제 대졸  화이트 칼라    무노조\n",
       "2  집단3  남성  중기업  440.0   상용직      고졸   블루 칼라    무노조\n",
       "3  집단4  남성  중기업  480.0   상용직  4년제 대졸  화이트 칼라    무노조"
      ]
     },
     "execution_count": 274,
     "metadata": {},
     "output_type": "execute_result"
    }
   ],
   "source": [
    "pd.DataFrame.from_dict(G)"
   ]
  },
  {
   "cell_type": "code",
   "execution_count": null,
   "id": "6ef550ac",
   "metadata": {},
   "outputs": [],
   "source": []
  },
  {
   "cell_type": "code",
   "execution_count": null,
   "id": "52739520",
   "metadata": {},
   "outputs": [],
   "source": []
  },
  {
   "cell_type": "code",
   "execution_count": null,
   "id": "2315ab13",
   "metadata": {},
   "outputs": [],
   "source": []
  },
  {
   "cell_type": "code",
   "execution_count": null,
   "id": "7a8a991e",
   "metadata": {},
   "outputs": [],
   "source": []
  },
  {
   "cell_type": "code",
   "execution_count": 275,
   "id": "ddeea794",
   "metadata": {},
   "outputs": [],
   "source": [
    "# 1980년생 전일제 임금근로자 중 관리사무직, 숙련직 종사자\n",
    "dfCohort1980 = df22p[(df22p['p220104'] == 1980) & (df22p['p220211'] == 1) & (df22p['p220315'] == 2) & (df22p['p220314'] >= 1) & (df22p['p220314'] <= 3) & ((df22p['jtype'] == '블루 칼라') | (df22p['jtype'] == '화이트 칼라'))]"
   ]
  },
  {
   "cell_type": "code",
   "execution_count": 276,
   "id": "a13a8735",
   "metadata": {},
   "outputs": [
    {
     "data": {
      "text/plain": [
       "215"
      ]
     },
     "execution_count": 276,
     "metadata": {},
     "output_type": "execute_result"
    }
   ],
   "source": [
    "len(dfCohort1980)"
   ]
  },
  {
   "cell_type": "code",
   "execution_count": 277,
   "id": "7b027852",
   "metadata": {},
   "outputs": [
    {
     "data": {
      "text/html": [
       "<div>\n",
       "<style scoped>\n",
       "    .dataframe tbody tr th:only-of-type {\n",
       "        vertical-align: middle;\n",
       "    }\n",
       "\n",
       "    .dataframe tbody tr th {\n",
       "        vertical-align: top;\n",
       "    }\n",
       "\n",
       "    .dataframe thead tr th {\n",
       "        text-align: left;\n",
       "    }\n",
       "\n",
       "    .dataframe thead tr:last-of-type th {\n",
       "        text-align: right;\n",
       "    }\n",
       "</style>\n",
       "<table border=\"1\" class=\"dataframe\">\n",
       "  <thead>\n",
       "    <tr>\n",
       "      <th>jtype2</th>\n",
       "      <th colspan=\"2\" halign=\"left\">상용직</th>\n",
       "      <th colspan=\"2\" halign=\"left\">임시일용직</th>\n",
       "    </tr>\n",
       "    <tr>\n",
       "      <th>jtype</th>\n",
       "      <th>블루 칼라</th>\n",
       "      <th>화이트 칼라</th>\n",
       "      <th>블루 칼라</th>\n",
       "      <th>화이트 칼라</th>\n",
       "    </tr>\n",
       "    <tr>\n",
       "      <th>p220101</th>\n",
       "      <th></th>\n",
       "      <th></th>\n",
       "      <th></th>\n",
       "      <th></th>\n",
       "    </tr>\n",
       "  </thead>\n",
       "  <tbody>\n",
       "    <tr>\n",
       "      <th>1</th>\n",
       "      <td>44.0</td>\n",
       "      <td>102.0</td>\n",
       "      <td>4.0</td>\n",
       "      <td>1.0</td>\n",
       "    </tr>\n",
       "    <tr>\n",
       "      <th>2</th>\n",
       "      <td>2.0</td>\n",
       "      <td>60.0</td>\n",
       "      <td>0.0</td>\n",
       "      <td>2.0</td>\n",
       "    </tr>\n",
       "  </tbody>\n",
       "</table>\n",
       "</div>"
      ],
      "text/plain": [
       "jtype2    상용직        임시일용직       \n",
       "jtype   블루 칼라 화이트 칼라 블루 칼라 화이트 칼라\n",
       "p220101                          \n",
       "1        44.0  102.0   4.0    1.0\n",
       "2         2.0   60.0   0.0    2.0"
      ]
     },
     "execution_count": 277,
     "metadata": {},
     "output_type": "execute_result"
    }
   ],
   "source": [
    "dfCohort1980.groupby(['p220101', 'jtype', 'jtype2'])['pid'].count().unstack().unstack().fillna(0)"
   ]
  },
  {
   "cell_type": "code",
   "execution_count": 278,
   "id": "cc33000b",
   "metadata": {},
   "outputs": [],
   "source": [
    "# 1990년생 전일제 임금근로자 중 관리사무직, 숙련직 종사자\n",
    "dfCohort1990 = df22p[(df22p['p220104'] == 1990) & (df22p['p220211'] == 1) & (df22p['p220315'] == 2) & (df22p['p220314'] >= 1) & (df22p['p220314'] <= 3) & ((df22p['jtype'] == '블루 칼라') | (df22p['jtype'] == '화이트 칼라'))]"
   ]
  },
  {
   "cell_type": "code",
   "execution_count": 279,
   "id": "a6f83ba7",
   "metadata": {},
   "outputs": [
    {
     "data": {
      "text/plain": [
       "102"
      ]
     },
     "execution_count": 279,
     "metadata": {},
     "output_type": "execute_result"
    }
   ],
   "source": [
    "len(dfCohort1990)"
   ]
  },
  {
   "cell_type": "code",
   "execution_count": 280,
   "id": "b8d696b4",
   "metadata": {},
   "outputs": [
    {
     "data": {
      "text/html": [
       "<div>\n",
       "<style scoped>\n",
       "    .dataframe tbody tr th:only-of-type {\n",
       "        vertical-align: middle;\n",
       "    }\n",
       "\n",
       "    .dataframe tbody tr th {\n",
       "        vertical-align: top;\n",
       "    }\n",
       "\n",
       "    .dataframe thead tr th {\n",
       "        text-align: left;\n",
       "    }\n",
       "\n",
       "    .dataframe thead tr:last-of-type th {\n",
       "        text-align: right;\n",
       "    }\n",
       "</style>\n",
       "<table border=\"1\" class=\"dataframe\">\n",
       "  <thead>\n",
       "    <tr>\n",
       "      <th>jtype2</th>\n",
       "      <th colspan=\"2\" halign=\"left\">상용직</th>\n",
       "      <th colspan=\"2\" halign=\"left\">임시일용직</th>\n",
       "    </tr>\n",
       "    <tr>\n",
       "      <th>jtype</th>\n",
       "      <th>블루 칼라</th>\n",
       "      <th>화이트 칼라</th>\n",
       "      <th>블루 칼라</th>\n",
       "      <th>화이트 칼라</th>\n",
       "    </tr>\n",
       "    <tr>\n",
       "      <th>성별</th>\n",
       "      <th></th>\n",
       "      <th></th>\n",
       "      <th></th>\n",
       "      <th></th>\n",
       "    </tr>\n",
       "  </thead>\n",
       "  <tbody>\n",
       "    <tr>\n",
       "      <th>남성</th>\n",
       "      <td>22.0</td>\n",
       "      <td>32.0</td>\n",
       "      <td>1.0</td>\n",
       "      <td>1.0</td>\n",
       "    </tr>\n",
       "    <tr>\n",
       "      <th>여성</th>\n",
       "      <td>2.0</td>\n",
       "      <td>41.0</td>\n",
       "      <td>0.0</td>\n",
       "      <td>3.0</td>\n",
       "    </tr>\n",
       "  </tbody>\n",
       "</table>\n",
       "</div>"
      ],
      "text/plain": [
       "jtype2   상용직        임시일용직       \n",
       "jtype  블루 칼라 화이트 칼라 블루 칼라 화이트 칼라\n",
       "성별                              \n",
       "남성      22.0   32.0   1.0    1.0\n",
       "여성       2.0   41.0   0.0    3.0"
      ]
     },
     "execution_count": 280,
     "metadata": {},
     "output_type": "execute_result"
    }
   ],
   "source": [
    "dfCohort1990.groupby(['성별', 'jtype', 'jtype2'])['pid'].count().unstack().unstack().fillna(0)"
   ]
  },
  {
   "cell_type": "code",
   "execution_count": null,
   "id": "da5c24e2",
   "metadata": {},
   "outputs": [],
   "source": []
  },
  {
   "cell_type": "code",
   "execution_count": null,
   "id": "83a67b55",
   "metadata": {},
   "outputs": [],
   "source": []
  }
 ],
 "metadata": {
  "kernelspec": {
   "display_name": "Python 3 (ipykernel)",
   "language": "python",
   "name": "python3"
  },
  "language_info": {
   "codemirror_mode": {
    "name": "ipython",
    "version": 3
   },
   "file_extension": ".py",
   "mimetype": "text/x-python",
   "name": "python",
   "nbconvert_exporter": "python",
   "pygments_lexer": "ipython3",
   "version": "3.8.10"
  }
 },
 "nbformat": 4,
 "nbformat_minor": 5
}
